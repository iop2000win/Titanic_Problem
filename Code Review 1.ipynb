{
 "cells": [
  {
   "cell_type": "code",
   "execution_count": 1,
   "metadata": {},
   "outputs": [],
   "source": [
    "# data analysis and wrangling\n",
    "import pandas as pd #pandas판다스\n",
    "import os\n",
    "import numpy as np #넘파이 - 벡터 연산을 도와준다.\n",
    "import random as rand\n",
    "import warnings\n",
    "warnings.filterwarnings('ignore')\n",
    "\n",
    "# visualization\n",
    "\n",
    "import matplotlib.pyplot as plt #matplotlib 매트 플롯 라이브러리 - 데이터 시각화에 이용\n",
    "import seaborn as sns #시본 - 데이터 시각화에 이용.\n",
    "%matplotlib inline\n",
    "\n",
    "# machine learning\n",
    "\n",
    "from pandas import Series\n",
    "\n",
    "from scipy.stats import norm\n",
    "from sklearn.preprocessing import StandardScaler\n",
    "from scipy import stats\n",
    "\n",
    "from sklearn.linear_model import LogisticRegression\n",
    "from sklearn.svm import SVC, LinearSVC\n",
    "from sklearn.ensemble import RandomForestClassifier\n",
    "from sklearn.neighbors import KNeighborsClassifier\n",
    "from sklearn.naive_bayes import GaussianNB\n",
    "from sklearn.linear_model import Perceptron\n",
    "from sklearn.linear_model import SGDClassifier\n",
    "from sklearn.tree import DecisionTreeClassifier\n",
    "from sklearn import metrics\n",
    "from sklearn.model_selection import train_test_split"
   ]
  },
  {
   "cell_type": "markdown",
   "metadata": {},
   "source": [
    "# Acquire Data"
   ]
  },
  {
   "cell_type": "code",
   "execution_count": 2,
   "metadata": {},
   "outputs": [],
   "source": [
    "train_df = pd.read_csv(\"./Data/train.txt\", delimiter='\\t', header=0)\n",
    "test_df = pd.read_csv(\"./Data/test.txt\", delimiter='\\t', header=0)\n",
    "\n",
    "combine = [train_df, test_df]\n",
    "\n",
    "sample_submission = pd.read_csv(\"./Data/gender_submission.txt\", delimiter='\\t', header=0)"
   ]
  },
  {
   "cell_type": "code",
   "execution_count": 3,
   "metadata": {},
   "outputs": [
    {
     "data": {
      "text/plain": [
       "((891, 12), (418, 11), (418, 2))"
      ]
     },
     "execution_count": 3,
     "metadata": {},
     "output_type": "execute_result"
    }
   ],
   "source": [
    "train_df.shape, test_df.shape, sample_submission.shape"
   ]
  },
  {
   "cell_type": "markdown",
   "metadata": {},
   "source": [
    "# Analyze by describing data"
   ]
  },
  {
   "cell_type": "code",
   "execution_count": 4,
   "metadata": {},
   "outputs": [
    {
     "name": "stdout",
     "output_type": "stream",
     "text": [
      "['PassengerId' 'Survived' 'Pclass' 'Name' 'Sex' 'Age' 'SibSp' 'Parch'\n",
      " 'Ticket' 'Fare' 'Cabin' 'Embarked']\n"
     ]
    }
   ],
   "source": [
    "print(train_df.columns.values)"
   ]
  },
  {
   "cell_type": "markdown",
   "metadata": {},
   "source": [
    "survival - 생존유무, target 값. (0 = 사망, 1 = 생존)  /  \n",
    "pclass - 티켓 클래스. (1 = 1st, 2 = 2nd, 3 = 3rd)  /  \n",
    "sex - 성별  /  \n",
    "Age - 나이(세)  /  \n",
    "sibsp - 함께 탑승한 형제자매, 배우자 수 총합  /  \n",
    "parch - 함께 탑승한 부모, 자녀 수 총합  /  \n",
    "ticket - 티켓 넘버  /  \n",
    "fare - 탑승 요금  /  \n",
    "cabin - 객실 넘버  /  \n",
    "bembarked - 탑승 항구  /  "
   ]
  },
  {
   "cell_type": "code",
   "execution_count": 5,
   "metadata": {},
   "outputs": [
    {
     "data": {
      "text/plain": [
       "PassengerId      int64\n",
       "Survived         int64\n",
       "Pclass           int64\n",
       "Name            object\n",
       "Sex             object\n",
       "Age            float64\n",
       "SibSp            int64\n",
       "Parch            int64\n",
       "Ticket          object\n",
       "Fare           float64\n",
       "Cabin           object\n",
       "Embarked        object\n",
       "dtype: object"
      ]
     },
     "execution_count": 5,
     "metadata": {},
     "output_type": "execute_result"
    }
   ],
   "source": [
    "train_df.dtypes"
   ]
  },
  {
   "cell_type": "markdown",
   "metadata": {},
   "source": [
    "### Categorical 과 Numerical(Continous) 의 구분\n",
    "\n",
    "categorical : Survived, Sex, Embarked, Pclass  /  \n",
    "continous : Age, Fare, SibSp, Parch  /  \n",
    "섞여있는 데이터도 구분해야 한다"
   ]
  },
  {
   "cell_type": "code",
   "execution_count": 6,
   "metadata": {},
   "outputs": [
    {
     "data": {
      "text/html": [
       "<div>\n",
       "<style scoped>\n",
       "    .dataframe tbody tr th:only-of-type {\n",
       "        vertical-align: middle;\n",
       "    }\n",
       "\n",
       "    .dataframe tbody tr th {\n",
       "        vertical-align: top;\n",
       "    }\n",
       "\n",
       "    .dataframe thead th {\n",
       "        text-align: right;\n",
       "    }\n",
       "</style>\n",
       "<table border=\"1\" class=\"dataframe\">\n",
       "  <thead>\n",
       "    <tr style=\"text-align: right;\">\n",
       "      <th></th>\n",
       "      <th>PassengerId</th>\n",
       "      <th>Survived</th>\n",
       "      <th>Pclass</th>\n",
       "      <th>Name</th>\n",
       "      <th>Sex</th>\n",
       "      <th>Age</th>\n",
       "      <th>SibSp</th>\n",
       "      <th>Parch</th>\n",
       "      <th>Ticket</th>\n",
       "      <th>Fare</th>\n",
       "      <th>Cabin</th>\n",
       "      <th>Embarked</th>\n",
       "    </tr>\n",
       "  </thead>\n",
       "  <tbody>\n",
       "    <tr>\n",
       "      <th>0</th>\n",
       "      <td>1</td>\n",
       "      <td>0</td>\n",
       "      <td>3</td>\n",
       "      <td>Braund, Mr. Owen Harris</td>\n",
       "      <td>male</td>\n",
       "      <td>22.0</td>\n",
       "      <td>1</td>\n",
       "      <td>0</td>\n",
       "      <td>A/5 21171</td>\n",
       "      <td>7.2500</td>\n",
       "      <td>NaN</td>\n",
       "      <td>S</td>\n",
       "    </tr>\n",
       "    <tr>\n",
       "      <th>1</th>\n",
       "      <td>2</td>\n",
       "      <td>1</td>\n",
       "      <td>1</td>\n",
       "      <td>Cumings, Mrs. John Bradley (Florence Briggs Th...</td>\n",
       "      <td>female</td>\n",
       "      <td>38.0</td>\n",
       "      <td>1</td>\n",
       "      <td>0</td>\n",
       "      <td>PC 17599</td>\n",
       "      <td>71.2833</td>\n",
       "      <td>C85</td>\n",
       "      <td>C</td>\n",
       "    </tr>\n",
       "    <tr>\n",
       "      <th>2</th>\n",
       "      <td>3</td>\n",
       "      <td>1</td>\n",
       "      <td>3</td>\n",
       "      <td>Heikkinen, Miss. Laina</td>\n",
       "      <td>female</td>\n",
       "      <td>26.0</td>\n",
       "      <td>0</td>\n",
       "      <td>0</td>\n",
       "      <td>STON/O2. 3101282</td>\n",
       "      <td>7.9250</td>\n",
       "      <td>NaN</td>\n",
       "      <td>S</td>\n",
       "    </tr>\n",
       "    <tr>\n",
       "      <th>3</th>\n",
       "      <td>4</td>\n",
       "      <td>1</td>\n",
       "      <td>1</td>\n",
       "      <td>Futrelle, Mrs. Jacques Heath (Lily May Peel)</td>\n",
       "      <td>female</td>\n",
       "      <td>35.0</td>\n",
       "      <td>1</td>\n",
       "      <td>0</td>\n",
       "      <td>113803</td>\n",
       "      <td>53.1000</td>\n",
       "      <td>C123</td>\n",
       "      <td>S</td>\n",
       "    </tr>\n",
       "    <tr>\n",
       "      <th>4</th>\n",
       "      <td>5</td>\n",
       "      <td>0</td>\n",
       "      <td>3</td>\n",
       "      <td>Allen, Mr. William Henry</td>\n",
       "      <td>male</td>\n",
       "      <td>35.0</td>\n",
       "      <td>0</td>\n",
       "      <td>0</td>\n",
       "      <td>373450</td>\n",
       "      <td>8.0500</td>\n",
       "      <td>NaN</td>\n",
       "      <td>S</td>\n",
       "    </tr>\n",
       "  </tbody>\n",
       "</table>\n",
       "</div>"
      ],
      "text/plain": [
       "   PassengerId  Survived  Pclass  \\\n",
       "0            1         0       3   \n",
       "1            2         1       1   \n",
       "2            3         1       3   \n",
       "3            4         1       1   \n",
       "4            5         0       3   \n",
       "\n",
       "                                                Name     Sex   Age  SibSp  \\\n",
       "0                            Braund, Mr. Owen Harris    male  22.0      1   \n",
       "1  Cumings, Mrs. John Bradley (Florence Briggs Th...  female  38.0      1   \n",
       "2                             Heikkinen, Miss. Laina  female  26.0      0   \n",
       "3       Futrelle, Mrs. Jacques Heath (Lily May Peel)  female  35.0      1   \n",
       "4                           Allen, Mr. William Henry    male  35.0      0   \n",
       "\n",
       "   Parch            Ticket     Fare Cabin Embarked  \n",
       "0      0         A/5 21171   7.2500   NaN        S  \n",
       "1      0          PC 17599  71.2833   C85        C  \n",
       "2      0  STON/O2. 3101282   7.9250   NaN        S  \n",
       "3      0            113803  53.1000  C123        S  \n",
       "4      0            373450   8.0500   NaN        S  "
      ]
     },
     "metadata": {},
     "output_type": "display_data"
    },
    {
     "data": {
      "text/html": [
       "<div>\n",
       "<style scoped>\n",
       "    .dataframe tbody tr th:only-of-type {\n",
       "        vertical-align: middle;\n",
       "    }\n",
       "\n",
       "    .dataframe tbody tr th {\n",
       "        vertical-align: top;\n",
       "    }\n",
       "\n",
       "    .dataframe thead th {\n",
       "        text-align: right;\n",
       "    }\n",
       "</style>\n",
       "<table border=\"1\" class=\"dataframe\">\n",
       "  <thead>\n",
       "    <tr style=\"text-align: right;\">\n",
       "      <th></th>\n",
       "      <th>PassengerId</th>\n",
       "      <th>Survived</th>\n",
       "      <th>Pclass</th>\n",
       "      <th>Name</th>\n",
       "      <th>Sex</th>\n",
       "      <th>Age</th>\n",
       "      <th>SibSp</th>\n",
       "      <th>Parch</th>\n",
       "      <th>Ticket</th>\n",
       "      <th>Fare</th>\n",
       "      <th>Cabin</th>\n",
       "      <th>Embarked</th>\n",
       "    </tr>\n",
       "  </thead>\n",
       "  <tbody>\n",
       "    <tr>\n",
       "      <th>886</th>\n",
       "      <td>887</td>\n",
       "      <td>0</td>\n",
       "      <td>2</td>\n",
       "      <td>Montvila, Rev. Juozas</td>\n",
       "      <td>male</td>\n",
       "      <td>27.0</td>\n",
       "      <td>0</td>\n",
       "      <td>0</td>\n",
       "      <td>211536</td>\n",
       "      <td>13.00</td>\n",
       "      <td>NaN</td>\n",
       "      <td>S</td>\n",
       "    </tr>\n",
       "    <tr>\n",
       "      <th>887</th>\n",
       "      <td>888</td>\n",
       "      <td>1</td>\n",
       "      <td>1</td>\n",
       "      <td>Graham, Miss. Margaret Edith</td>\n",
       "      <td>female</td>\n",
       "      <td>19.0</td>\n",
       "      <td>0</td>\n",
       "      <td>0</td>\n",
       "      <td>112053</td>\n",
       "      <td>30.00</td>\n",
       "      <td>B42</td>\n",
       "      <td>S</td>\n",
       "    </tr>\n",
       "    <tr>\n",
       "      <th>888</th>\n",
       "      <td>889</td>\n",
       "      <td>0</td>\n",
       "      <td>3</td>\n",
       "      <td>Johnston, Miss. Catherine Helen \"Carrie\"</td>\n",
       "      <td>female</td>\n",
       "      <td>NaN</td>\n",
       "      <td>1</td>\n",
       "      <td>2</td>\n",
       "      <td>W./C. 6607</td>\n",
       "      <td>23.45</td>\n",
       "      <td>NaN</td>\n",
       "      <td>S</td>\n",
       "    </tr>\n",
       "    <tr>\n",
       "      <th>889</th>\n",
       "      <td>890</td>\n",
       "      <td>1</td>\n",
       "      <td>1</td>\n",
       "      <td>Behr, Mr. Karl Howell</td>\n",
       "      <td>male</td>\n",
       "      <td>26.0</td>\n",
       "      <td>0</td>\n",
       "      <td>0</td>\n",
       "      <td>111369</td>\n",
       "      <td>30.00</td>\n",
       "      <td>C148</td>\n",
       "      <td>C</td>\n",
       "    </tr>\n",
       "    <tr>\n",
       "      <th>890</th>\n",
       "      <td>891</td>\n",
       "      <td>0</td>\n",
       "      <td>3</td>\n",
       "      <td>Dooley, Mr. Patrick</td>\n",
       "      <td>male</td>\n",
       "      <td>32.0</td>\n",
       "      <td>0</td>\n",
       "      <td>0</td>\n",
       "      <td>370376</td>\n",
       "      <td>7.75</td>\n",
       "      <td>NaN</td>\n",
       "      <td>Q</td>\n",
       "    </tr>\n",
       "  </tbody>\n",
       "</table>\n",
       "</div>"
      ],
      "text/plain": [
       "     PassengerId  Survived  Pclass                                      Name  \\\n",
       "886          887         0       2                     Montvila, Rev. Juozas   \n",
       "887          888         1       1              Graham, Miss. Margaret Edith   \n",
       "888          889         0       3  Johnston, Miss. Catherine Helen \"Carrie\"   \n",
       "889          890         1       1                     Behr, Mr. Karl Howell   \n",
       "890          891         0       3                       Dooley, Mr. Patrick   \n",
       "\n",
       "        Sex   Age  SibSp  Parch      Ticket   Fare Cabin Embarked  \n",
       "886    male  27.0      0      0      211536  13.00   NaN        S  \n",
       "887  female  19.0      0      0      112053  30.00   B42        S  \n",
       "888  female   NaN      1      2  W./C. 6607  23.45   NaN        S  \n",
       "889    male  26.0      0      0      111369  30.00  C148        C  \n",
       "890    male  32.0      0      0      370376   7.75   NaN        Q  "
      ]
     },
     "metadata": {},
     "output_type": "display_data"
    }
   ],
   "source": [
    "display(train_df.head())\n",
    "display(train_df.tail())"
   ]
  },
  {
   "cell_type": "markdown",
   "metadata": {},
   "source": [
    "null 값과 empty value 에 대한 처리도 이루어져야 한다."
   ]
  },
  {
   "cell_type": "code",
   "execution_count": 7,
   "metadata": {},
   "outputs": [
    {
     "name": "stdout",
     "output_type": "stream",
     "text": [
      "<class 'pandas.core.frame.DataFrame'>\n",
      "RangeIndex: 891 entries, 0 to 890\n",
      "Data columns (total 12 columns):\n",
      "PassengerId    891 non-null int64\n",
      "Survived       891 non-null int64\n",
      "Pclass         891 non-null int64\n",
      "Name           891 non-null object\n",
      "Sex            891 non-null object\n",
      "Age            714 non-null float64\n",
      "SibSp          891 non-null int64\n",
      "Parch          891 non-null int64\n",
      "Ticket         891 non-null object\n",
      "Fare           891 non-null float64\n",
      "Cabin          204 non-null object\n",
      "Embarked       889 non-null object\n",
      "dtypes: float64(2), int64(5), object(5)\n",
      "memory usage: 83.6+ KB\n",
      "----------------------------------------\n",
      "<class 'pandas.core.frame.DataFrame'>\n",
      "RangeIndex: 418 entries, 0 to 417\n",
      "Data columns (total 11 columns):\n",
      "PassengerId    418 non-null int64\n",
      "Pclass         418 non-null int64\n",
      "Name           418 non-null object\n",
      "Sex            418 non-null object\n",
      "Age            332 non-null float64\n",
      "SibSp          418 non-null int64\n",
      "Parch          418 non-null int64\n",
      "Ticket         418 non-null object\n",
      "Fare           417 non-null float64\n",
      "Cabin          91 non-null object\n",
      "Embarked       418 non-null object\n",
      "dtypes: float64(2), int64(4), object(5)\n",
      "memory usage: 36.0+ KB\n"
     ]
    }
   ],
   "source": [
    "train_df.info()\n",
    "print(\"-\"*40)\n",
    "test_df.info()"
   ]
  },
  {
   "cell_type": "code",
   "execution_count": 8,
   "metadata": {
    "scrolled": true
   },
   "outputs": [
    {
     "data": {
      "text/html": [
       "<div>\n",
       "<style scoped>\n",
       "    .dataframe tbody tr th:only-of-type {\n",
       "        vertical-align: middle;\n",
       "    }\n",
       "\n",
       "    .dataframe tbody tr th {\n",
       "        vertical-align: top;\n",
       "    }\n",
       "\n",
       "    .dataframe thead th {\n",
       "        text-align: right;\n",
       "    }\n",
       "</style>\n",
       "<table border=\"1\" class=\"dataframe\">\n",
       "  <thead>\n",
       "    <tr style=\"text-align: right;\">\n",
       "      <th></th>\n",
       "      <th>PassengerId</th>\n",
       "      <th>Survived</th>\n",
       "      <th>Pclass</th>\n",
       "      <th>Age</th>\n",
       "      <th>SibSp</th>\n",
       "      <th>Parch</th>\n",
       "      <th>Fare</th>\n",
       "    </tr>\n",
       "  </thead>\n",
       "  <tbody>\n",
       "    <tr>\n",
       "      <th>count</th>\n",
       "      <td>891.000000</td>\n",
       "      <td>891.000000</td>\n",
       "      <td>891.000000</td>\n",
       "      <td>714.000000</td>\n",
       "      <td>891.000000</td>\n",
       "      <td>891.000000</td>\n",
       "      <td>891.000000</td>\n",
       "    </tr>\n",
       "    <tr>\n",
       "      <th>mean</th>\n",
       "      <td>446.000000</td>\n",
       "      <td>0.383838</td>\n",
       "      <td>2.308642</td>\n",
       "      <td>29.699118</td>\n",
       "      <td>0.523008</td>\n",
       "      <td>0.381594</td>\n",
       "      <td>32.204208</td>\n",
       "    </tr>\n",
       "    <tr>\n",
       "      <th>std</th>\n",
       "      <td>257.353842</td>\n",
       "      <td>0.486592</td>\n",
       "      <td>0.836071</td>\n",
       "      <td>14.526497</td>\n",
       "      <td>1.102743</td>\n",
       "      <td>0.806057</td>\n",
       "      <td>49.693429</td>\n",
       "    </tr>\n",
       "    <tr>\n",
       "      <th>min</th>\n",
       "      <td>1.000000</td>\n",
       "      <td>0.000000</td>\n",
       "      <td>1.000000</td>\n",
       "      <td>0.420000</td>\n",
       "      <td>0.000000</td>\n",
       "      <td>0.000000</td>\n",
       "      <td>0.000000</td>\n",
       "    </tr>\n",
       "    <tr>\n",
       "      <th>25%</th>\n",
       "      <td>223.500000</td>\n",
       "      <td>0.000000</td>\n",
       "      <td>2.000000</td>\n",
       "      <td>20.125000</td>\n",
       "      <td>0.000000</td>\n",
       "      <td>0.000000</td>\n",
       "      <td>7.910400</td>\n",
       "    </tr>\n",
       "    <tr>\n",
       "      <th>50%</th>\n",
       "      <td>446.000000</td>\n",
       "      <td>0.000000</td>\n",
       "      <td>3.000000</td>\n",
       "      <td>28.000000</td>\n",
       "      <td>0.000000</td>\n",
       "      <td>0.000000</td>\n",
       "      <td>14.454200</td>\n",
       "    </tr>\n",
       "    <tr>\n",
       "      <th>75%</th>\n",
       "      <td>668.500000</td>\n",
       "      <td>1.000000</td>\n",
       "      <td>3.000000</td>\n",
       "      <td>38.000000</td>\n",
       "      <td>1.000000</td>\n",
       "      <td>0.000000</td>\n",
       "      <td>31.000000</td>\n",
       "    </tr>\n",
       "    <tr>\n",
       "      <th>max</th>\n",
       "      <td>891.000000</td>\n",
       "      <td>1.000000</td>\n",
       "      <td>3.000000</td>\n",
       "      <td>80.000000</td>\n",
       "      <td>8.000000</td>\n",
       "      <td>6.000000</td>\n",
       "      <td>512.329200</td>\n",
       "    </tr>\n",
       "  </tbody>\n",
       "</table>\n",
       "</div>"
      ],
      "text/plain": [
       "       PassengerId    Survived      Pclass         Age       SibSp  \\\n",
       "count   891.000000  891.000000  891.000000  714.000000  891.000000   \n",
       "mean    446.000000    0.383838    2.308642   29.699118    0.523008   \n",
       "std     257.353842    0.486592    0.836071   14.526497    1.102743   \n",
       "min       1.000000    0.000000    1.000000    0.420000    0.000000   \n",
       "25%     223.500000    0.000000    2.000000   20.125000    0.000000   \n",
       "50%     446.000000    0.000000    3.000000   28.000000    0.000000   \n",
       "75%     668.500000    1.000000    3.000000   38.000000    1.000000   \n",
       "max     891.000000    1.000000    3.000000   80.000000    8.000000   \n",
       "\n",
       "            Parch        Fare  \n",
       "count  891.000000  891.000000  \n",
       "mean     0.381594   32.204208  \n",
       "std      0.806057   49.693429  \n",
       "min      0.000000    0.000000  \n",
       "25%      0.000000    7.910400  \n",
       "50%      0.000000   14.454200  \n",
       "75%      0.000000   31.000000  \n",
       "max      6.000000  512.329200  "
      ]
     },
     "execution_count": 8,
     "metadata": {},
     "output_type": "execute_result"
    }
   ],
   "source": [
    "train_df.describe()"
   ]
  },
  {
   "cell_type": "code",
   "execution_count": 9,
   "metadata": {
    "scrolled": true
   },
   "outputs": [
    {
     "data": {
      "text/html": [
       "<div>\n",
       "<style scoped>\n",
       "    .dataframe tbody tr th:only-of-type {\n",
       "        vertical-align: middle;\n",
       "    }\n",
       "\n",
       "    .dataframe tbody tr th {\n",
       "        vertical-align: top;\n",
       "    }\n",
       "\n",
       "    .dataframe thead th {\n",
       "        text-align: right;\n",
       "    }\n",
       "</style>\n",
       "<table border=\"1\" class=\"dataframe\">\n",
       "  <thead>\n",
       "    <tr style=\"text-align: right;\">\n",
       "      <th></th>\n",
       "      <th>PassengerId</th>\n",
       "      <th>Pclass</th>\n",
       "      <th>Age</th>\n",
       "      <th>SibSp</th>\n",
       "      <th>Parch</th>\n",
       "      <th>Fare</th>\n",
       "    </tr>\n",
       "  </thead>\n",
       "  <tbody>\n",
       "    <tr>\n",
       "      <th>count</th>\n",
       "      <td>418.000000</td>\n",
       "      <td>418.000000</td>\n",
       "      <td>332.000000</td>\n",
       "      <td>418.000000</td>\n",
       "      <td>418.000000</td>\n",
       "      <td>417.000000</td>\n",
       "    </tr>\n",
       "    <tr>\n",
       "      <th>mean</th>\n",
       "      <td>1100.500000</td>\n",
       "      <td>2.265550</td>\n",
       "      <td>30.272590</td>\n",
       "      <td>0.447368</td>\n",
       "      <td>0.392344</td>\n",
       "      <td>35.627188</td>\n",
       "    </tr>\n",
       "    <tr>\n",
       "      <th>std</th>\n",
       "      <td>120.810458</td>\n",
       "      <td>0.841838</td>\n",
       "      <td>14.181209</td>\n",
       "      <td>0.896760</td>\n",
       "      <td>0.981429</td>\n",
       "      <td>55.907576</td>\n",
       "    </tr>\n",
       "    <tr>\n",
       "      <th>min</th>\n",
       "      <td>892.000000</td>\n",
       "      <td>1.000000</td>\n",
       "      <td>0.170000</td>\n",
       "      <td>0.000000</td>\n",
       "      <td>0.000000</td>\n",
       "      <td>0.000000</td>\n",
       "    </tr>\n",
       "    <tr>\n",
       "      <th>25%</th>\n",
       "      <td>996.250000</td>\n",
       "      <td>1.000000</td>\n",
       "      <td>21.000000</td>\n",
       "      <td>0.000000</td>\n",
       "      <td>0.000000</td>\n",
       "      <td>7.895800</td>\n",
       "    </tr>\n",
       "    <tr>\n",
       "      <th>50%</th>\n",
       "      <td>1100.500000</td>\n",
       "      <td>3.000000</td>\n",
       "      <td>27.000000</td>\n",
       "      <td>0.000000</td>\n",
       "      <td>0.000000</td>\n",
       "      <td>14.454200</td>\n",
       "    </tr>\n",
       "    <tr>\n",
       "      <th>75%</th>\n",
       "      <td>1204.750000</td>\n",
       "      <td>3.000000</td>\n",
       "      <td>39.000000</td>\n",
       "      <td>1.000000</td>\n",
       "      <td>0.000000</td>\n",
       "      <td>31.500000</td>\n",
       "    </tr>\n",
       "    <tr>\n",
       "      <th>max</th>\n",
       "      <td>1309.000000</td>\n",
       "      <td>3.000000</td>\n",
       "      <td>76.000000</td>\n",
       "      <td>8.000000</td>\n",
       "      <td>9.000000</td>\n",
       "      <td>512.329200</td>\n",
       "    </tr>\n",
       "  </tbody>\n",
       "</table>\n",
       "</div>"
      ],
      "text/plain": [
       "       PassengerId      Pclass         Age       SibSp       Parch        Fare\n",
       "count   418.000000  418.000000  332.000000  418.000000  418.000000  417.000000\n",
       "mean   1100.500000    2.265550   30.272590    0.447368    0.392344   35.627188\n",
       "std     120.810458    0.841838   14.181209    0.896760    0.981429   55.907576\n",
       "min     892.000000    1.000000    0.170000    0.000000    0.000000    0.000000\n",
       "25%     996.250000    1.000000   21.000000    0.000000    0.000000    7.895800\n",
       "50%    1100.500000    3.000000   27.000000    0.000000    0.000000   14.454200\n",
       "75%    1204.750000    3.000000   39.000000    1.000000    0.000000   31.500000\n",
       "max    1309.000000    3.000000   76.000000    8.000000    9.000000  512.329200"
      ]
     },
     "execution_count": 9,
     "metadata": {},
     "output_type": "execute_result"
    }
   ],
   "source": [
    "test_df.describe()\n",
    "#count의 수가 다르다 -> 결측치가 있다는 의미"
   ]
  },
  {
   "cell_type": "code",
   "execution_count": 10,
   "metadata": {
    "scrolled": true
   },
   "outputs": [
    {
     "data": {
      "text/plain": [
       "PassengerId    0.000000\n",
       "Survived       0.000000\n",
       "Pclass         0.000000\n",
       "Name           0.000000\n",
       "Sex            0.000000\n",
       "Age            0.198653\n",
       "SibSp          0.000000\n",
       "Parch          0.000000\n",
       "Ticket         0.000000\n",
       "Fare           0.000000\n",
       "Cabin          0.771044\n",
       "Embarked       0.002245\n",
       "dtype: float64"
      ]
     },
     "execution_count": 10,
     "metadata": {},
     "output_type": "execute_result"
    }
   ],
   "source": [
    "train_df.isnull().sum() / train_df.shape[0] #결측치의 퍼센티지 확인"
   ]
  },
  {
   "cell_type": "code",
   "execution_count": 11,
   "metadata": {},
   "outputs": [
    {
     "data": {
      "text/plain": [
       "PassengerId    0.000000\n",
       "Pclass         0.000000\n",
       "Name           0.000000\n",
       "Sex            0.000000\n",
       "Age            0.205742\n",
       "SibSp          0.000000\n",
       "Parch          0.000000\n",
       "Ticket         0.000000\n",
       "Fare           0.002392\n",
       "Cabin          0.782297\n",
       "Embarked       0.000000\n",
       "dtype: float64"
      ]
     },
     "execution_count": 11,
     "metadata": {},
     "output_type": "execute_result"
    }
   ],
   "source": [
    "test_df.isnull().sum() / test_df.shape[0]"
   ]
  },
  {
   "cell_type": "markdown",
   "metadata": {},
   "source": [
    "### Target Label 의 분포 확인"
   ]
  },
  {
   "cell_type": "code",
   "execution_count": 12,
   "metadata": {},
   "outputs": [
    {
     "data": {
      "text/plain": [
       "0    549\n",
       "1    342\n",
       "Name: Survived, dtype: int64"
      ]
     },
     "execution_count": 12,
     "metadata": {},
     "output_type": "execute_result"
    }
   ],
   "source": [
    "train_df[\"Survived\"].value_counts()"
   ]
  },
  {
   "cell_type": "code",
   "execution_count": 13,
   "metadata": {},
   "outputs": [
    {
     "data": {
      "image/png": "[encoded data removed]",
      "text/plain": [
       "<Figure size 1296x576 with 2 Axes>"
      ]
     },
     "metadata": {
      "needs_background": "light"
     },
     "output_type": "display_data"
    }
   ],
   "source": [
    "f, ax = plt.subplots(1, 2, figsize=(18, 8))\n",
    "\n",
    "train_df[\"Survived\"].value_counts().plot.pie(explode = [0, 0.1],\n",
    "                                            autopct = \"%1.1f%%\",\n",
    "                                            ax = ax[0], shadow = True)\n",
    "\n",
    "ax[0].set_title(\"Pie Plot = Survived\")\n",
    "ax[0].set_ylabel(\"\")\n",
    "\n",
    "sns.countplot(\"Survived\", data = train_df, ax = ax[1])\n",
    "ax[1].set_title(\"Count plot - Survived\")\n",
    "\n",
    "plt.show()"
   ]
  },
  {
   "cell_type": "markdown",
   "metadata": {},
   "source": [
    "# 탐색적 데이터 분석(EDA, Exploratory Data Analysis)"
   ]
  },
  {
   "cell_type": "markdown",
   "metadata": {},
   "source": [
    "### Pclass에 따른 생존률 비교"
   ]
  },
  {
   "cell_type": "code",
   "execution_count": 14,
   "metadata": {},
   "outputs": [
    {
     "data": {
      "text/html": [
       "<div>\n",
       "<style scoped>\n",
       "    .dataframe tbody tr th:only-of-type {\n",
       "        vertical-align: middle;\n",
       "    }\n",
       "\n",
       "    .dataframe tbody tr th {\n",
       "        vertical-align: top;\n",
       "    }\n",
       "\n",
       "    .dataframe thead th {\n",
       "        text-align: right;\n",
       "    }\n",
       "</style>\n",
       "<table border=\"1\" class=\"dataframe\">\n",
       "  <thead>\n",
       "    <tr style=\"text-align: right;\">\n",
       "      <th></th>\n",
       "      <th>Survived</th>\n",
       "    </tr>\n",
       "    <tr>\n",
       "      <th>Pclass</th>\n",
       "      <th></th>\n",
       "    </tr>\n",
       "  </thead>\n",
       "  <tbody>\n",
       "    <tr>\n",
       "      <th>1</th>\n",
       "      <td>216</td>\n",
       "    </tr>\n",
       "    <tr>\n",
       "      <th>2</th>\n",
       "      <td>184</td>\n",
       "    </tr>\n",
       "    <tr>\n",
       "      <th>3</th>\n",
       "      <td>491</td>\n",
       "    </tr>\n",
       "  </tbody>\n",
       "</table>\n",
       "</div>"
      ],
      "text/plain": [
       "        Survived\n",
       "Pclass          \n",
       "1            216\n",
       "2            184\n",
       "3            491"
      ]
     },
     "execution_count": 14,
     "metadata": {},
     "output_type": "execute_result"
    }
   ],
   "source": [
    "train_df[[\"Pclass\", \"Survived\"]].groupby([\"Pclass\"], as_index = True).count()"
   ]
  },
  {
   "cell_type": "code",
   "execution_count": 15,
   "metadata": {},
   "outputs": [
    {
     "data": {
      "text/html": [
       "<div>\n",
       "<style scoped>\n",
       "    .dataframe tbody tr th:only-of-type {\n",
       "        vertical-align: middle;\n",
       "    }\n",
       "\n",
       "    .dataframe tbody tr th {\n",
       "        vertical-align: top;\n",
       "    }\n",
       "\n",
       "    .dataframe thead th {\n",
       "        text-align: right;\n",
       "    }\n",
       "</style>\n",
       "<table border=\"1\" class=\"dataframe\">\n",
       "  <thead>\n",
       "    <tr style=\"text-align: right;\">\n",
       "      <th></th>\n",
       "      <th>Survived</th>\n",
       "    </tr>\n",
       "    <tr>\n",
       "      <th>Pclass</th>\n",
       "      <th></th>\n",
       "    </tr>\n",
       "  </thead>\n",
       "  <tbody>\n",
       "    <tr>\n",
       "      <th>1</th>\n",
       "      <td>136</td>\n",
       "    </tr>\n",
       "    <tr>\n",
       "      <th>2</th>\n",
       "      <td>87</td>\n",
       "    </tr>\n",
       "    <tr>\n",
       "      <th>3</th>\n",
       "      <td>119</td>\n",
       "    </tr>\n",
       "  </tbody>\n",
       "</table>\n",
       "</div>"
      ],
      "text/plain": [
       "        Survived\n",
       "Pclass          \n",
       "1            136\n",
       "2             87\n",
       "3            119"
      ]
     },
     "execution_count": 15,
     "metadata": {},
     "output_type": "execute_result"
    }
   ],
   "source": [
    "train_df[[\"Pclass\", \"Survived\"]].groupby([\"Pclass\"], as_index = True #Pclass를 인덱스로서 사용한다.\n",
    "                                        ).sum()"
   ]
  },
  {
   "cell_type": "code",
   "execution_count": 16,
   "metadata": {},
   "outputs": [
    {
     "data": {
      "text/html": [
       "<div>\n",
       "<style scoped>\n",
       "    .dataframe tbody tr th:only-of-type {\n",
       "        vertical-align: middle;\n",
       "    }\n",
       "\n",
       "    .dataframe tbody tr th {\n",
       "        vertical-align: top;\n",
       "    }\n",
       "\n",
       "    .dataframe thead th {\n",
       "        text-align: right;\n",
       "    }\n",
       "</style>\n",
       "<table border=\"1\" class=\"dataframe\">\n",
       "  <thead>\n",
       "    <tr style=\"text-align: right;\">\n",
       "      <th>Survived</th>\n",
       "      <th>0</th>\n",
       "      <th>1</th>\n",
       "      <th>All</th>\n",
       "    </tr>\n",
       "    <tr>\n",
       "      <th>Pclass</th>\n",
       "      <th></th>\n",
       "      <th></th>\n",
       "      <th></th>\n",
       "    </tr>\n",
       "  </thead>\n",
       "  <tbody>\n",
       "    <tr>\n",
       "      <th>1</th>\n",
       "      <td>80</td>\n",
       "      <td>136</td>\n",
       "      <td>216</td>\n",
       "    </tr>\n",
       "    <tr>\n",
       "      <th>2</th>\n",
       "      <td>97</td>\n",
       "      <td>87</td>\n",
       "      <td>184</td>\n",
       "    </tr>\n",
       "    <tr>\n",
       "      <th>3</th>\n",
       "      <td>372</td>\n",
       "      <td>119</td>\n",
       "      <td>491</td>\n",
       "    </tr>\n",
       "    <tr>\n",
       "      <th>All</th>\n",
       "      <td>549</td>\n",
       "      <td>342</td>\n",
       "      <td>891</td>\n",
       "    </tr>\n",
       "  </tbody>\n",
       "</table>\n",
       "</div>"
      ],
      "text/plain": [
       "Survived    0    1  All\n",
       "Pclass                 \n",
       "1          80  136  216\n",
       "2          97   87  184\n",
       "3         372  119  491\n",
       "All       549  342  891"
      ]
     },
     "execution_count": 16,
     "metadata": {},
     "output_type": "execute_result"
    }
   ],
   "source": [
    "pd.crosstab(train_df[\"Pclass\"], train_df[\"Survived\"], margins = True)"
   ]
  },
  {
   "cell_type": "code",
   "execution_count": 17,
   "metadata": {},
   "outputs": [
    {
     "data": {
      "text/html": [
       "<div>\n",
       "<style scoped>\n",
       "    .dataframe tbody tr th:only-of-type {\n",
       "        vertical-align: middle;\n",
       "    }\n",
       "\n",
       "    .dataframe tbody tr th {\n",
       "        vertical-align: top;\n",
       "    }\n",
       "\n",
       "    .dataframe thead th {\n",
       "        text-align: right;\n",
       "    }\n",
       "</style>\n",
       "<table border=\"1\" class=\"dataframe\">\n",
       "  <thead>\n",
       "    <tr style=\"text-align: right;\">\n",
       "      <th>Survived</th>\n",
       "      <th>0</th>\n",
       "      <th>1</th>\n",
       "    </tr>\n",
       "    <tr>\n",
       "      <th>Pclass</th>\n",
       "      <th></th>\n",
       "      <th></th>\n",
       "    </tr>\n",
       "  </thead>\n",
       "  <tbody>\n",
       "    <tr>\n",
       "      <th>1</th>\n",
       "      <td>80</td>\n",
       "      <td>136</td>\n",
       "    </tr>\n",
       "    <tr>\n",
       "      <th>2</th>\n",
       "      <td>97</td>\n",
       "      <td>87</td>\n",
       "    </tr>\n",
       "    <tr>\n",
       "      <th>3</th>\n",
       "      <td>372</td>\n",
       "      <td>119</td>\n",
       "    </tr>\n",
       "  </tbody>\n",
       "</table>\n",
       "</div>"
      ],
      "text/plain": [
       "Survived    0    1\n",
       "Pclass            \n",
       "1          80  136\n",
       "2          97   87\n",
       "3         372  119"
      ]
     },
     "execution_count": 17,
     "metadata": {},
     "output_type": "execute_result"
    }
   ],
   "source": [
    "pd.crosstab(train_df[\"Pclass\"], train_df[\"Survived\"], margins = False)"
   ]
  },
  {
   "cell_type": "code",
   "execution_count": 18,
   "metadata": {},
   "outputs": [
    {
     "data": {
      "text/html": [
       "<div>\n",
       "<style scoped>\n",
       "    .dataframe tbody tr th:only-of-type {\n",
       "        vertical-align: middle;\n",
       "    }\n",
       "\n",
       "    .dataframe tbody tr th {\n",
       "        vertical-align: top;\n",
       "    }\n",
       "\n",
       "    .dataframe thead th {\n",
       "        text-align: right;\n",
       "    }\n",
       "</style>\n",
       "<table border=\"1\" class=\"dataframe\">\n",
       "  <thead>\n",
       "    <tr style=\"text-align: right;\">\n",
       "      <th></th>\n",
       "      <th>Survived</th>\n",
       "    </tr>\n",
       "    <tr>\n",
       "      <th>Pclass</th>\n",
       "      <th></th>\n",
       "    </tr>\n",
       "  </thead>\n",
       "  <tbody>\n",
       "    <tr>\n",
       "      <th>1</th>\n",
       "      <td>0.629630</td>\n",
       "    </tr>\n",
       "    <tr>\n",
       "      <th>2</th>\n",
       "      <td>0.472826</td>\n",
       "    </tr>\n",
       "    <tr>\n",
       "      <th>3</th>\n",
       "      <td>0.242363</td>\n",
       "    </tr>\n",
       "  </tbody>\n",
       "</table>\n",
       "</div>"
      ],
      "text/plain": [
       "        Survived\n",
       "Pclass          \n",
       "1       0.629630\n",
       "2       0.472826\n",
       "3       0.242363"
      ]
     },
     "execution_count": 18,
     "metadata": {},
     "output_type": "execute_result"
    }
   ],
   "source": [
    "train_df[[\"Pclass\", \"Survived\"]].groupby([\"Pclass\"], as_index = True).mean()"
   ]
  },
  {
   "cell_type": "code",
   "execution_count": 19,
   "metadata": {},
   "outputs": [
    {
     "data": {
      "text/plain": [
       "<matplotlib.axes._subplots.AxesSubplot at 0x1cff734e630>"
      ]
     },
     "execution_count": 19,
     "metadata": {},
     "output_type": "execute_result"
    },
    {
     "data": {
      "image/png": "[encoded data removed]",
      "text/plain": [
       "<Figure size 432x288 with 1 Axes>"
      ]
     },
     "metadata": {
      "needs_background": "light"
     },
     "output_type": "display_data"
    }
   ],
   "source": [
    "train_df[[\"Pclass\", \"Survived\"]].groupby([\"Pclass\"], as_index = True).mean().plot.bar()"
   ]
  },
  {
   "cell_type": "markdown",
   "metadata": {},
   "source": [
    "### 성별에 따른 생존률 비교"
   ]
  },
  {
   "cell_type": "code",
   "execution_count": 20,
   "metadata": {
    "scrolled": true
   },
   "outputs": [
    {
     "data": {
      "text/html": [
       "<div>\n",
       "<style scoped>\n",
       "    .dataframe tbody tr th:only-of-type {\n",
       "        vertical-align: middle;\n",
       "    }\n",
       "\n",
       "    .dataframe tbody tr th {\n",
       "        vertical-align: top;\n",
       "    }\n",
       "\n",
       "    .dataframe thead th {\n",
       "        text-align: right;\n",
       "    }\n",
       "</style>\n",
       "<table border=\"1\" class=\"dataframe\">\n",
       "  <thead>\n",
       "    <tr style=\"text-align: right;\">\n",
       "      <th></th>\n",
       "      <th>Survived</th>\n",
       "    </tr>\n",
       "    <tr>\n",
       "      <th>Sex</th>\n",
       "      <th></th>\n",
       "    </tr>\n",
       "  </thead>\n",
       "  <tbody>\n",
       "    <tr>\n",
       "      <th>female</th>\n",
       "      <td>314</td>\n",
       "    </tr>\n",
       "    <tr>\n",
       "      <th>male</th>\n",
       "      <td>577</td>\n",
       "    </tr>\n",
       "  </tbody>\n",
       "</table>\n",
       "</div>"
      ],
      "text/plain": [
       "        Survived\n",
       "Sex             \n",
       "female       314\n",
       "male         577"
      ]
     },
     "execution_count": 20,
     "metadata": {},
     "output_type": "execute_result"
    }
   ],
   "source": [
    "train_df[[\"Sex\", \"Survived\"]].groupby([\"Sex\"], as_index = True).count()"
   ]
  },
  {
   "cell_type": "code",
   "execution_count": 21,
   "metadata": {},
   "outputs": [
    {
     "data": {
      "image/png": "[encoded data removed]",
      "text/plain": [
       "<Figure size 1296x576 with 2 Axes>"
      ]
     },
     "metadata": {
      "needs_background": "light"
     },
     "output_type": "display_data"
    }
   ],
   "source": [
    "f, ax = plt.subplots(1, 2, figsize = (18, 8))\n",
    "train_df[[\"Sex\", \"Survived\"]].groupby([\"Sex\"], as_index = True).mean().plot.bar(ax=ax[0])\n",
    "ax[0].set_title(\"Survived by Sex\")\n",
    "\n",
    "sns.countplot(\"Sex\", hue=\"Survived\", data = train_df, ax=ax[1])\n",
    "ax[1].set_title(\"Sex: Survived vs Dead\")\n",
    "\n",
    "plt.show()"
   ]
  },
  {
   "cell_type": "markdown",
   "metadata": {},
   "source": [
    "### Pclass와 성별을 모두 고려한 생존률 비교"
   ]
  },
  {
   "cell_type": "code",
   "execution_count": 22,
   "metadata": {},
   "outputs": [
    {
     "name": "stderr",
     "output_type": "stream",
     "text": [
      "C:\\Users\\Andrew\\.conda\\envs\\andrew_37\\lib\\site-packages\\seaborn\\categorical.py:3666: UserWarning: The `factorplot` function has been renamed to `catplot`. The original name will be removed in a future release. Please update your code. Note that the default `kind` in `factorplot` (`'point'`) has changed `'strip'` in `catplot`.\n",
      "  warnings.warn(msg)\n",
      "C:\\Users\\Andrew\\.conda\\envs\\andrew_37\\lib\\site-packages\\seaborn\\categorical.py:3672: UserWarning: The `size` paramter has been renamed to `height`; please update your code.\n",
      "  warnings.warn(msg, UserWarning)\n"
     ]
    },
    {
     "data": {
      "text/plain": [
       "<seaborn.axisgrid.FacetGrid at 0x1cff714e080>"
      ]
     },
     "execution_count": 22,
     "metadata": {},
     "output_type": "execute_result"
    },
    {
     "data": {
      "image/png": "[encoded data removed]",
      "text/plain": [
       "<Figure size 718.5x432 with 1 Axes>"
      ]
     },
     "metadata": {
      "needs_background": "light"
     },
     "output_type": "display_data"
    }
   ],
   "source": [
    "sns.factorplot(\"Pclass\", \"Survived\", hue = \"Sex\", data = train_df,\n",
    "              size = 6, aspect = 1.5)"
   ]
  },
  {
   "cell_type": "markdown",
   "metadata": {},
   "source": [
    "### 나이에 따른 생존률 비교"
   ]
  },
  {
   "cell_type": "code",
   "execution_count": 23,
   "metadata": {
    "scrolled": true
   },
   "outputs": [
    {
     "name": "stdout",
     "output_type": "stream",
     "text": [
      "제일 나이 많은 탑승객 : 80.0 Years\n",
      "제일 나이 어린 탑승객 : 0.4 Years\n",
      "탑승객 평균 나이 : 29.7 Years\n"
     ]
    }
   ],
   "source": [
    "print(\"제일 나이 많은 탑승객 : {:.1f} Years\".format(train_df[\"Age\"].max()))\n",
    "print(\"제일 나이 어린 탑승객 : {:.1f} Years\".format(train_df[\"Age\"].min()))\n",
    "print(\"탑승객 평균 나이 : {:.1f} Years\".format(train_df[\"Age\"].mean()))"
   ]
  },
  {
   "cell_type": "code",
   "execution_count": 24,
   "metadata": {},
   "outputs": [
    {
     "data": {
      "image/png": "[encoded data removed]",
      "text/plain": [
       "<Figure size 648x360 with 1 Axes>"
      ]
     },
     "metadata": {
      "needs_background": "light"
     },
     "output_type": "display_data"
    }
   ],
   "source": [
    "fig, ax = plt.subplots(1, 1, figsize = (9, 5))\n",
    "sns.kdeplot(train_df[train_df[\"Survived\"] == 1][\"Age\"], ax = ax)\n",
    "sns.kdeplot(train_df[train_df[\"Survived\"] == 0][\"Age\"], ax = ax)\n",
    "\n",
    "plt.legend([\"Survived == 1\", \"Survived == 0\"])\n",
    "plt.show()"
   ]
  },
  {
   "cell_type": "code",
   "execution_count": 25,
   "metadata": {},
   "outputs": [
    {
     "data": {
      "text/plain": [
       "0      22.0\n",
       "1      38.0\n",
       "2      26.0\n",
       "3      35.0\n",
       "4      35.0\n",
       "5       NaN\n",
       "6      54.0\n",
       "7       2.0\n",
       "8      27.0\n",
       "9      14.0\n",
       "10      4.0\n",
       "11     58.0\n",
       "12     20.0\n",
       "13     39.0\n",
       "14     14.0\n",
       "15     55.0\n",
       "16      2.0\n",
       "17      NaN\n",
       "18     31.0\n",
       "19      NaN\n",
       "20     35.0\n",
       "21     34.0\n",
       "22     15.0\n",
       "23     28.0\n",
       "24      8.0\n",
       "25     38.0\n",
       "26      NaN\n",
       "27     19.0\n",
       "28      NaN\n",
       "29      NaN\n",
       "       ... \n",
       "861    21.0\n",
       "862    48.0\n",
       "863     NaN\n",
       "864    24.0\n",
       "865    42.0\n",
       "866    27.0\n",
       "867    31.0\n",
       "868     NaN\n",
       "869     4.0\n",
       "870    26.0\n",
       "871    47.0\n",
       "872    33.0\n",
       "873    47.0\n",
       "874    28.0\n",
       "875    15.0\n",
       "876    20.0\n",
       "877    19.0\n",
       "878     NaN\n",
       "879    56.0\n",
       "880    25.0\n",
       "881    33.0\n",
       "882    22.0\n",
       "883    28.0\n",
       "884    25.0\n",
       "885    39.0\n",
       "886    27.0\n",
       "887    19.0\n",
       "888     NaN\n",
       "889    26.0\n",
       "890    32.0\n",
       "Name: Age, Length: 891, dtype: float64"
      ]
     },
     "execution_count": 25,
     "metadata": {},
     "output_type": "execute_result"
    }
   ],
   "source": [
    "train_df[\"Age\"]"
   ]
  },
  {
   "cell_type": "code",
   "execution_count": 26,
   "metadata": {},
   "outputs": [
    {
     "data": {
      "text/plain": [
       "<matplotlib.legend.Legend at 0x1cff767a198>"
      ]
     },
     "execution_count": 26,
     "metadata": {},
     "output_type": "execute_result"
    },
    {
     "data": {
      "image/png": "[encoded data removed]",
      "text/plain": [
       "<Figure size 576x432 with 1 Axes>"
      ]
     },
     "metadata": {
      "needs_background": "light"
     },
     "output_type": "display_data"
    }
   ],
   "source": [
    "plt.figure(figsize = (8, 6))\n",
    "train_df[\"Age\"][train_df[\"Pclass\"] == 1].plot(kind = \"kde\")\n",
    "train_df[\"Age\"][train_df[\"Pclass\"] == 2].plot(kind = \"kde\")\n",
    "train_df[\"Age\"][train_df[\"Pclass\"] == 3].plot(kind = \"kde\")\n",
    "\n",
    "plt.xlabel(\"Age\")\n",
    "plt.title(\"Age Distribution within classes\")\n",
    "plt.legend([\"1st Class\", \"2nd Class\", \"3rd Class\"])"
   ]
  },
  {
   "cell_type": "code",
   "execution_count": 27,
   "metadata": {},
   "outputs": [
    {
     "data": {
      "image/png": "[encoded data removed]",
      "text/plain": [
       "<Figure size 504x504 with 1 Axes>"
      ]
     },
     "metadata": {
      "needs_background": "light"
     },
     "output_type": "display_data"
    }
   ],
   "source": [
    "cummulate_survival_ratio = []\n",
    "for i in range(1, 80):\n",
    "    cummulate_survival_ratio.append(train_df[train_df[\"Age\"] < i][\"Survived\"].sum() /\n",
    "                                   len(train_df[train_df[\"Age\"] < i][\"Survived\"]))\n",
    "\n",
    "plt.figure(figsize = (7, 7))\n",
    "plt.plot(cummulate_survival_ratio)\n",
    "plt.title(\"Survival rate change depending on range of Age\", y = 1.02)\n",
    "plt.ylabel(\"Survival rate\")\n",
    "plt.xlabel(\"Range of Age(0~x)\")\n",
    "plt.show()"
   ]
  },
  {
   "cell_type": "markdown",
   "metadata": {},
   "source": [
    "### 탑승 선착장에 따른 생존률 비교"
   ]
  },
  {
   "cell_type": "code",
   "execution_count": 28,
   "metadata": {},
   "outputs": [
    {
     "data": {
      "text/plain": [
       "array(['S', 'C', 'Q', nan], dtype=object)"
      ]
     },
     "execution_count": 28,
     "metadata": {},
     "output_type": "execute_result"
    }
   ],
   "source": [
    "train_df[\"Embarked\"].unique()"
   ]
  },
  {
   "cell_type": "code",
   "execution_count": 29,
   "metadata": {},
   "outputs": [],
   "source": [
    "# # sort_values\n",
    "\n",
    "# DataFrame.sort_values(by=None, #정렬할 기준 변수\n",
    "#                      axis = 0, # 0 or \"index\" , 1 or \"columns\"\n",
    "#                      ascending = True, # True: 오름차순, False: 내림차순\n",
    "#                      inplace = False, # DataFrame 자체를 정렬해서 저장\n",
    "#                      kind = \"quicksort\", # 정렬 알고리즘\n",
    "#                      na_position=\"last\") # 결측값(NaN값) 위치, {\"first\", \"last\"}"
   ]
  },
  {
   "cell_type": "code",
   "execution_count": 30,
   "metadata": {},
   "outputs": [
    {
     "data": {
      "text/html": [
       "<div>\n",
       "<style scoped>\n",
       "    .dataframe tbody tr th:only-of-type {\n",
       "        vertical-align: middle;\n",
       "    }\n",
       "\n",
       "    .dataframe tbody tr th {\n",
       "        vertical-align: top;\n",
       "    }\n",
       "\n",
       "    .dataframe thead th {\n",
       "        text-align: right;\n",
       "    }\n",
       "</style>\n",
       "<table border=\"1\" class=\"dataframe\">\n",
       "  <thead>\n",
       "    <tr style=\"text-align: right;\">\n",
       "      <th></th>\n",
       "      <th>Survived</th>\n",
       "    </tr>\n",
       "    <tr>\n",
       "      <th>Embarked</th>\n",
       "      <th></th>\n",
       "    </tr>\n",
       "  </thead>\n",
       "  <tbody>\n",
       "    <tr>\n",
       "      <th>C</th>\n",
       "      <td>0.553571</td>\n",
       "    </tr>\n",
       "    <tr>\n",
       "      <th>Q</th>\n",
       "      <td>0.389610</td>\n",
       "    </tr>\n",
       "    <tr>\n",
       "      <th>S</th>\n",
       "      <td>0.336957</td>\n",
       "    </tr>\n",
       "  </tbody>\n",
       "</table>\n",
       "</div>"
      ],
      "text/plain": [
       "          Survived\n",
       "Embarked          \n",
       "C         0.553571\n",
       "Q         0.389610\n",
       "S         0.336957"
      ]
     },
     "execution_count": 30,
     "metadata": {},
     "output_type": "execute_result"
    }
   ],
   "source": [
    "train_df[[\"Embarked\", \"Survived\"]].groupby([\"Embarked\"], as_index = True).mean().sort_values(by = \"Survived\", \n",
    "                                                                                            ascending = False)"
   ]
  },
  {
   "cell_type": "code",
   "execution_count": 31,
   "metadata": {},
   "outputs": [
    {
     "data": {
      "text/plain": [
       "<matplotlib.axes._subplots.AxesSubplot at 0x1cff7768a90>"
      ]
     },
     "execution_count": 31,
     "metadata": {},
     "output_type": "execute_result"
    },
    {
     "data": {
      "image/png": "[encoded data removed]",
      "text/plain": [
       "<Figure size 504x504 with 1 Axes>"
      ]
     },
     "metadata": {
      "needs_background": "light"
     },
     "output_type": "display_data"
    }
   ],
   "source": [
    "f, ax = plt.subplots(1, 1, figsize = (7,7))\n",
    "train_df[[\"Embarked\", \"Survived\"]].groupby([\"Embarked\"], as_index = True).mean().sort_values(by = \"Survived\", \n",
    "                                                                                            ascending = False).plot.bar(ax = ax)"
   ]
  },
  {
   "cell_type": "code",
   "execution_count": 32,
   "metadata": {},
   "outputs": [
    {
     "data": {
      "image/png": "[encoded data removed]",
      "text/plain": [
       "<Figure size 1440x1080 with 4 Axes>"
      ]
     },
     "metadata": {
      "needs_background": "light"
     },
     "output_type": "display_data"
    }
   ],
   "source": [
    "f, ax = plt.subplots(2, 2, figsize=(20, 15))\n",
    "\n",
    "sns.countplot(\"Embarked\", data = train_df, ax = ax[0, 0])\n",
    "ax[0, 0].set_title(\"(1) No. Of Passengers Boarded\")\n",
    "\n",
    "sns.countplot(\"Embarked\", hue = \"Sex\", data = train_df, ax = ax[0, 1])\n",
    "ax[0, 1].set_title(\"(2) Male-Female Split for Embarked\")\n",
    "\n",
    "sns.countplot(\"Embarked\", hue = \"Survived\", data = train_df, ax = ax[1, 0])\n",
    "ax[1, 0].set_title(\"(3) Embarked vs Survived\")\n",
    "\n",
    "sns.countplot(\"Embarked\", hue = \"Pclass\", data = train_df, ax = ax[1, 1,])\n",
    "ax[1, 1].set_title(\"(4) Embarked vs Pclass\")\n",
    "\n",
    "plt.subplots_adjust(wspace = 0.2, hspace = 0.5)\n",
    "plt.show()"
   ]
  },
  {
   "cell_type": "markdown",
   "metadata": {},
   "source": [
    "### 가족 수에 따른 생존률 비교"
   ]
  },
  {
   "cell_type": "code",
   "execution_count": 33,
   "metadata": {},
   "outputs": [],
   "source": [
    "# 가족구성원 수 라는 새로운 데이터 프레임 구성\n",
    "\n",
    "train_df[\"FamilySize\"] = train_df[\"SibSp\"] + train_df[\"Parch\"] + 1\n",
    "\n",
    "test_df[\"FamilySize\"] = test_df[\"SibSp\"] + test_df[\"Parch\"] + 1"
   ]
  },
  {
   "cell_type": "code",
   "execution_count": 34,
   "metadata": {},
   "outputs": [
    {
     "data": {
      "text/plain": [
       "11"
      ]
     },
     "execution_count": 34,
     "metadata": {},
     "output_type": "execute_result"
    }
   ],
   "source": [
    "train_df[\"FamilySize\"].max()"
   ]
  },
  {
   "cell_type": "code",
   "execution_count": 35,
   "metadata": {
    "scrolled": true
   },
   "outputs": [
    {
     "data": {
      "text/plain": [
       "1"
      ]
     },
     "execution_count": 35,
     "metadata": {},
     "output_type": "execute_result"
    }
   ],
   "source": [
    "train_df[\"FamilySize\"].min()"
   ]
  },
  {
   "cell_type": "code",
   "execution_count": 36,
   "metadata": {},
   "outputs": [
    {
     "data": {
      "image/png": "[encoded data removed]",
      "text/plain": [
       "<Figure size 2880x2880 with 3 Axes>"
      ]
     },
     "metadata": {
      "needs_background": "light"
     },
     "output_type": "display_data"
    }
   ],
   "source": [
    "f, ax = plt.subplots(1, 3, figsize = (40, 40))\n",
    "\n",
    "sns.countplot(\"FamilySize\", data = train_df, ax = ax[0])\n",
    "ax[0].set_title(\"(1) No. Of Passengers Boarded\", y = 1.02)\n",
    "\n",
    "sns.countplot(\"FamilySize\", hue = \"Survived\", data = train_df, ax = ax[1])\n",
    "ax[1].set_title(\"(2) Survived countplot depending on FamilySize\", y = 1.02)\n",
    "\n",
    "train_df[[\"FamilySize\", \"Survived\"]].groupby([\"FamilySize\"], as_index = True).mean().sort_values(by = \"Survived\", ascending = False).plot.bar(ax = ax[2])\n",
    "ax[2].set_title(\"(3) Survived rate depending on FamilySize\", y = 1.02)\n",
    "\n",
    "plt.subplots_adjust(wspace = 0.2, hspace = 0.5)\n",
    "plt.show()"
   ]
  },
  {
   "cell_type": "markdown",
   "metadata": {},
   "source": [
    "### 탑승 요금에 따른 생존률 비교"
   ]
  },
  {
   "cell_type": "code",
   "execution_count": 37,
   "metadata": {},
   "outputs": [
    {
     "data": {
      "image/png": "[encoded data removed]",
      "text/plain": [
       "<Figure size 576x576 with 1 Axes>"
      ]
     },
     "metadata": {
      "needs_background": "light"
     },
     "output_type": "display_data"
    }
   ],
   "source": [
    "f, ax = plt.subplots(1, 1, figsize = (8, 8))\n",
    "g = sns.distplot(train_df[\"Fare\"], color = \"b\", \n",
    "                 label = \"Skewness : {:.2f}\".format(train_df[\"Fare\"].skew()), ax = ax)\n",
    "g = g.legend(loc = \"best\")"
   ]
  },
  {
   "cell_type": "code",
   "execution_count": 38,
   "metadata": {},
   "outputs": [],
   "source": [
    "# null 값 처리\n",
    "test_df.loc[test_df.Fare.isnull(), \"Fare\"] = test_df[\"Fare\"].mean()"
   ]
  },
  {
   "cell_type": "code",
   "execution_count": 39,
   "metadata": {},
   "outputs": [],
   "source": [
    "train_df[\"Fare\"] = train_df[\"Fare\"].map(lambda i: np.log(i) if i > 0 else 0)\n",
    "test_df[\"Fare\"] = test_df[\"Fare\"].map(lambda i: np.log(i) if i > 0 else 0)"
   ]
  },
  {
   "cell_type": "code",
   "execution_count": 40,
   "metadata": {},
   "outputs": [
    {
     "data": {
      "image/png": "[encoded data removed]",
      "text/plain": [
       "<Figure size 576x576 with 1 Axes>"
      ]
     },
     "metadata": {
      "needs_background": "light"
     },
     "output_type": "display_data"
    }
   ],
   "source": [
    "fig, ax = plt.subplots(1, 1, figsize=(8, 8))\n",
    "g = sns.distplot(train_df[\"Fare\"], color = \"b\", label = \"Skewness : {:.2f}\".format(train_df[\"Fare\"].skew()), ax = ax)\n",
    "g = g.legend(loc = \"best\")"
   ]
  },
  {
   "cell_type": "markdown",
   "metadata": {},
   "source": [
    "### Cabin에 따른 생존률 비교"
   ]
  },
  {
   "cell_type": "code",
   "execution_count": 41,
   "metadata": {},
   "outputs": [
    {
     "data": {
      "text/plain": [
       "0.7710437710437711"
      ]
     },
     "execution_count": 41,
     "metadata": {},
     "output_type": "execute_result"
    }
   ],
   "source": [
    "train_df[\"Cabin\"].isnull().sum() / train_df.shape[0]\n",
    "\n",
    "#NaN 값이 약 80퍼센트 이므로, 유의미한 정보를 얻기 쉽지 않다.\n",
    "#그러므로 모델에 포함시키지 않는다."
   ]
  },
  {
   "cell_type": "code",
   "execution_count": 42,
   "metadata": {
    "scrolled": true
   },
   "outputs": [
    {
     "data": {
      "text/html": [
       "<div>\n",
       "<style scoped>\n",
       "    .dataframe tbody tr th:only-of-type {\n",
       "        vertical-align: middle;\n",
       "    }\n",
       "\n",
       "    .dataframe tbody tr th {\n",
       "        vertical-align: top;\n",
       "    }\n",
       "\n",
       "    .dataframe thead th {\n",
       "        text-align: right;\n",
       "    }\n",
       "</style>\n",
       "<table border=\"1\" class=\"dataframe\">\n",
       "  <thead>\n",
       "    <tr style=\"text-align: right;\">\n",
       "      <th></th>\n",
       "      <th>PassengerId</th>\n",
       "      <th>Cabin</th>\n",
       "    </tr>\n",
       "  </thead>\n",
       "  <tbody>\n",
       "    <tr>\n",
       "      <th>0</th>\n",
       "      <td>1</td>\n",
       "      <td>NaN</td>\n",
       "    </tr>\n",
       "    <tr>\n",
       "      <th>1</th>\n",
       "      <td>2</td>\n",
       "      <td>C85</td>\n",
       "    </tr>\n",
       "    <tr>\n",
       "      <th>2</th>\n",
       "      <td>3</td>\n",
       "      <td>NaN</td>\n",
       "    </tr>\n",
       "    <tr>\n",
       "      <th>3</th>\n",
       "      <td>4</td>\n",
       "      <td>C123</td>\n",
       "    </tr>\n",
       "    <tr>\n",
       "      <th>4</th>\n",
       "      <td>5</td>\n",
       "      <td>NaN</td>\n",
       "    </tr>\n",
       "  </tbody>\n",
       "</table>\n",
       "</div>"
      ],
      "text/plain": [
       "   PassengerId Cabin\n",
       "0            1   NaN\n",
       "1            2   C85\n",
       "2            3   NaN\n",
       "3            4  C123\n",
       "4            5   NaN"
      ]
     },
     "execution_count": 42,
     "metadata": {},
     "output_type": "execute_result"
    }
   ],
   "source": [
    "train_df.head()[[\"PassengerId\", \"Cabin\"]]"
   ]
  },
  {
   "cell_type": "code",
   "execution_count": 43,
   "metadata": {},
   "outputs": [
    {
     "data": {
      "text/html": [
       "<div>\n",
       "<style scoped>\n",
       "    .dataframe tbody tr th:only-of-type {\n",
       "        vertical-align: middle;\n",
       "    }\n",
       "\n",
       "    .dataframe tbody tr th {\n",
       "        vertical-align: top;\n",
       "    }\n",
       "\n",
       "    .dataframe thead th {\n",
       "        text-align: right;\n",
       "    }\n",
       "</style>\n",
       "<table border=\"1\" class=\"dataframe\">\n",
       "  <thead>\n",
       "    <tr style=\"text-align: right;\">\n",
       "      <th></th>\n",
       "      <th>PassengerId</th>\n",
       "      <th>Cabin</th>\n",
       "    </tr>\n",
       "  </thead>\n",
       "  <tbody>\n",
       "    <tr>\n",
       "      <th>0</th>\n",
       "      <td>1</td>\n",
       "      <td>NaN</td>\n",
       "    </tr>\n",
       "    <tr>\n",
       "      <th>1</th>\n",
       "      <td>2</td>\n",
       "      <td>C85</td>\n",
       "    </tr>\n",
       "    <tr>\n",
       "      <th>2</th>\n",
       "      <td>3</td>\n",
       "      <td>NaN</td>\n",
       "    </tr>\n",
       "    <tr>\n",
       "      <th>3</th>\n",
       "      <td>4</td>\n",
       "      <td>C123</td>\n",
       "    </tr>\n",
       "    <tr>\n",
       "      <th>4</th>\n",
       "      <td>5</td>\n",
       "      <td>NaN</td>\n",
       "    </tr>\n",
       "  </tbody>\n",
       "</table>\n",
       "</div>"
      ],
      "text/plain": [
       "   PassengerId Cabin\n",
       "0            1   NaN\n",
       "1            2   C85\n",
       "2            3   NaN\n",
       "3            4  C123\n",
       "4            5   NaN"
      ]
     },
     "execution_count": 43,
     "metadata": {},
     "output_type": "execute_result"
    }
   ],
   "source": [
    "train_df[[\"PassengerId\", \"Cabin\"]].head()"
   ]
  },
  {
   "cell_type": "markdown",
   "metadata": {},
   "source": [
    "### Ticket에 따른 생존률 비교"
   ]
  },
  {
   "cell_type": "code",
   "execution_count": 44,
   "metadata": {},
   "outputs": [
    {
     "data": {
      "text/plain": [
       "0"
      ]
     },
     "execution_count": 44,
     "metadata": {},
     "output_type": "execute_result"
    }
   ],
   "source": [
    "train_df[\"Ticket\"].isnull().sum()\n",
    "\n",
    "# NaN 값이 하나도 없다.\n",
    "# 하지만, 데이터가 스트링형태이므로 이를 활용하기 위해선 데이터 전처리 과정이 필요하다.\n",
    "# 이를 위한 아이디어를 구상하고 계획하는 것 ㅡ> Feature Engineering"
   ]
  },
  {
   "cell_type": "code",
   "execution_count": 45,
   "metadata": {},
   "outputs": [
    {
     "data": {
      "text/plain": [
       "347082                7\n",
       "CA. 2343              7\n",
       "1601                  7\n",
       "CA 2144               6\n",
       "3101295               6\n",
       "347088                6\n",
       "382652                5\n",
       "S.O.C. 14879          5\n",
       "113781                4\n",
       "19950                 4\n",
       "LINE                  4\n",
       "2666                  4\n",
       "W./C. 6608            4\n",
       "349909                4\n",
       "4133                  4\n",
       "17421                 4\n",
       "113760                4\n",
       "PC 17757              4\n",
       "347077                4\n",
       "13502                 3\n",
       "347742                3\n",
       "PC 17582              3\n",
       "PC 17760              3\n",
       "C.A. 31921            3\n",
       "363291                3\n",
       "F.C.C. 13529          3\n",
       "24160                 3\n",
       "35273                 3\n",
       "29106                 3\n",
       "248727                3\n",
       "                     ..\n",
       "STON/O 2. 3101293     1\n",
       "376566                1\n",
       "219533                1\n",
       "244361                1\n",
       "STON/O2. 3101271      1\n",
       "11753                 1\n",
       "250643                1\n",
       "349204                1\n",
       "237668                1\n",
       "2223                  1\n",
       "4136                  1\n",
       "SOTON/O.Q. 3101312    1\n",
       "392091                1\n",
       "237798                1\n",
       "PC 17482              1\n",
       "363294                1\n",
       "349222                1\n",
       "8471                  1\n",
       "31028                 1\n",
       "350404                1\n",
       "SOTON/OQ 392076       1\n",
       "PP 4348               1\n",
       "STON/O 2. 3101273     1\n",
       "S.O./P.P. 751         1\n",
       "239854                1\n",
       "695                   1\n",
       "C.A. 34260            1\n",
       "SC/AH 29037           1\n",
       "19972                 1\n",
       "STON/O 2. 3101289     1\n",
       "Name: Ticket, Length: 681, dtype: int64"
      ]
     },
     "execution_count": 45,
     "metadata": {},
     "output_type": "execute_result"
    }
   ],
   "source": [
    "train_df[\"Ticket\"].value_counts()"
   ]
  },
  {
   "cell_type": "markdown",
   "metadata": {},
   "source": [
    "# Feature Engineering"
   ]
  },
  {
   "cell_type": "code",
   "execution_count": 46,
   "metadata": {},
   "outputs": [
    {
     "data": {
      "text/plain": [
       "177"
      ]
     },
     "execution_count": 46,
     "metadata": {},
     "output_type": "execute_result"
    }
   ],
   "source": [
    "train_df[\"Age\"].isnull().sum()"
   ]
  },
  {
   "cell_type": "markdown",
   "metadata": {},
   "source": [
    "data를 string으로 바꿔주는 str method\n",
    "여기에 정규표현식을 적용하게 해주는 extract method"
   ]
  },
  {
   "cell_type": "code",
   "execution_count": 47,
   "metadata": {},
   "outputs": [],
   "source": [
    "train_df[\"Initial\"] = train_df.Name.str.extract(\"([A-Za-z]+)\\.\")\n",
    "test_df[\"Initial\"] = test_df.Name.str.extract(\"([A-Za-z]+)\\.\")"
   ]
  },
  {
   "cell_type": "code",
   "execution_count": 48,
   "metadata": {},
   "outputs": [
    {
     "data": {
      "text/html": [
       "<style  type=\"text/css\" >\n",
       "    #T_505f1d5a_1014_11ea_823a_104a7deeb02drow0_col0 {\n",
       "            background-color:  #ffff66;\n",
       "            color:  #000000;\n",
       "        }    #T_505f1d5a_1014_11ea_823a_104a7deeb02drow0_col1 {\n",
       "            background-color:  #ffff66;\n",
       "            color:  #000000;\n",
       "        }    #T_505f1d5a_1014_11ea_823a_104a7deeb02drow0_col2 {\n",
       "            background-color:  #008066;\n",
       "            color:  #f1f1f1;\n",
       "        }    #T_505f1d5a_1014_11ea_823a_104a7deeb02drow0_col3 {\n",
       "            background-color:  #ffff66;\n",
       "            color:  #000000;\n",
       "        }    #T_505f1d5a_1014_11ea_823a_104a7deeb02drow0_col4 {\n",
       "            background-color:  #ffff66;\n",
       "            color:  #000000;\n",
       "        }    #T_505f1d5a_1014_11ea_823a_104a7deeb02drow0_col5 {\n",
       "            background-color:  #ffff66;\n",
       "            color:  #000000;\n",
       "        }    #T_505f1d5a_1014_11ea_823a_104a7deeb02drow0_col6 {\n",
       "            background-color:  #008066;\n",
       "            color:  #f1f1f1;\n",
       "        }    #T_505f1d5a_1014_11ea_823a_104a7deeb02drow0_col7 {\n",
       "            background-color:  #ffff66;\n",
       "            color:  #000000;\n",
       "        }    #T_505f1d5a_1014_11ea_823a_104a7deeb02drow0_col8 {\n",
       "            background-color:  #ffff66;\n",
       "            color:  #000000;\n",
       "        }    #T_505f1d5a_1014_11ea_823a_104a7deeb02drow0_col9 {\n",
       "            background-color:  #008066;\n",
       "            color:  #f1f1f1;\n",
       "        }    #T_505f1d5a_1014_11ea_823a_104a7deeb02drow0_col10 {\n",
       "            background-color:  #008066;\n",
       "            color:  #f1f1f1;\n",
       "        }    #T_505f1d5a_1014_11ea_823a_104a7deeb02drow0_col11 {\n",
       "            background-color:  #008066;\n",
       "            color:  #f1f1f1;\n",
       "        }    #T_505f1d5a_1014_11ea_823a_104a7deeb02drow0_col12 {\n",
       "            background-color:  #ffff66;\n",
       "            color:  #000000;\n",
       "        }    #T_505f1d5a_1014_11ea_823a_104a7deeb02drow0_col13 {\n",
       "            background-color:  #008066;\n",
       "            color:  #f1f1f1;\n",
       "        }    #T_505f1d5a_1014_11ea_823a_104a7deeb02drow0_col14 {\n",
       "            background-color:  #008066;\n",
       "            color:  #f1f1f1;\n",
       "        }    #T_505f1d5a_1014_11ea_823a_104a7deeb02drow0_col15 {\n",
       "            background-color:  #ffff66;\n",
       "            color:  #000000;\n",
       "        }    #T_505f1d5a_1014_11ea_823a_104a7deeb02drow0_col16 {\n",
       "            background-color:  #ffff66;\n",
       "            color:  #000000;\n",
       "        }    #T_505f1d5a_1014_11ea_823a_104a7deeb02drow1_col0 {\n",
       "            background-color:  #008066;\n",
       "            color:  #f1f1f1;\n",
       "        }    #T_505f1d5a_1014_11ea_823a_104a7deeb02drow1_col1 {\n",
       "            background-color:  #008066;\n",
       "            color:  #f1f1f1;\n",
       "        }    #T_505f1d5a_1014_11ea_823a_104a7deeb02drow1_col2 {\n",
       "            background-color:  #ffff66;\n",
       "            color:  #000000;\n",
       "        }    #T_505f1d5a_1014_11ea_823a_104a7deeb02drow1_col3 {\n",
       "            background-color:  #008066;\n",
       "            color:  #f1f1f1;\n",
       "        }    #T_505f1d5a_1014_11ea_823a_104a7deeb02drow1_col4 {\n",
       "            background-color:  #008066;\n",
       "            color:  #f1f1f1;\n",
       "        }    #T_505f1d5a_1014_11ea_823a_104a7deeb02drow1_col5 {\n",
       "            background-color:  #008066;\n",
       "            color:  #f1f1f1;\n",
       "        }    #T_505f1d5a_1014_11ea_823a_104a7deeb02drow1_col6 {\n",
       "            background-color:  #ffff66;\n",
       "            color:  #000000;\n",
       "        }    #T_505f1d5a_1014_11ea_823a_104a7deeb02drow1_col7 {\n",
       "            background-color:  #008066;\n",
       "            color:  #f1f1f1;\n",
       "        }    #T_505f1d5a_1014_11ea_823a_104a7deeb02drow1_col8 {\n",
       "            background-color:  #008066;\n",
       "            color:  #f1f1f1;\n",
       "        }    #T_505f1d5a_1014_11ea_823a_104a7deeb02drow1_col9 {\n",
       "            background-color:  #ffff66;\n",
       "            color:  #000000;\n",
       "        }    #T_505f1d5a_1014_11ea_823a_104a7deeb02drow1_col10 {\n",
       "            background-color:  #ffff66;\n",
       "            color:  #000000;\n",
       "        }    #T_505f1d5a_1014_11ea_823a_104a7deeb02drow1_col11 {\n",
       "            background-color:  #ffff66;\n",
       "            color:  #000000;\n",
       "        }    #T_505f1d5a_1014_11ea_823a_104a7deeb02drow1_col12 {\n",
       "            background-color:  #008066;\n",
       "            color:  #f1f1f1;\n",
       "        }    #T_505f1d5a_1014_11ea_823a_104a7deeb02drow1_col13 {\n",
       "            background-color:  #ffff66;\n",
       "            color:  #000000;\n",
       "        }    #T_505f1d5a_1014_11ea_823a_104a7deeb02drow1_col14 {\n",
       "            background-color:  #ffff66;\n",
       "            color:  #000000;\n",
       "        }    #T_505f1d5a_1014_11ea_823a_104a7deeb02drow1_col15 {\n",
       "            background-color:  #008066;\n",
       "            color:  #f1f1f1;\n",
       "        }    #T_505f1d5a_1014_11ea_823a_104a7deeb02drow1_col16 {\n",
       "            background-color:  #008066;\n",
       "            color:  #f1f1f1;\n",
       "        }</style><table id=\"T_505f1d5a_1014_11ea_823a_104a7deeb02d\" ><thead>    <tr>        <th class=\"index_name level0\" >Initial</th>        <th class=\"col_heading level0 col0\" >Capt</th>        <th class=\"col_heading level0 col1\" >Col</th>        <th class=\"col_heading level0 col2\" >Countess</th>        <th class=\"col_heading level0 col3\" >Don</th>        <th class=\"col_heading level0 col4\" >Dr</th>        <th class=\"col_heading level0 col5\" >Jonkheer</th>        <th class=\"col_heading level0 col6\" >Lady</th>        <th class=\"col_heading level0 col7\" >Major</th>        <th class=\"col_heading level0 col8\" >Master</th>        <th class=\"col_heading level0 col9\" >Miss</th>        <th class=\"col_heading level0 col10\" >Mlle</th>        <th class=\"col_heading level0 col11\" >Mme</th>        <th class=\"col_heading level0 col12\" >Mr</th>        <th class=\"col_heading level0 col13\" >Mrs</th>        <th class=\"col_heading level0 col14\" >Ms</th>        <th class=\"col_heading level0 col15\" >Rev</th>        <th class=\"col_heading level0 col16\" >Sir</th>    </tr>    <tr>        <th class=\"index_name level0\" >Sex</th>        <th class=\"blank\" ></th>        <th class=\"blank\" ></th>        <th class=\"blank\" ></th>        <th class=\"blank\" ></th>        <th class=\"blank\" ></th>        <th class=\"blank\" ></th>        <th class=\"blank\" ></th>        <th class=\"blank\" ></th>        <th class=\"blank\" ></th>        <th class=\"blank\" ></th>        <th class=\"blank\" ></th>        <th class=\"blank\" ></th>        <th class=\"blank\" ></th>        <th class=\"blank\" ></th>        <th class=\"blank\" ></th>        <th class=\"blank\" ></th>        <th class=\"blank\" ></th>    </tr></thead><tbody>\n",
       "                <tr>\n",
       "                        <th id=\"T_505f1d5a_1014_11ea_823a_104a7deeb02dlevel0_row0\" class=\"row_heading level0 row0\" >female</th>\n",
       "                        <td id=\"T_505f1d5a_1014_11ea_823a_104a7deeb02drow0_col0\" class=\"data row0 col0\" >0</td>\n",
       "                        <td id=\"T_505f1d5a_1014_11ea_823a_104a7deeb02drow0_col1\" class=\"data row0 col1\" >0</td>\n",
       "                        <td id=\"T_505f1d5a_1014_11ea_823a_104a7deeb02drow0_col2\" class=\"data row0 col2\" >1</td>\n",
       "                        <td id=\"T_505f1d5a_1014_11ea_823a_104a7deeb02drow0_col3\" class=\"data row0 col3\" >0</td>\n",
       "                        <td id=\"T_505f1d5a_1014_11ea_823a_104a7deeb02drow0_col4\" class=\"data row0 col4\" >1</td>\n",
       "                        <td id=\"T_505f1d5a_1014_11ea_823a_104a7deeb02drow0_col5\" class=\"data row0 col5\" >0</td>\n",
       "                        <td id=\"T_505f1d5a_1014_11ea_823a_104a7deeb02drow0_col6\" class=\"data row0 col6\" >1</td>\n",
       "                        <td id=\"T_505f1d5a_1014_11ea_823a_104a7deeb02drow0_col7\" class=\"data row0 col7\" >0</td>\n",
       "                        <td id=\"T_505f1d5a_1014_11ea_823a_104a7deeb02drow0_col8\" class=\"data row0 col8\" >0</td>\n",
       "                        <td id=\"T_505f1d5a_1014_11ea_823a_104a7deeb02drow0_col9\" class=\"data row0 col9\" >182</td>\n",
       "                        <td id=\"T_505f1d5a_1014_11ea_823a_104a7deeb02drow0_col10\" class=\"data row0 col10\" >2</td>\n",
       "                        <td id=\"T_505f1d5a_1014_11ea_823a_104a7deeb02drow0_col11\" class=\"data row0 col11\" >1</td>\n",
       "                        <td id=\"T_505f1d5a_1014_11ea_823a_104a7deeb02drow0_col12\" class=\"data row0 col12\" >0</td>\n",
       "                        <td id=\"T_505f1d5a_1014_11ea_823a_104a7deeb02drow0_col13\" class=\"data row0 col13\" >125</td>\n",
       "                        <td id=\"T_505f1d5a_1014_11ea_823a_104a7deeb02drow0_col14\" class=\"data row0 col14\" >1</td>\n",
       "                        <td id=\"T_505f1d5a_1014_11ea_823a_104a7deeb02drow0_col15\" class=\"data row0 col15\" >0</td>\n",
       "                        <td id=\"T_505f1d5a_1014_11ea_823a_104a7deeb02drow0_col16\" class=\"data row0 col16\" >0</td>\n",
       "            </tr>\n",
       "            <tr>\n",
       "                        <th id=\"T_505f1d5a_1014_11ea_823a_104a7deeb02dlevel0_row1\" class=\"row_heading level0 row1\" >male</th>\n",
       "                        <td id=\"T_505f1d5a_1014_11ea_823a_104a7deeb02drow1_col0\" class=\"data row1 col0\" >1</td>\n",
       "                        <td id=\"T_505f1d5a_1014_11ea_823a_104a7deeb02drow1_col1\" class=\"data row1 col1\" >2</td>\n",
       "                        <td id=\"T_505f1d5a_1014_11ea_823a_104a7deeb02drow1_col2\" class=\"data row1 col2\" >0</td>\n",
       "                        <td id=\"T_505f1d5a_1014_11ea_823a_104a7deeb02drow1_col3\" class=\"data row1 col3\" >1</td>\n",
       "                        <td id=\"T_505f1d5a_1014_11ea_823a_104a7deeb02drow1_col4\" class=\"data row1 col4\" >6</td>\n",
       "                        <td id=\"T_505f1d5a_1014_11ea_823a_104a7deeb02drow1_col5\" class=\"data row1 col5\" >1</td>\n",
       "                        <td id=\"T_505f1d5a_1014_11ea_823a_104a7deeb02drow1_col6\" class=\"data row1 col6\" >0</td>\n",
       "                        <td id=\"T_505f1d5a_1014_11ea_823a_104a7deeb02drow1_col7\" class=\"data row1 col7\" >2</td>\n",
       "                        <td id=\"T_505f1d5a_1014_11ea_823a_104a7deeb02drow1_col8\" class=\"data row1 col8\" >40</td>\n",
       "                        <td id=\"T_505f1d5a_1014_11ea_823a_104a7deeb02drow1_col9\" class=\"data row1 col9\" >0</td>\n",
       "                        <td id=\"T_505f1d5a_1014_11ea_823a_104a7deeb02drow1_col10\" class=\"data row1 col10\" >0</td>\n",
       "                        <td id=\"T_505f1d5a_1014_11ea_823a_104a7deeb02drow1_col11\" class=\"data row1 col11\" >0</td>\n",
       "                        <td id=\"T_505f1d5a_1014_11ea_823a_104a7deeb02drow1_col12\" class=\"data row1 col12\" >517</td>\n",
       "                        <td id=\"T_505f1d5a_1014_11ea_823a_104a7deeb02drow1_col13\" class=\"data row1 col13\" >0</td>\n",
       "                        <td id=\"T_505f1d5a_1014_11ea_823a_104a7deeb02drow1_col14\" class=\"data row1 col14\" >0</td>\n",
       "                        <td id=\"T_505f1d5a_1014_11ea_823a_104a7deeb02drow1_col15\" class=\"data row1 col15\" >6</td>\n",
       "                        <td id=\"T_505f1d5a_1014_11ea_823a_104a7deeb02drow1_col16\" class=\"data row1 col16\" >1</td>\n",
       "            </tr>\n",
       "    </tbody></table>"
      ],
      "text/plain": [
       "<pandas.io.formats.style.Styler at 0x1cff78ddcf8>"
      ]
     },
     "execution_count": 48,
     "metadata": {},
     "output_type": "execute_result"
    }
   ],
   "source": [
    "pd.crosstab(train_df[\"Initial\"], train_df[\"Sex\"]).T.style.background_gradient(cmap = \"summer_r\")"
   ]
  },
  {
   "cell_type": "code",
   "execution_count": 49,
   "metadata": {},
   "outputs": [
    {
     "data": {
      "text/html": [
       "<div>\n",
       "<style scoped>\n",
       "    .dataframe tbody tr th:only-of-type {\n",
       "        vertical-align: middle;\n",
       "    }\n",
       "\n",
       "    .dataframe tbody tr th {\n",
       "        vertical-align: top;\n",
       "    }\n",
       "\n",
       "    .dataframe thead th {\n",
       "        text-align: right;\n",
       "    }\n",
       "</style>\n",
       "<table border=\"1\" class=\"dataframe\">\n",
       "  <thead>\n",
       "    <tr style=\"text-align: right;\">\n",
       "      <th>Sex</th>\n",
       "      <th>female</th>\n",
       "      <th>male</th>\n",
       "    </tr>\n",
       "    <tr>\n",
       "      <th>Initial</th>\n",
       "      <th></th>\n",
       "      <th></th>\n",
       "    </tr>\n",
       "  </thead>\n",
       "  <tbody>\n",
       "    <tr>\n",
       "      <th>Capt</th>\n",
       "      <td>0</td>\n",
       "      <td>1</td>\n",
       "    </tr>\n",
       "    <tr>\n",
       "      <th>Col</th>\n",
       "      <td>0</td>\n",
       "      <td>2</td>\n",
       "    </tr>\n",
       "    <tr>\n",
       "      <th>Countess</th>\n",
       "      <td>1</td>\n",
       "      <td>0</td>\n",
       "    </tr>\n",
       "    <tr>\n",
       "      <th>Don</th>\n",
       "      <td>0</td>\n",
       "      <td>1</td>\n",
       "    </tr>\n",
       "    <tr>\n",
       "      <th>Dr</th>\n",
       "      <td>1</td>\n",
       "      <td>6</td>\n",
       "    </tr>\n",
       "    <tr>\n",
       "      <th>Jonkheer</th>\n",
       "      <td>0</td>\n",
       "      <td>1</td>\n",
       "    </tr>\n",
       "    <tr>\n",
       "      <th>Lady</th>\n",
       "      <td>1</td>\n",
       "      <td>0</td>\n",
       "    </tr>\n",
       "    <tr>\n",
       "      <th>Major</th>\n",
       "      <td>0</td>\n",
       "      <td>2</td>\n",
       "    </tr>\n",
       "    <tr>\n",
       "      <th>Master</th>\n",
       "      <td>0</td>\n",
       "      <td>40</td>\n",
       "    </tr>\n",
       "    <tr>\n",
       "      <th>Miss</th>\n",
       "      <td>182</td>\n",
       "      <td>0</td>\n",
       "    </tr>\n",
       "    <tr>\n",
       "      <th>Mlle</th>\n",
       "      <td>2</td>\n",
       "      <td>0</td>\n",
       "    </tr>\n",
       "    <tr>\n",
       "      <th>Mme</th>\n",
       "      <td>1</td>\n",
       "      <td>0</td>\n",
       "    </tr>\n",
       "    <tr>\n",
       "      <th>Mr</th>\n",
       "      <td>0</td>\n",
       "      <td>517</td>\n",
       "    </tr>\n",
       "    <tr>\n",
       "      <th>Mrs</th>\n",
       "      <td>125</td>\n",
       "      <td>0</td>\n",
       "    </tr>\n",
       "    <tr>\n",
       "      <th>Ms</th>\n",
       "      <td>1</td>\n",
       "      <td>0</td>\n",
       "    </tr>\n",
       "    <tr>\n",
       "      <th>Rev</th>\n",
       "      <td>0</td>\n",
       "      <td>6</td>\n",
       "    </tr>\n",
       "    <tr>\n",
       "      <th>Sir</th>\n",
       "      <td>0</td>\n",
       "      <td>1</td>\n",
       "    </tr>\n",
       "  </tbody>\n",
       "</table>\n",
       "</div>"
      ],
      "text/plain": [
       "Sex       female  male\n",
       "Initial               \n",
       "Capt           0     1\n",
       "Col            0     2\n",
       "Countess       1     0\n",
       "Don            0     1\n",
       "Dr             1     6\n",
       "Jonkheer       0     1\n",
       "Lady           1     0\n",
       "Major          0     2\n",
       "Master         0    40\n",
       "Miss         182     0\n",
       "Mlle           2     0\n",
       "Mme            1     0\n",
       "Mr             0   517\n",
       "Mrs          125     0\n",
       "Ms             1     0\n",
       "Rev            0     6\n",
       "Sir            0     1"
      ]
     },
     "execution_count": 49,
     "metadata": {},
     "output_type": "execute_result"
    }
   ],
   "source": [
    "pd.crosstab(train_df[\"Initial\"], train_df[\"Sex\"])"
   ]
  },
  {
   "cell_type": "code",
   "execution_count": 50,
   "metadata": {},
   "outputs": [],
   "source": [
    "train_df['Initial'].replace(['Mlle','Mme','Ms','Dr','Major','Lady','Countess','Jonkheer','Col','Rev','Capt','Sir','Don', 'Dona'],\n",
    "                        ['Miss','Miss','Miss','Mr','Mr','Mrs','Mrs','Other','Other','Other','Mr','Mr','Mr', 'Mr'],inplace=True)\n",
    "\n",
    "test_df['Initial'].replace(['Mlle','Mme','Ms','Dr','Major','Lady','Countess','Jonkheer','Col','Rev','Capt','Sir','Don', 'Dona'],\n",
    "                        ['Miss','Miss','Miss','Mr','Mr','Mrs','Mrs','Other','Other','Other','Mr','Mr','Mr', 'Mr'],inplace=True)"
   ]
  },
  {
   "cell_type": "code",
   "execution_count": 51,
   "metadata": {
    "scrolled": true
   },
   "outputs": [
    {
     "data": {
      "text/html": [
       "<div>\n",
       "<style scoped>\n",
       "    .dataframe tbody tr th:only-of-type {\n",
       "        vertical-align: middle;\n",
       "    }\n",
       "\n",
       "    .dataframe tbody tr th {\n",
       "        vertical-align: top;\n",
       "    }\n",
       "\n",
       "    .dataframe thead th {\n",
       "        text-align: right;\n",
       "    }\n",
       "</style>\n",
       "<table border=\"1\" class=\"dataframe\">\n",
       "  <thead>\n",
       "    <tr style=\"text-align: right;\">\n",
       "      <th></th>\n",
       "      <th>PassengerId</th>\n",
       "      <th>Survived</th>\n",
       "      <th>Pclass</th>\n",
       "      <th>Age</th>\n",
       "      <th>SibSp</th>\n",
       "      <th>Parch</th>\n",
       "      <th>Fare</th>\n",
       "      <th>FamilySize</th>\n",
       "    </tr>\n",
       "    <tr>\n",
       "      <th>Initial</th>\n",
       "      <th></th>\n",
       "      <th></th>\n",
       "      <th></th>\n",
       "      <th></th>\n",
       "      <th></th>\n",
       "      <th></th>\n",
       "      <th></th>\n",
       "      <th></th>\n",
       "    </tr>\n",
       "  </thead>\n",
       "  <tbody>\n",
       "    <tr>\n",
       "      <th>Master</th>\n",
       "      <td>414.975000</td>\n",
       "      <td>0.575000</td>\n",
       "      <td>2.625000</td>\n",
       "      <td>4.574167</td>\n",
       "      <td>2.300000</td>\n",
       "      <td>1.375000</td>\n",
       "      <td>3.340710</td>\n",
       "      <td>4.675000</td>\n",
       "    </tr>\n",
       "    <tr>\n",
       "      <th>Miss</th>\n",
       "      <td>411.741935</td>\n",
       "      <td>0.704301</td>\n",
       "      <td>2.284946</td>\n",
       "      <td>21.860000</td>\n",
       "      <td>0.698925</td>\n",
       "      <td>0.537634</td>\n",
       "      <td>3.123713</td>\n",
       "      <td>2.236559</td>\n",
       "    </tr>\n",
       "    <tr>\n",
       "      <th>Mr</th>\n",
       "      <td>455.880907</td>\n",
       "      <td>0.162571</td>\n",
       "      <td>2.381853</td>\n",
       "      <td>32.739609</td>\n",
       "      <td>0.293006</td>\n",
       "      <td>0.151229</td>\n",
       "      <td>2.651507</td>\n",
       "      <td>1.444234</td>\n",
       "    </tr>\n",
       "    <tr>\n",
       "      <th>Mrs</th>\n",
       "      <td>456.393701</td>\n",
       "      <td>0.795276</td>\n",
       "      <td>1.984252</td>\n",
       "      <td>35.981818</td>\n",
       "      <td>0.692913</td>\n",
       "      <td>0.818898</td>\n",
       "      <td>3.443751</td>\n",
       "      <td>2.511811</td>\n",
       "    </tr>\n",
       "    <tr>\n",
       "      <th>Other</th>\n",
       "      <td>564.444444</td>\n",
       "      <td>0.111111</td>\n",
       "      <td>1.666667</td>\n",
       "      <td>45.888889</td>\n",
       "      <td>0.111111</td>\n",
       "      <td>0.111111</td>\n",
       "      <td>2.641605</td>\n",
       "      <td>1.222222</td>\n",
       "    </tr>\n",
       "  </tbody>\n",
       "</table>\n",
       "</div>"
      ],
      "text/plain": [
       "         PassengerId  Survived    Pclass        Age     SibSp     Parch  \\\n",
       "Initial                                                                   \n",
       "Master    414.975000  0.575000  2.625000   4.574167  2.300000  1.375000   \n",
       "Miss      411.741935  0.704301  2.284946  21.860000  0.698925  0.537634   \n",
       "Mr        455.880907  0.162571  2.381853  32.739609  0.293006  0.151229   \n",
       "Mrs       456.393701  0.795276  1.984252  35.981818  0.692913  0.818898   \n",
       "Other     564.444444  0.111111  1.666667  45.888889  0.111111  0.111111   \n",
       "\n",
       "             Fare  FamilySize  \n",
       "Initial                        \n",
       "Master   3.340710    4.675000  \n",
       "Miss     3.123713    2.236559  \n",
       "Mr       2.651507    1.444234  \n",
       "Mrs      3.443751    2.511811  \n",
       "Other    2.641605    1.222222  "
      ]
     },
     "execution_count": 51,
     "metadata": {},
     "output_type": "execute_result"
    }
   ],
   "source": [
    "train_df.groupby(\"Initial\").mean()"
   ]
  },
  {
   "cell_type": "code",
   "execution_count": 52,
   "metadata": {},
   "outputs": [
    {
     "data": {
      "text/plain": [
       "<matplotlib.axes._subplots.AxesSubplot at 0x1cff79dec88>"
      ]
     },
     "execution_count": 52,
     "metadata": {},
     "output_type": "execute_result"
    },
    {
     "data": {
      "image/png": "[encoded data removed]",
      "text/plain": [
       "<Figure size 432x288 with 1 Axes>"
      ]
     },
     "metadata": {
      "needs_background": "light"
     },
     "output_type": "display_data"
    }
   ],
   "source": [
    "train_df.groupby(\"Initial\")[\"Survived\"].mean().plot.bar()"
   ]
  },
  {
   "cell_type": "code",
   "execution_count": 53,
   "metadata": {},
   "outputs": [
    {
     "data": {
      "text/html": [
       "<div>\n",
       "<style scoped>\n",
       "    .dataframe tbody tr th:only-of-type {\n",
       "        vertical-align: middle;\n",
       "    }\n",
       "\n",
       "    .dataframe tbody tr th {\n",
       "        vertical-align: top;\n",
       "    }\n",
       "\n",
       "    .dataframe thead th {\n",
       "        text-align: right;\n",
       "    }\n",
       "</style>\n",
       "<table border=\"1\" class=\"dataframe\">\n",
       "  <thead>\n",
       "    <tr style=\"text-align: right;\">\n",
       "      <th></th>\n",
       "      <th>PassengerId</th>\n",
       "      <th>Survived</th>\n",
       "      <th>Pclass</th>\n",
       "      <th>Age</th>\n",
       "      <th>SibSp</th>\n",
       "      <th>Parch</th>\n",
       "      <th>Fare</th>\n",
       "      <th>FamilySize</th>\n",
       "    </tr>\n",
       "    <tr>\n",
       "      <th>Initial</th>\n",
       "      <th></th>\n",
       "      <th></th>\n",
       "      <th></th>\n",
       "      <th></th>\n",
       "      <th></th>\n",
       "      <th></th>\n",
       "      <th></th>\n",
       "      <th></th>\n",
       "    </tr>\n",
       "  </thead>\n",
       "  <tbody>\n",
       "    <tr>\n",
       "      <th>Master</th>\n",
       "      <td>414.975000</td>\n",
       "      <td>0.575000</td>\n",
       "      <td>2.625000</td>\n",
       "      <td>4.574167</td>\n",
       "      <td>2.300000</td>\n",
       "      <td>1.375000</td>\n",
       "      <td>3.340710</td>\n",
       "      <td>4.675000</td>\n",
       "    </tr>\n",
       "    <tr>\n",
       "      <th>Miss</th>\n",
       "      <td>411.741935</td>\n",
       "      <td>0.704301</td>\n",
       "      <td>2.284946</td>\n",
       "      <td>21.860000</td>\n",
       "      <td>0.698925</td>\n",
       "      <td>0.537634</td>\n",
       "      <td>3.123713</td>\n",
       "      <td>2.236559</td>\n",
       "    </tr>\n",
       "    <tr>\n",
       "      <th>Mr</th>\n",
       "      <td>455.880907</td>\n",
       "      <td>0.162571</td>\n",
       "      <td>2.381853</td>\n",
       "      <td>32.739609</td>\n",
       "      <td>0.293006</td>\n",
       "      <td>0.151229</td>\n",
       "      <td>2.651507</td>\n",
       "      <td>1.444234</td>\n",
       "    </tr>\n",
       "    <tr>\n",
       "      <th>Mrs</th>\n",
       "      <td>456.393701</td>\n",
       "      <td>0.795276</td>\n",
       "      <td>1.984252</td>\n",
       "      <td>35.981818</td>\n",
       "      <td>0.692913</td>\n",
       "      <td>0.818898</td>\n",
       "      <td>3.443751</td>\n",
       "      <td>2.511811</td>\n",
       "    </tr>\n",
       "    <tr>\n",
       "      <th>Other</th>\n",
       "      <td>564.444444</td>\n",
       "      <td>0.111111</td>\n",
       "      <td>1.666667</td>\n",
       "      <td>45.888889</td>\n",
       "      <td>0.111111</td>\n",
       "      <td>0.111111</td>\n",
       "      <td>2.641605</td>\n",
       "      <td>1.222222</td>\n",
       "    </tr>\n",
       "  </tbody>\n",
       "</table>\n",
       "</div>"
      ],
      "text/plain": [
       "         PassengerId  Survived    Pclass        Age     SibSp     Parch  \\\n",
       "Initial                                                                   \n",
       "Master    414.975000  0.575000  2.625000   4.574167  2.300000  1.375000   \n",
       "Miss      411.741935  0.704301  2.284946  21.860000  0.698925  0.537634   \n",
       "Mr        455.880907  0.162571  2.381853  32.739609  0.293006  0.151229   \n",
       "Mrs       456.393701  0.795276  1.984252  35.981818  0.692913  0.818898   \n",
       "Other     564.444444  0.111111  1.666667  45.888889  0.111111  0.111111   \n",
       "\n",
       "             Fare  FamilySize  \n",
       "Initial                        \n",
       "Master   3.340710    4.675000  \n",
       "Miss     3.123713    2.236559  \n",
       "Mr       2.651507    1.444234  \n",
       "Mrs      3.443751    2.511811  \n",
       "Other    2.641605    1.222222  "
      ]
     },
     "execution_count": 53,
     "metadata": {},
     "output_type": "execute_result"
    }
   ],
   "source": [
    "train_df.groupby(\"Initial\").mean()"
   ]
  },
  {
   "cell_type": "markdown",
   "metadata": {},
   "source": [
    "### 평균으로 null 값 채우기\n",
    "### 이외에도 다양한 방법이 있으니 공부해봅시다"
   ]
  },
  {
   "cell_type": "code",
   "execution_count": 54,
   "metadata": {},
   "outputs": [],
   "source": [
    "train_df.loc[(train_df.Age.isnull())&(train_df.Initial == \"Mr\"), \"Age\"] = 33\n",
    "train_df.loc[(train_df.Age.isnull())&(train_df.Initial == \"Mrs\"), \"Age\"] = 36\n",
    "train_df.loc[(train_df.Age.isnull())&(train_df.Initial == \"Master\"), \"Age\"] = 5\n",
    "train_df.loc[(train_df.Age.isnull())&(train_df.Initial == \"Miss\"), \"Age\"] = 22\n",
    "train_df.loc[(train_df.Age.isnull())&(train_df.Initial == \"Other\"), \"Age\"] = 46\n",
    "\n",
    "test_df.loc[(test_df.Age.isnull())&(test_df.Initial == \"Mr\"), \"Age\"] = 33\n",
    "test_df.loc[(test_df.Age.isnull())&(test_df.Initial == \"Mrs\"), \"Age\"] = 36\n",
    "test_df.loc[(test_df.Age.isnull())&(test_df.Initial == \"Master\"), \"Age\"] = 5\n",
    "test_df.loc[(test_df.Age.isnull())&(test_df.Initial == \"Miss\"), \"Age\"] = 22\n",
    "test_df.loc[(test_df.Age.isnull())&(test_df.Initial == \"Other\"), \"Age\"] = 46"
   ]
  },
  {
   "cell_type": "code",
   "execution_count": 55,
   "metadata": {},
   "outputs": [
    {
     "data": {
      "text/plain": [
       "Cabin       687\n",
       "Embarked      2\n",
       "dtype: int64"
      ]
     },
     "execution_count": 55,
     "metadata": {},
     "output_type": "execute_result"
    }
   ],
   "source": [
    "train_df.isnull().sum()[train_df.isnull().sum() > 0]"
   ]
  },
  {
   "cell_type": "code",
   "execution_count": 56,
   "metadata": {},
   "outputs": [
    {
     "data": {
      "text/plain": [
       "Cabin       687\n",
       "Embarked      2\n",
       "dtype: int64"
      ]
     },
     "execution_count": 56,
     "metadata": {},
     "output_type": "execute_result"
    }
   ],
   "source": [
    "train_df.isnull().sum().loc[train_df.isnull().sum() > 0]"
   ]
  },
  {
   "cell_type": "code",
   "execution_count": 57,
   "metadata": {},
   "outputs": [
    {
     "data": {
      "text/plain": [
       "Cabin    327\n",
       "dtype: int64"
      ]
     },
     "execution_count": 57,
     "metadata": {},
     "output_type": "execute_result"
    }
   ],
   "source": [
    "test_df.isnull().sum()[test_df.isnull().sum() > 0]"
   ]
  },
  {
   "cell_type": "code",
   "execution_count": 58,
   "metadata": {},
   "outputs": [
    {
     "data": {
      "text/plain": [
       "2"
      ]
     },
     "execution_count": 58,
     "metadata": {},
     "output_type": "execute_result"
    }
   ],
   "source": [
    "train_df[\"Embarked\"].isnull().sum()"
   ]
  },
  {
   "cell_type": "code",
   "execution_count": 59,
   "metadata": {},
   "outputs": [],
   "source": [
    "train_df[\"Embarked\"].fillna(\"S\", inplace = True)"
   ]
  },
  {
   "cell_type": "code",
   "execution_count": 60,
   "metadata": {},
   "outputs": [
    {
     "data": {
      "text/plain": [
       "Cabin    687\n",
       "dtype: int64"
      ]
     },
     "execution_count": 60,
     "metadata": {},
     "output_type": "execute_result"
    }
   ],
   "source": [
    "train_df.isnull().sum()[train_df.isnull().sum() > 0]"
   ]
  },
  {
   "cell_type": "markdown",
   "metadata": {},
   "source": [
    "### continuous 데이터를 categorical 하기"
   ]
  },
  {
   "cell_type": "code",
   "execution_count": 61,
   "metadata": {},
   "outputs": [],
   "source": [
    "def category_age(x):\n",
    "    if x < 10:\n",
    "        return 0\n",
    "    elif x < 20:\n",
    "        return 1\n",
    "    elif x < 30:\n",
    "        return 2\n",
    "    elif x < 40:\n",
    "        return 3\n",
    "    elif x < 50:\n",
    "        return 4\n",
    "    elif x < 60:\n",
    "        return 5\n",
    "    elif x < 70:\n",
    "        return 6\n",
    "    else:\n",
    "        return 7\n",
    "    \n",
    "train_df[\"Age_category\"] = train_df[\"Age\"].apply(category_age)\n",
    "test_df[\"Age_category\"] = test_df[\"Age\"].apply(category_age)"
   ]
  },
  {
   "cell_type": "code",
   "execution_count": 62,
   "metadata": {},
   "outputs": [
    {
     "data": {
      "text/html": [
       "<div>\n",
       "<style scoped>\n",
       "    .dataframe tbody tr th:only-of-type {\n",
       "        vertical-align: middle;\n",
       "    }\n",
       "\n",
       "    .dataframe tbody tr th {\n",
       "        vertical-align: top;\n",
       "    }\n",
       "\n",
       "    .dataframe thead th {\n",
       "        text-align: right;\n",
       "    }\n",
       "</style>\n",
       "<table border=\"1\" class=\"dataframe\">\n",
       "  <thead>\n",
       "    <tr style=\"text-align: right;\">\n",
       "      <th></th>\n",
       "      <th>PassengerId</th>\n",
       "      <th>Survived</th>\n",
       "      <th>Pclass</th>\n",
       "      <th>Name</th>\n",
       "      <th>Sex</th>\n",
       "      <th>Age</th>\n",
       "      <th>SibSp</th>\n",
       "      <th>Parch</th>\n",
       "      <th>Ticket</th>\n",
       "      <th>Fare</th>\n",
       "      <th>Cabin</th>\n",
       "      <th>Embarked</th>\n",
       "      <th>FamilySize</th>\n",
       "      <th>Initial</th>\n",
       "    </tr>\n",
       "    <tr>\n",
       "      <th>Age_category</th>\n",
       "      <th></th>\n",
       "      <th></th>\n",
       "      <th></th>\n",
       "      <th></th>\n",
       "      <th></th>\n",
       "      <th></th>\n",
       "      <th></th>\n",
       "      <th></th>\n",
       "      <th></th>\n",
       "      <th></th>\n",
       "      <th></th>\n",
       "      <th></th>\n",
       "      <th></th>\n",
       "      <th></th>\n",
       "    </tr>\n",
       "  </thead>\n",
       "  <tbody>\n",
       "    <tr>\n",
       "      <th>0</th>\n",
       "      <td>66</td>\n",
       "      <td>66</td>\n",
       "      <td>66</td>\n",
       "      <td>66</td>\n",
       "      <td>66</td>\n",
       "      <td>66</td>\n",
       "      <td>66</td>\n",
       "      <td>66</td>\n",
       "      <td>66</td>\n",
       "      <td>66</td>\n",
       "      <td>10</td>\n",
       "      <td>66</td>\n",
       "      <td>66</td>\n",
       "      <td>66</td>\n",
       "    </tr>\n",
       "    <tr>\n",
       "      <th>1</th>\n",
       "      <td>102</td>\n",
       "      <td>102</td>\n",
       "      <td>102</td>\n",
       "      <td>102</td>\n",
       "      <td>102</td>\n",
       "      <td>102</td>\n",
       "      <td>102</td>\n",
       "      <td>102</td>\n",
       "      <td>102</td>\n",
       "      <td>102</td>\n",
       "      <td>19</td>\n",
       "      <td>102</td>\n",
       "      <td>102</td>\n",
       "      <td>102</td>\n",
       "    </tr>\n",
       "    <tr>\n",
       "      <th>2</th>\n",
       "      <td>256</td>\n",
       "      <td>256</td>\n",
       "      <td>256</td>\n",
       "      <td>256</td>\n",
       "      <td>256</td>\n",
       "      <td>256</td>\n",
       "      <td>256</td>\n",
       "      <td>256</td>\n",
       "      <td>256</td>\n",
       "      <td>256</td>\n",
       "      <td>38</td>\n",
       "      <td>256</td>\n",
       "      <td>256</td>\n",
       "      <td>256</td>\n",
       "    </tr>\n",
       "    <tr>\n",
       "      <th>3</th>\n",
       "      <td>304</td>\n",
       "      <td>304</td>\n",
       "      <td>304</td>\n",
       "      <td>304</td>\n",
       "      <td>304</td>\n",
       "      <td>304</td>\n",
       "      <td>304</td>\n",
       "      <td>304</td>\n",
       "      <td>304</td>\n",
       "      <td>304</td>\n",
       "      <td>67</td>\n",
       "      <td>304</td>\n",
       "      <td>304</td>\n",
       "      <td>304</td>\n",
       "    </tr>\n",
       "    <tr>\n",
       "      <th>4</th>\n",
       "      <td>89</td>\n",
       "      <td>89</td>\n",
       "      <td>89</td>\n",
       "      <td>89</td>\n",
       "      <td>89</td>\n",
       "      <td>89</td>\n",
       "      <td>89</td>\n",
       "      <td>89</td>\n",
       "      <td>89</td>\n",
       "      <td>89</td>\n",
       "      <td>33</td>\n",
       "      <td>89</td>\n",
       "      <td>89</td>\n",
       "      <td>89</td>\n",
       "    </tr>\n",
       "    <tr>\n",
       "      <th>5</th>\n",
       "      <td>48</td>\n",
       "      <td>48</td>\n",
       "      <td>48</td>\n",
       "      <td>48</td>\n",
       "      <td>48</td>\n",
       "      <td>48</td>\n",
       "      <td>48</td>\n",
       "      <td>48</td>\n",
       "      <td>48</td>\n",
       "      <td>48</td>\n",
       "      <td>24</td>\n",
       "      <td>48</td>\n",
       "      <td>48</td>\n",
       "      <td>48</td>\n",
       "    </tr>\n",
       "    <tr>\n",
       "      <th>6</th>\n",
       "      <td>19</td>\n",
       "      <td>19</td>\n",
       "      <td>19</td>\n",
       "      <td>19</td>\n",
       "      <td>19</td>\n",
       "      <td>19</td>\n",
       "      <td>19</td>\n",
       "      <td>19</td>\n",
       "      <td>19</td>\n",
       "      <td>19</td>\n",
       "      <td>10</td>\n",
       "      <td>19</td>\n",
       "      <td>19</td>\n",
       "      <td>19</td>\n",
       "    </tr>\n",
       "    <tr>\n",
       "      <th>7</th>\n",
       "      <td>7</td>\n",
       "      <td>7</td>\n",
       "      <td>7</td>\n",
       "      <td>7</td>\n",
       "      <td>7</td>\n",
       "      <td>7</td>\n",
       "      <td>7</td>\n",
       "      <td>7</td>\n",
       "      <td>7</td>\n",
       "      <td>7</td>\n",
       "      <td>3</td>\n",
       "      <td>7</td>\n",
       "      <td>7</td>\n",
       "      <td>7</td>\n",
       "    </tr>\n",
       "  </tbody>\n",
       "</table>\n",
       "</div>"
      ],
      "text/plain": [
       "              PassengerId  Survived  Pclass  Name  Sex  Age  SibSp  Parch  \\\n",
       "Age_category                                                                \n",
       "0                      66        66      66    66   66   66     66     66   \n",
       "1                     102       102     102   102  102  102    102    102   \n",
       "2                     256       256     256   256  256  256    256    256   \n",
       "3                     304       304     304   304  304  304    304    304   \n",
       "4                      89        89      89    89   89   89     89     89   \n",
       "5                      48        48      48    48   48   48     48     48   \n",
       "6                      19        19      19    19   19   19     19     19   \n",
       "7                       7         7       7     7    7    7      7      7   \n",
       "\n",
       "              Ticket  Fare  Cabin  Embarked  FamilySize  Initial  \n",
       "Age_category                                                      \n",
       "0                 66    66     10        66          66       66  \n",
       "1                102   102     19       102         102      102  \n",
       "2                256   256     38       256         256      256  \n",
       "3                304   304     67       304         304      304  \n",
       "4                 89    89     33        89          89       89  \n",
       "5                 48    48     24        48          48       48  \n",
       "6                 19    19     10        19          19       19  \n",
       "7                  7     7      3         7           7        7  "
      ]
     },
     "execution_count": 62,
     "metadata": {},
     "output_type": "execute_result"
    }
   ],
   "source": [
    "train_df.groupby([\"Age_category\"]).count()"
   ]
  },
  {
   "cell_type": "code",
   "execution_count": 63,
   "metadata": {
    "scrolled": true
   },
   "outputs": [
    {
     "data": {
      "text/plain": [
       "Age_category\n",
       "0     66\n",
       "1    102\n",
       "2    256\n",
       "3    304\n",
       "4     89\n",
       "5     48\n",
       "6     19\n",
       "7      7\n",
       "Name: PassengerId, dtype: int64"
      ]
     },
     "execution_count": 63,
     "metadata": {},
     "output_type": "execute_result"
    }
   ],
   "source": [
    "train_df.groupby([\"Age_category\"])[\"PassengerId\"].count()"
   ]
  },
  {
   "cell_type": "markdown",
   "metadata": {},
   "source": [
    "## string data를 컴퓨터가 인식할 수 있도록 numerical로 바꿔줌"
   ]
  },
  {
   "cell_type": "code",
   "execution_count": 64,
   "metadata": {},
   "outputs": [
    {
     "data": {
      "text/plain": [
       "array(['Mr', 'Mrs', 'Miss', 'Master', 'Other'], dtype=object)"
      ]
     },
     "execution_count": 64,
     "metadata": {},
     "output_type": "execute_result"
    }
   ],
   "source": [
    "train_df[\"Initial\"].unique()"
   ]
  },
  {
   "cell_type": "code",
   "execution_count": 65,
   "metadata": {},
   "outputs": [
    {
     "data": {
      "text/plain": [
       "array(['Mr', 'Mrs', 'Miss', 'Master', 'Other'], dtype=object)"
      ]
     },
     "execution_count": 65,
     "metadata": {},
     "output_type": "execute_result"
    }
   ],
   "source": [
    "test_df[\"Initial\"].unique()"
   ]
  },
  {
   "cell_type": "code",
   "execution_count": 66,
   "metadata": {},
   "outputs": [],
   "source": [
    "train_df[\"Initial\"] = train_df[\"Initial\"].map({\"Master\": 0, \"Miss\": 1, \"Mr\": 2, \"Mrs\": 3, \"Other\": 4})\n",
    "test_df[\"Initial\"] = test_df[\"Initial\"].map({\"Master\": 0, \"Miss\": 1, \"Mr\": 2, \"Mrs\": 3, \"Other\": 4})"
   ]
  },
  {
   "cell_type": "code",
   "execution_count": 67,
   "metadata": {},
   "outputs": [],
   "source": [
    "train_df[\"Embarked\"] = train_df[\"Embarked\"].map({\"C\": 0, \"Q\": 1, \"S\": 2})\n",
    "test_df[\"Embarked\"] = test_df[\"Embarked\"].map({\"C\": 0, \"Q\": 1, \"S\": 2})"
   ]
  },
  {
   "cell_type": "code",
   "execution_count": 68,
   "metadata": {},
   "outputs": [
    {
     "data": {
      "text/plain": [
       "(False, dtype('int64'))"
      ]
     },
     "execution_count": 68,
     "metadata": {},
     "output_type": "execute_result"
    }
   ],
   "source": [
    "train_df[\"Embarked\"].isnull().any(), train_df[\"Embarked\"].dtypes"
   ]
  },
  {
   "cell_type": "code",
   "execution_count": 69,
   "metadata": {},
   "outputs": [],
   "source": [
    "train_df[\"Sex\"] = train_df[\"Sex\"].map({\"female\": 0, \"male\": 1})\n",
    "test_df[\"Sex\"] = test_df[\"Sex\"].map({\"female\": 0, \"male\": 1})"
   ]
  },
  {
   "cell_type": "code",
   "execution_count": 70,
   "metadata": {},
   "outputs": [
    {
     "data": {
      "text/plain": [
       "PassengerId       int64\n",
       "Survived          int64\n",
       "Pclass            int64\n",
       "Name             object\n",
       "Sex               int64\n",
       "Age             float64\n",
       "SibSp             int64\n",
       "Parch             int64\n",
       "Ticket           object\n",
       "Fare            float64\n",
       "Cabin            object\n",
       "Embarked          int64\n",
       "FamilySize        int64\n",
       "Initial           int64\n",
       "Age_category      int64\n",
       "dtype: object"
      ]
     },
     "execution_count": 70,
     "metadata": {},
     "output_type": "execute_result"
    }
   ],
   "source": [
    "train_df.dtypes"
   ]
  },
  {
   "cell_type": "code",
   "execution_count": 71,
   "metadata": {},
   "outputs": [
    {
     "data": {
      "text/plain": [
       "PassengerId       int64\n",
       "Pclass            int64\n",
       "Name             object\n",
       "Sex               int64\n",
       "Age             float64\n",
       "SibSp             int64\n",
       "Parch             int64\n",
       "Ticket           object\n",
       "Fare            float64\n",
       "Cabin            object\n",
       "Embarked          int64\n",
       "FamilySize        int64\n",
       "Initial           int64\n",
       "Age_category      int64\n",
       "dtype: object"
      ]
     },
     "execution_count": 71,
     "metadata": {},
     "output_type": "execute_result"
    }
   ],
   "source": [
    "test_df.dtypes"
   ]
  },
  {
   "cell_type": "markdown",
   "metadata": {},
   "source": [
    "# 시각화를 통해 데이터 간의 관계를 확인해보자"
   ]
  },
  {
   "cell_type": "code",
   "execution_count": 72,
   "metadata": {},
   "outputs": [
    {
     "data": {
      "image/png": "[encoded data removed]",
      "text/plain": [
       "<Figure size 1008x864 with 2 Axes>"
      ]
     },
     "metadata": {
      "needs_background": "light"
     },
     "output_type": "display_data"
    }
   ],
   "source": [
    "heatmap_data = train_df[[\"Survived\", \"Pclass\", \"Sex\", \"Fare\", \"Embarked\", \"FamilySize\", \"Initial\", \"Age_category\", \"Age\"]]\n",
    "\n",
    "colormap = plt.cm.RdBu\n",
    "plt.figure(figsize = (14, 12))\n",
    "plt.title(\"Pearson Correlation of Features\", y = 1.05, size = 15)\n",
    "sns.heatmap(heatmap_data.astype(float).corr(), linewidths = 0.1, vmax = 1.0, square = True, cmap = colormap, linecolor = \"white\", annot = True, annot_kws = {\"size\":16})\n",
    "\n",
    "del heatmap_data"
   ]
  },
  {
   "cell_type": "code",
   "execution_count": 73,
   "metadata": {},
   "outputs": [
    {
     "data": {
      "text/html": [
       "<div>\n",
       "<style scoped>\n",
       "    .dataframe tbody tr th:only-of-type {\n",
       "        vertical-align: middle;\n",
       "    }\n",
       "\n",
       "    .dataframe tbody tr th {\n",
       "        vertical-align: top;\n",
       "    }\n",
       "\n",
       "    .dataframe thead th {\n",
       "        text-align: right;\n",
       "    }\n",
       "</style>\n",
       "<table border=\"1\" class=\"dataframe\">\n",
       "  <thead>\n",
       "    <tr style=\"text-align: right;\">\n",
       "      <th></th>\n",
       "      <th>PassengerId</th>\n",
       "      <th>Survived</th>\n",
       "      <th>Pclass</th>\n",
       "      <th>Name</th>\n",
       "      <th>Sex</th>\n",
       "      <th>Age</th>\n",
       "      <th>SibSp</th>\n",
       "      <th>Parch</th>\n",
       "      <th>Ticket</th>\n",
       "      <th>Fare</th>\n",
       "      <th>Cabin</th>\n",
       "      <th>Embarked</th>\n",
       "      <th>FamilySize</th>\n",
       "      <th>Initial</th>\n",
       "      <th>Age_category</th>\n",
       "    </tr>\n",
       "  </thead>\n",
       "  <tbody>\n",
       "    <tr>\n",
       "      <th>0</th>\n",
       "      <td>1</td>\n",
       "      <td>0</td>\n",
       "      <td>3</td>\n",
       "      <td>Braund, Mr. Owen Harris</td>\n",
       "      <td>1</td>\n",
       "      <td>22.0</td>\n",
       "      <td>1</td>\n",
       "      <td>0</td>\n",
       "      <td>A/5 21171</td>\n",
       "      <td>1.981001</td>\n",
       "      <td>NaN</td>\n",
       "      <td>2</td>\n",
       "      <td>2</td>\n",
       "      <td>2</td>\n",
       "      <td>2</td>\n",
       "    </tr>\n",
       "    <tr>\n",
       "      <th>1</th>\n",
       "      <td>2</td>\n",
       "      <td>1</td>\n",
       "      <td>1</td>\n",
       "      <td>Cumings, Mrs. John Bradley (Florence Briggs Th...</td>\n",
       "      <td>0</td>\n",
       "      <td>38.0</td>\n",
       "      <td>1</td>\n",
       "      <td>0</td>\n",
       "      <td>PC 17599</td>\n",
       "      <td>4.266662</td>\n",
       "      <td>C85</td>\n",
       "      <td>0</td>\n",
       "      <td>2</td>\n",
       "      <td>3</td>\n",
       "      <td>3</td>\n",
       "    </tr>\n",
       "    <tr>\n",
       "      <th>2</th>\n",
       "      <td>3</td>\n",
       "      <td>1</td>\n",
       "      <td>3</td>\n",
       "      <td>Heikkinen, Miss. Laina</td>\n",
       "      <td>0</td>\n",
       "      <td>26.0</td>\n",
       "      <td>0</td>\n",
       "      <td>0</td>\n",
       "      <td>STON/O2. 3101282</td>\n",
       "      <td>2.070022</td>\n",
       "      <td>NaN</td>\n",
       "      <td>2</td>\n",
       "      <td>1</td>\n",
       "      <td>1</td>\n",
       "      <td>2</td>\n",
       "    </tr>\n",
       "    <tr>\n",
       "      <th>3</th>\n",
       "      <td>4</td>\n",
       "      <td>1</td>\n",
       "      <td>1</td>\n",
       "      <td>Futrelle, Mrs. Jacques Heath (Lily May Peel)</td>\n",
       "      <td>0</td>\n",
       "      <td>35.0</td>\n",
       "      <td>1</td>\n",
       "      <td>0</td>\n",
       "      <td>113803</td>\n",
       "      <td>3.972177</td>\n",
       "      <td>C123</td>\n",
       "      <td>2</td>\n",
       "      <td>2</td>\n",
       "      <td>3</td>\n",
       "      <td>3</td>\n",
       "    </tr>\n",
       "    <tr>\n",
       "      <th>4</th>\n",
       "      <td>5</td>\n",
       "      <td>0</td>\n",
       "      <td>3</td>\n",
       "      <td>Allen, Mr. William Henry</td>\n",
       "      <td>1</td>\n",
       "      <td>35.0</td>\n",
       "      <td>0</td>\n",
       "      <td>0</td>\n",
       "      <td>373450</td>\n",
       "      <td>2.085672</td>\n",
       "      <td>NaN</td>\n",
       "      <td>2</td>\n",
       "      <td>1</td>\n",
       "      <td>2</td>\n",
       "      <td>3</td>\n",
       "    </tr>\n",
       "  </tbody>\n",
       "</table>\n",
       "</div>"
      ],
      "text/plain": [
       "   PassengerId  Survived  Pclass  \\\n",
       "0            1         0       3   \n",
       "1            2         1       1   \n",
       "2            3         1       3   \n",
       "3            4         1       1   \n",
       "4            5         0       3   \n",
       "\n",
       "                                                Name  Sex   Age  SibSp  Parch  \\\n",
       "0                            Braund, Mr. Owen Harris    1  22.0      1      0   \n",
       "1  Cumings, Mrs. John Bradley (Florence Briggs Th...    0  38.0      1      0   \n",
       "2                             Heikkinen, Miss. Laina    0  26.0      0      0   \n",
       "3       Futrelle, Mrs. Jacques Heath (Lily May Peel)    0  35.0      1      0   \n",
       "4                           Allen, Mr. William Henry    1  35.0      0      0   \n",
       "\n",
       "             Ticket      Fare Cabin  Embarked  FamilySize  Initial  \\\n",
       "0         A/5 21171  1.981001   NaN         2           2        2   \n",
       "1          PC 17599  4.266662   C85         0           2        3   \n",
       "2  STON/O2. 3101282  2.070022   NaN         2           1        1   \n",
       "3            113803  3.972177  C123         2           2        3   \n",
       "4            373450  2.085672   NaN         2           1        2   \n",
       "\n",
       "   Age_category  \n",
       "0             2  \n",
       "1             3  \n",
       "2             2  \n",
       "3             3  \n",
       "4             3  "
      ]
     },
     "execution_count": 73,
     "metadata": {},
     "output_type": "execute_result"
    }
   ],
   "source": [
    "train_df.head()"
   ]
  },
  {
   "cell_type": "code",
   "execution_count": 74,
   "metadata": {},
   "outputs": [
    {
     "data": {
      "text/html": [
       "<div>\n",
       "<style scoped>\n",
       "    .dataframe tbody tr th:only-of-type {\n",
       "        vertical-align: middle;\n",
       "    }\n",
       "\n",
       "    .dataframe tbody tr th {\n",
       "        vertical-align: top;\n",
       "    }\n",
       "\n",
       "    .dataframe thead th {\n",
       "        text-align: right;\n",
       "    }\n",
       "</style>\n",
       "<table border=\"1\" class=\"dataframe\">\n",
       "  <thead>\n",
       "    <tr style=\"text-align: right;\">\n",
       "      <th></th>\n",
       "      <th>PassengerId</th>\n",
       "      <th>Pclass</th>\n",
       "      <th>Name</th>\n",
       "      <th>Sex</th>\n",
       "      <th>Age</th>\n",
       "      <th>SibSp</th>\n",
       "      <th>Parch</th>\n",
       "      <th>Ticket</th>\n",
       "      <th>Fare</th>\n",
       "      <th>Cabin</th>\n",
       "      <th>Embarked</th>\n",
       "      <th>FamilySize</th>\n",
       "      <th>Initial</th>\n",
       "      <th>Age_category</th>\n",
       "    </tr>\n",
       "  </thead>\n",
       "  <tbody>\n",
       "    <tr>\n",
       "      <th>0</th>\n",
       "      <td>892</td>\n",
       "      <td>3</td>\n",
       "      <td>Kelly, Mr. James</td>\n",
       "      <td>1</td>\n",
       "      <td>34.5</td>\n",
       "      <td>0</td>\n",
       "      <td>0</td>\n",
       "      <td>330911</td>\n",
       "      <td>2.057860</td>\n",
       "      <td>NaN</td>\n",
       "      <td>1</td>\n",
       "      <td>1</td>\n",
       "      <td>2</td>\n",
       "      <td>3</td>\n",
       "    </tr>\n",
       "    <tr>\n",
       "      <th>1</th>\n",
       "      <td>893</td>\n",
       "      <td>3</td>\n",
       "      <td>Wilkes, Mrs. James (Ellen Needs)</td>\n",
       "      <td>0</td>\n",
       "      <td>47.0</td>\n",
       "      <td>1</td>\n",
       "      <td>0</td>\n",
       "      <td>363272</td>\n",
       "      <td>1.945910</td>\n",
       "      <td>NaN</td>\n",
       "      <td>2</td>\n",
       "      <td>2</td>\n",
       "      <td>3</td>\n",
       "      <td>4</td>\n",
       "    </tr>\n",
       "    <tr>\n",
       "      <th>2</th>\n",
       "      <td>894</td>\n",
       "      <td>2</td>\n",
       "      <td>Myles, Mr. Thomas Francis</td>\n",
       "      <td>1</td>\n",
       "      <td>62.0</td>\n",
       "      <td>0</td>\n",
       "      <td>0</td>\n",
       "      <td>240276</td>\n",
       "      <td>2.270836</td>\n",
       "      <td>NaN</td>\n",
       "      <td>1</td>\n",
       "      <td>1</td>\n",
       "      <td>2</td>\n",
       "      <td>6</td>\n",
       "    </tr>\n",
       "    <tr>\n",
       "      <th>3</th>\n",
       "      <td>895</td>\n",
       "      <td>3</td>\n",
       "      <td>Wirz, Mr. Albert</td>\n",
       "      <td>1</td>\n",
       "      <td>27.0</td>\n",
       "      <td>0</td>\n",
       "      <td>0</td>\n",
       "      <td>315154</td>\n",
       "      <td>2.159003</td>\n",
       "      <td>NaN</td>\n",
       "      <td>2</td>\n",
       "      <td>1</td>\n",
       "      <td>2</td>\n",
       "      <td>2</td>\n",
       "    </tr>\n",
       "    <tr>\n",
       "      <th>4</th>\n",
       "      <td>896</td>\n",
       "      <td>3</td>\n",
       "      <td>Hirvonen, Mrs. Alexander (Helga E Lindqvist)</td>\n",
       "      <td>0</td>\n",
       "      <td>22.0</td>\n",
       "      <td>1</td>\n",
       "      <td>1</td>\n",
       "      <td>3101298</td>\n",
       "      <td>2.508582</td>\n",
       "      <td>NaN</td>\n",
       "      <td>2</td>\n",
       "      <td>3</td>\n",
       "      <td>3</td>\n",
       "      <td>2</td>\n",
       "    </tr>\n",
       "  </tbody>\n",
       "</table>\n",
       "</div>"
      ],
      "text/plain": [
       "   PassengerId  Pclass                                          Name  Sex  \\\n",
       "0          892       3                              Kelly, Mr. James    1   \n",
       "1          893       3              Wilkes, Mrs. James (Ellen Needs)    0   \n",
       "2          894       2                     Myles, Mr. Thomas Francis    1   \n",
       "3          895       3                              Wirz, Mr. Albert    1   \n",
       "4          896       3  Hirvonen, Mrs. Alexander (Helga E Lindqvist)    0   \n",
       "\n",
       "    Age  SibSp  Parch   Ticket      Fare Cabin  Embarked  FamilySize  Initial  \\\n",
       "0  34.5      0      0   330911  2.057860   NaN         1           1        2   \n",
       "1  47.0      1      0   363272  1.945910   NaN         2           2        3   \n",
       "2  62.0      0      0   240276  2.270836   NaN         1           1        2   \n",
       "3  27.0      0      0   315154  2.159003   NaN         2           1        2   \n",
       "4  22.0      1      1  3101298  2.508582   NaN         2           3        3   \n",
       "\n",
       "   Age_category  \n",
       "0             3  \n",
       "1             4  \n",
       "2             6  \n",
       "3             2  \n",
       "4             2  "
      ]
     },
     "execution_count": 74,
     "metadata": {},
     "output_type": "execute_result"
    }
   ],
   "source": [
    "test_df.head()"
   ]
  },
  {
   "cell_type": "markdown",
   "metadata": {},
   "source": [
    "### one - hot encoding\n",
    "(1,2) 와 (1,5)가 동일한 가치를 가지도록"
   ]
  },
  {
   "cell_type": "code",
   "execution_count": 75,
   "metadata": {},
   "outputs": [],
   "source": [
    "train_df = pd.get_dummies(train_df, columns = [\"Initial\"], prefix = \"Initial\")\n",
    "test_df = pd.get_dummies(test_df, columns = [\"Initial\"], prefix = \"Initial\")"
   ]
  },
  {
   "cell_type": "code",
   "execution_count": 76,
   "metadata": {},
   "outputs": [],
   "source": [
    "train_df = pd.get_dummies(train_df, columns = [\"Embarked\"], prefix = \"Embarked\")\n",
    "test_df = pd.get_dummies(test_df, columns = [\"Embarked\"], prefix = \"Embarked\")"
   ]
  },
  {
   "cell_type": "markdown",
   "metadata": {},
   "source": [
    "### Drop columns"
   ]
  },
  {
   "cell_type": "code",
   "execution_count": 77,
   "metadata": {},
   "outputs": [],
   "source": [
    "train_df.drop([\"PassengerId\", \"Name\", \"SibSp\", \"Parch\", \"Ticket\", \"Cabin\"], axis = 1, inplace = True)\n",
    "test_df.drop([\"PassengerId\", \"Name\", \"SibSp\", \"Parch\", \"Ticket\", \"Cabin\"], axis = 1, inplace = True)"
   ]
  },
  {
   "cell_type": "code",
   "execution_count": 78,
   "metadata": {
    "scrolled": true
   },
   "outputs": [
    {
     "data": {
      "text/html": [
       "<div>\n",
       "<style scoped>\n",
       "    .dataframe tbody tr th:only-of-type {\n",
       "        vertical-align: middle;\n",
       "    }\n",
       "\n",
       "    .dataframe tbody tr th {\n",
       "        vertical-align: top;\n",
       "    }\n",
       "\n",
       "    .dataframe thead th {\n",
       "        text-align: right;\n",
       "    }\n",
       "</style>\n",
       "<table border=\"1\" class=\"dataframe\">\n",
       "  <thead>\n",
       "    <tr style=\"text-align: right;\">\n",
       "      <th></th>\n",
       "      <th>Survived</th>\n",
       "      <th>Pclass</th>\n",
       "      <th>Sex</th>\n",
       "      <th>Age</th>\n",
       "      <th>Fare</th>\n",
       "      <th>FamilySize</th>\n",
       "      <th>Age_category</th>\n",
       "      <th>Initial_0</th>\n",
       "      <th>Initial_1</th>\n",
       "      <th>Initial_2</th>\n",
       "      <th>Initial_3</th>\n",
       "      <th>Initial_4</th>\n",
       "      <th>Embarked_0</th>\n",
       "      <th>Embarked_1</th>\n",
       "      <th>Embarked_2</th>\n",
       "    </tr>\n",
       "  </thead>\n",
       "  <tbody>\n",
       "    <tr>\n",
       "      <th>0</th>\n",
       "      <td>0</td>\n",
       "      <td>3</td>\n",
       "      <td>1</td>\n",
       "      <td>22.0</td>\n",
       "      <td>1.981001</td>\n",
       "      <td>2</td>\n",
       "      <td>2</td>\n",
       "      <td>0</td>\n",
       "      <td>0</td>\n",
       "      <td>1</td>\n",
       "      <td>0</td>\n",
       "      <td>0</td>\n",
       "      <td>0</td>\n",
       "      <td>0</td>\n",
       "      <td>1</td>\n",
       "    </tr>\n",
       "    <tr>\n",
       "      <th>1</th>\n",
       "      <td>1</td>\n",
       "      <td>1</td>\n",
       "      <td>0</td>\n",
       "      <td>38.0</td>\n",
       "      <td>4.266662</td>\n",
       "      <td>2</td>\n",
       "      <td>3</td>\n",
       "      <td>0</td>\n",
       "      <td>0</td>\n",
       "      <td>0</td>\n",
       "      <td>1</td>\n",
       "      <td>0</td>\n",
       "      <td>1</td>\n",
       "      <td>0</td>\n",
       "      <td>0</td>\n",
       "    </tr>\n",
       "    <tr>\n",
       "      <th>2</th>\n",
       "      <td>1</td>\n",
       "      <td>3</td>\n",
       "      <td>0</td>\n",
       "      <td>26.0</td>\n",
       "      <td>2.070022</td>\n",
       "      <td>1</td>\n",
       "      <td>2</td>\n",
       "      <td>0</td>\n",
       "      <td>1</td>\n",
       "      <td>0</td>\n",
       "      <td>0</td>\n",
       "      <td>0</td>\n",
       "      <td>0</td>\n",
       "      <td>0</td>\n",
       "      <td>1</td>\n",
       "    </tr>\n",
       "    <tr>\n",
       "      <th>3</th>\n",
       "      <td>1</td>\n",
       "      <td>1</td>\n",
       "      <td>0</td>\n",
       "      <td>35.0</td>\n",
       "      <td>3.972177</td>\n",
       "      <td>2</td>\n",
       "      <td>3</td>\n",
       "      <td>0</td>\n",
       "      <td>0</td>\n",
       "      <td>0</td>\n",
       "      <td>1</td>\n",
       "      <td>0</td>\n",
       "      <td>0</td>\n",
       "      <td>0</td>\n",
       "      <td>1</td>\n",
       "    </tr>\n",
       "    <tr>\n",
       "      <th>4</th>\n",
       "      <td>0</td>\n",
       "      <td>3</td>\n",
       "      <td>1</td>\n",
       "      <td>35.0</td>\n",
       "      <td>2.085672</td>\n",
       "      <td>1</td>\n",
       "      <td>3</td>\n",
       "      <td>0</td>\n",
       "      <td>0</td>\n",
       "      <td>1</td>\n",
       "      <td>0</td>\n",
       "      <td>0</td>\n",
       "      <td>0</td>\n",
       "      <td>0</td>\n",
       "      <td>1</td>\n",
       "    </tr>\n",
       "  </tbody>\n",
       "</table>\n",
       "</div>"
      ],
      "text/plain": [
       "   Survived  Pclass  Sex   Age      Fare  FamilySize  Age_category  Initial_0  \\\n",
       "0         0       3    1  22.0  1.981001           2             2          0   \n",
       "1         1       1    0  38.0  4.266662           2             3          0   \n",
       "2         1       3    0  26.0  2.070022           1             2          0   \n",
       "3         1       1    0  35.0  3.972177           2             3          0   \n",
       "4         0       3    1  35.0  2.085672           1             3          0   \n",
       "\n",
       "   Initial_1  Initial_2  Initial_3  Initial_4  Embarked_0  Embarked_1  \\\n",
       "0          0          1          0          0           0           0   \n",
       "1          0          0          1          0           1           0   \n",
       "2          1          0          0          0           0           0   \n",
       "3          0          0          1          0           0           0   \n",
       "4          0          1          0          0           0           0   \n",
       "\n",
       "   Embarked_2  \n",
       "0           1  \n",
       "1           0  \n",
       "2           1  \n",
       "3           1  \n",
       "4           1  "
      ]
     },
     "execution_count": 78,
     "metadata": {},
     "output_type": "execute_result"
    }
   ],
   "source": [
    "train_df.head()"
   ]
  },
  {
   "cell_type": "code",
   "execution_count": 79,
   "metadata": {},
   "outputs": [
    {
     "data": {
      "text/plain": [
       "Survived          int64\n",
       "Pclass            int64\n",
       "Sex               int64\n",
       "Age             float64\n",
       "Fare            float64\n",
       "FamilySize        int64\n",
       "Age_category      int64\n",
       "Initial_0         uint8\n",
       "Initial_1         uint8\n",
       "Initial_2         uint8\n",
       "Initial_3         uint8\n",
       "Initial_4         uint8\n",
       "Embarked_0        uint8\n",
       "Embarked_1        uint8\n",
       "Embarked_2        uint8\n",
       "dtype: object"
      ]
     },
     "execution_count": 79,
     "metadata": {},
     "output_type": "execute_result"
    }
   ],
   "source": [
    "train_df.dtypes"
   ]
  },
  {
   "cell_type": "code",
   "execution_count": 80,
   "metadata": {
    "scrolled": true
   },
   "outputs": [
    {
     "data": {
      "text/plain": [
       "Pclass            int64\n",
       "Sex               int64\n",
       "Age             float64\n",
       "Fare            float64\n",
       "FamilySize        int64\n",
       "Age_category      int64\n",
       "Initial_0         uint8\n",
       "Initial_1         uint8\n",
       "Initial_2         uint8\n",
       "Initial_3         uint8\n",
       "Initial_4         uint8\n",
       "Embarked_0        uint8\n",
       "Embarked_1        uint8\n",
       "Embarked_2        uint8\n",
       "dtype: object"
      ]
     },
     "execution_count": 80,
     "metadata": {},
     "output_type": "execute_result"
    }
   ],
   "source": [
    "test_df.dtypes"
   ]
  },
  {
   "cell_type": "markdown",
   "metadata": {},
   "source": [
    "# 모델 개발 및 학습"
   ]
  },
  {
   "cell_type": "markdown",
   "metadata": {},
   "source": [
    "## Titanic Problem은 생존 / 사망(1 / 0)의 target class를 가지므로 이진분류 문제(Binary Classfication)\n",
    "\n",
    "그렇다면, 선형회귀를 사용하나??? 시그모이드를 사용하나???"
   ]
  },
  {
   "cell_type": "code",
   "execution_count": 81,
   "metadata": {},
   "outputs": [],
   "source": [
    "X_train = train_df.drop(\"Survived\", axis = 1).values\n",
    "target_label = train_df[\"Survived\"].values\n",
    "X_test = test_df.values"
   ]
  },
  {
   "cell_type": "code",
   "execution_count": 82,
   "metadata": {
    "scrolled": true
   },
   "outputs": [
    {
     "data": {
      "text/plain": [
       "((891, 14), (418, 14))"
      ]
     },
     "execution_count": 82,
     "metadata": {},
     "output_type": "execute_result"
    }
   ],
   "source": [
    "X_train.shape, X_test.shape"
   ]
  },
  {
   "cell_type": "code",
   "execution_count": 83,
   "metadata": {},
   "outputs": [],
   "source": [
    "X_tr, X_vld, y_tr, y_vld = train_test_split(X_train, target_label, test_size = 0.2, random_state = 2018)"
   ]
  },
  {
   "cell_type": "code",
   "execution_count": 84,
   "metadata": {},
   "outputs": [
    {
     "data": {
      "text/plain": [
       "((712,), (179,))"
      ]
     },
     "execution_count": 84,
     "metadata": {},
     "output_type": "execute_result"
    }
   ],
   "source": [
    "y_tr.shape, y_vld.shape"
   ]
  },
  {
   "cell_type": "code",
   "execution_count": 85,
   "metadata": {
    "scrolled": true
   },
   "outputs": [
    {
     "data": {
      "text/plain": [
       "Index(['Survived', 'Pclass', 'Sex', 'Age', 'Fare', 'FamilySize',\n",
       "       'Age_category', 'Initial_0', 'Initial_1', 'Initial_2', 'Initial_3',\n",
       "       'Initial_4', 'Embarked_0', 'Embarked_1', 'Embarked_2'],\n",
       "      dtype='object')"
      ]
     },
     "execution_count": 85,
     "metadata": {},
     "output_type": "execute_result"
    }
   ],
   "source": [
    "train_df.columns"
   ]
  },
  {
   "cell_type": "code",
   "execution_count": 86,
   "metadata": {},
   "outputs": [],
   "source": [
    "model = RandomForestClassifier()\n",
    "model.fit(X_tr, y_tr)\n",
    "prediction = model.predict(X_vld)"
   ]
  },
  {
   "cell_type": "code",
   "execution_count": 87,
   "metadata": {},
   "outputs": [
    {
     "name": "stdout",
     "output_type": "stream",
     "text": [
      "총 179명 중 78.21% 정확도로 생존을 맞춤\n"
     ]
    }
   ],
   "source": [
    "print(\"총 {}명 중 {:.2f}% 정확도로 생존을 맞춤\".format(y_vld.shape[0], 100*metrics.accuracy_score(prediction, y_vld)))"
   ]
  },
  {
   "cell_type": "markdown",
   "metadata": {},
   "source": [
    "각 특징들 중 어떤 것의 가중치가 높은지를 확인한다."
   ]
  },
  {
   "cell_type": "code",
   "execution_count": 88,
   "metadata": {},
   "outputs": [
    {
     "name": "stdout",
     "output_type": "stream",
     "text": [
      "[0.08238066 0.12483612 0.19343599 0.27046584 0.08913257 0.05872762\n",
      " 0.00412823 0.01037547 0.1241408  0.00543582 0.0054474  0.0108161\n",
      " 0.00532608 0.0153513 ]\n"
     ]
    }
   ],
   "source": [
    "feature_importance = model.feature_importances_\n",
    "print(feature_importance)\n",
    "Series_feat_imp = Series(feature_importance, index = test_df.columns)"
   ]
  },
  {
   "cell_type": "code",
   "execution_count": 89,
   "metadata": {},
   "outputs": [
    {
     "data": {
      "image/png": "[encoded data removed]",
      "text/plain": [
       "<Figure size 576x576 with 1 Axes>"
      ]
     },
     "metadata": {
      "needs_background": "light"
     },
     "output_type": "display_data"
    }
   ],
   "source": [
    "plt.figure(figsize = (8, 8))\n",
    "Series_feat_imp.sort_values(ascending = True).plot.barh()\n",
    "plt.xlabel(\"Feature Importance\")\n",
    "plt.ylabel(\"Feature\")\n",
    "plt.show()"
   ]
  },
  {
   "cell_type": "markdown",
   "metadata": {},
   "source": [
    "## keras를 사용한 NN 모델"
   ]
  },
  {
   "cell_type": "code",
   "execution_count": 90,
   "metadata": {},
   "outputs": [
    {
     "name": "stderr",
     "output_type": "stream",
     "text": [
      "Using TensorFlow backend.\n"
     ]
    }
   ],
   "source": [
    "from keras.models import Sequential\n",
    "from keras.layers.core import Dense, Dropout\n",
    "from keras.optimizers import Adam, SGD"
   ]
  },
  {
   "cell_type": "code",
   "execution_count": 91,
   "metadata": {},
   "outputs": [
    {
     "name": "stdout",
     "output_type": "stream",
     "text": [
      "WARNING:tensorflow:From C:\\Users\\Andrew\\.conda\\envs\\andrew_37\\lib\\site-packages\\tensorflow\\python\\framework\\op_def_library.py:263: colocate_with (from tensorflow.python.framework.ops) is deprecated and will be removed in a future version.\n",
      "Instructions for updating:\n",
      "Colocations handled automatically by placer.\n",
      "WARNING:tensorflow:From C:\\Users\\Andrew\\.conda\\envs\\andrew_37\\lib\\site-packages\\keras\\backend\\tensorflow_backend.py:3445: calling dropout (from tensorflow.python.ops.nn_ops) with keep_prob is deprecated and will be removed in a future version.\n",
      "Instructions for updating:\n",
      "Please use `rate` instead of `keep_prob`. Rate should be set to `rate = 1 - keep_prob`.\n",
      "_________________________________________________________________\n",
      "Layer (type)                 Output Shape              Param #   \n",
      "=================================================================\n",
      "dense_1 (Dense)              (None, 32)                480       \n",
      "_________________________________________________________________\n",
      "dropout_1 (Dropout)          (None, 32)                0         \n",
      "_________________________________________________________________\n",
      "dense_2 (Dense)              (None, 64)                2112      \n",
      "_________________________________________________________________\n",
      "dropout_2 (Dropout)          (None, 64)                0         \n",
      "_________________________________________________________________\n",
      "dense_3 (Dense)              (None, 32)                2080      \n",
      "_________________________________________________________________\n",
      "dropout_3 (Dropout)          (None, 32)                0         \n",
      "_________________________________________________________________\n",
      "dense_4 (Dense)              (None, 1)                 33        \n",
      "=================================================================\n",
      "Total params: 4,705\n",
      "Trainable params: 4,705\n",
      "Non-trainable params: 0\n",
      "_________________________________________________________________\n"
     ]
    }
   ],
   "source": [
    "nn_model = Sequential()\n",
    "nn_model.add(Dense(32, activation = \"relu\", input_shape = (14,)))\n",
    "nn_model.add(Dropout(0.2))\n",
    "nn_model.add(Dense(64, activation = \"relu\"))\n",
    "nn_model.add(Dropout(0.2))\n",
    "nn_model.add(Dense(32, activation = \"relu\"))\n",
    "nn_model.add(Dropout(0.2))\n",
    "nn_model.add(Dense(1, activation = \"sigmoid\"))\n",
    "\n",
    "Loss = \"binary_crossentropy\"\n",
    "nn_model.compile(loss = Loss, optimizer = Adam(), metrics = [\"accuracy\"])\n",
    "nn_model.summary()"
   ]
  },
  {
   "cell_type": "code",
   "execution_count": 92,
   "metadata": {
    "collapsed": true,
    "jupyter": {
     "outputs_hidden": true
    }
   },
   "outputs": [
    {
     "name": "stdout",
     "output_type": "stream",
     "text": [
      "WARNING:tensorflow:From C:\\Users\\Andrew\\.conda\\envs\\andrew_37\\lib\\site-packages\\tensorflow\\python\\ops\\math_ops.py:3066: to_int32 (from tensorflow.python.ops.math_ops) is deprecated and will be removed in a future version.\n",
      "Instructions for updating:\n",
      "Use tf.cast instead.\n",
      "Train on 712 samples, validate on 179 samples\n",
      "Epoch 1/500\n",
      "712/712 [==============================] - 2s 2ms/step - loss: 0.8964 - acc: 0.5562 - val_loss: 0.6358 - val_acc: 0.6313\n",
      "Epoch 2/500\n",
      "712/712 [==============================] - 0s 69us/step - loss: 0.7987 - acc: 0.5885 - val_loss: 0.6595 - val_acc: 0.6592\n",
      "Epoch 3/500\n",
      "712/712 [==============================] - 0s 66us/step - loss: 0.7377 - acc: 0.5576 - val_loss: 0.6893 - val_acc: 0.5866\n",
      "Epoch 4/500\n",
      "712/712 [==============================] - 0s 63us/step - loss: 0.7148 - acc: 0.5702 - val_loss: 0.6540 - val_acc: 0.6369\n",
      "Epoch 5/500\n",
      "712/712 [==============================] - 0s 63us/step - loss: 0.7017 - acc: 0.5772 - val_loss: 0.6580 - val_acc: 0.6369\n",
      "Epoch 6/500\n",
      "712/712 [==============================] - 0s 81us/step - loss: 0.7080 - acc: 0.5857 - val_loss: 0.6539 - val_acc: 0.6369\n",
      "Epoch 7/500\n",
      "712/712 [==============================] - 0s 65us/step - loss: 0.6796 - acc: 0.5801 - val_loss: 0.6381 - val_acc: 0.6480\n",
      "Epoch 8/500\n",
      "712/712 [==============================] - 0s 65us/step - loss: 0.6713 - acc: 0.6039 - val_loss: 0.6416 - val_acc: 0.6425\n",
      "Epoch 9/500\n",
      "712/712 [==============================] - 0s 70us/step - loss: 0.6576 - acc: 0.5857 - val_loss: 0.6355 - val_acc: 0.6536\n",
      "Epoch 10/500\n",
      "712/712 [==============================] - 0s 77us/step - loss: 0.6642 - acc: 0.6222 - val_loss: 0.6098 - val_acc: 0.6816\n",
      "Epoch 11/500\n",
      "712/712 [==============================] - 0s 66us/step - loss: 0.6586 - acc: 0.6250 - val_loss: 0.6029 - val_acc: 0.7207\n",
      "Epoch 12/500\n",
      "712/712 [==============================] - 0s 65us/step - loss: 0.6474 - acc: 0.6545 - val_loss: 0.6034 - val_acc: 0.7821\n",
      "Epoch 13/500\n",
      "712/712 [==============================] - 0s 83us/step - loss: 0.6494 - acc: 0.6362 - val_loss: 0.6034 - val_acc: 0.7989\n",
      "Epoch 14/500\n",
      "712/712 [==============================] - 0s 65us/step - loss: 0.6414 - acc: 0.6433 - val_loss: 0.6013 - val_acc: 0.7933\n",
      "Epoch 15/500\n",
      "712/712 [==============================] - 0s 65us/step - loss: 0.6364 - acc: 0.6615 - val_loss: 0.5984 - val_acc: 0.8045\n",
      "Epoch 16/500\n",
      "712/712 [==============================] - 0s 66us/step - loss: 0.6214 - acc: 0.6868 - val_loss: 0.5736 - val_acc: 0.7877\n",
      "Epoch 17/500\n",
      "712/712 [==============================] - 0s 74us/step - loss: 0.6127 - acc: 0.6798 - val_loss: 0.5763 - val_acc: 0.7933\n",
      "Epoch 18/500\n",
      "712/712 [==============================] - 0s 63us/step - loss: 0.6095 - acc: 0.6910 - val_loss: 0.5730 - val_acc: 0.7877\n",
      "Epoch 19/500\n",
      "712/712 [==============================] - 0s 63us/step - loss: 0.6126 - acc: 0.6924 - val_loss: 0.5384 - val_acc: 0.7989\n",
      "Epoch 20/500\n",
      "712/712 [==============================] - 0s 80us/step - loss: 0.5870 - acc: 0.6840 - val_loss: 0.5366 - val_acc: 0.7989\n",
      "Epoch 21/500\n",
      "712/712 [==============================] - 0s 65us/step - loss: 0.6042 - acc: 0.6952 - val_loss: 0.5358 - val_acc: 0.7877\n",
      "Epoch 22/500\n",
      "712/712 [==============================] - 0s 65us/step - loss: 0.5762 - acc: 0.7205 - val_loss: 0.5619 - val_acc: 0.7654\n",
      "Epoch 23/500\n",
      "712/712 [==============================] - 0s 63us/step - loss: 0.5602 - acc: 0.7205 - val_loss: 0.5123 - val_acc: 0.7877\n",
      "Epoch 24/500\n",
      "712/712 [==============================] - 0s 81us/step - loss: 0.5637 - acc: 0.7303 - val_loss: 0.4967 - val_acc: 0.8156\n",
      "Epoch 25/500\n",
      "712/712 [==============================] - 0s 63us/step - loss: 0.5563 - acc: 0.7219 - val_loss: 0.4959 - val_acc: 0.7709\n",
      "Epoch 26/500\n",
      "712/712 [==============================] - 0s 80us/step - loss: 0.5604 - acc: 0.7346 - val_loss: 0.4754 - val_acc: 0.8045\n",
      "Epoch 27/500\n",
      "712/712 [==============================] - 0s 72us/step - loss: 0.5491 - acc: 0.7374 - val_loss: 0.4685 - val_acc: 0.8045\n",
      "Epoch 28/500\n",
      "712/712 [==============================] - 0s 80us/step - loss: 0.5294 - acc: 0.7542 - val_loss: 0.4868 - val_acc: 0.7654\n",
      "Epoch 29/500\n",
      "712/712 [==============================] - 0s 72us/step - loss: 0.5269 - acc: 0.7683 - val_loss: 0.4578 - val_acc: 0.8156\n",
      "Epoch 30/500\n",
      "712/712 [==============================] - 0s 65us/step - loss: 0.5211 - acc: 0.7486 - val_loss: 0.4548 - val_acc: 0.8268\n",
      "Epoch 31/500\n",
      "712/712 [==============================] - 0s 80us/step - loss: 0.5049 - acc: 0.7809 - val_loss: 0.4475 - val_acc: 0.8156\n",
      "Epoch 32/500\n",
      "712/712 [==============================] - 0s 66us/step - loss: 0.4938 - acc: 0.7725 - val_loss: 0.4331 - val_acc: 0.8268\n",
      "Epoch 33/500\n",
      "712/712 [==============================] - 0s 65us/step - loss: 0.5306 - acc: 0.7584 - val_loss: 0.4365 - val_acc: 0.8436\n",
      "Epoch 34/500\n",
      "712/712 [==============================] - 0s 66us/step - loss: 0.4977 - acc: 0.7753 - val_loss: 0.4572 - val_acc: 0.7989\n",
      "Epoch 35/500\n",
      "712/712 [==============================] - 0s 83us/step - loss: 0.4995 - acc: 0.7626 - val_loss: 0.4328 - val_acc: 0.8324\n",
      "Epoch 36/500\n",
      "712/712 [==============================] - 0s 67us/step - loss: 0.4818 - acc: 0.7978 - val_loss: 0.4146 - val_acc: 0.8212\n",
      "Epoch 37/500\n",
      "712/712 [==============================] - 0s 65us/step - loss: 0.4727 - acc: 0.7865 - val_loss: 0.4325 - val_acc: 0.8101\n",
      "Epoch 38/500\n",
      "712/712 [==============================] - 0s 84us/step - loss: 0.5019 - acc: 0.7781 - val_loss: 0.4287 - val_acc: 0.8324\n",
      "Epoch 39/500\n",
      "712/712 [==============================] - 0s 65us/step - loss: 0.5043 - acc: 0.7654 - val_loss: 0.4303 - val_acc: 0.8268\n",
      "Epoch 40/500\n",
      "712/712 [==============================] - 0s 79us/step - loss: 0.4933 - acc: 0.7865 - val_loss: 0.4442 - val_acc: 0.8380\n",
      "Epoch 41/500\n",
      "712/712 [==============================] - 0s 69us/step - loss: 0.4782 - acc: 0.7935 - val_loss: 0.4288 - val_acc: 0.8380\n",
      "Epoch 42/500\n",
      "712/712 [==============================] - ETA: 0s - loss: 0.6180 - acc: 0.671 - 0s 83us/step - loss: 0.4682 - acc: 0.7781 - val_loss: 0.4098 - val_acc: 0.8324\n",
      "Epoch 43/500\n",
      "712/712 [==============================] - 0s 65us/step - loss: 0.4864 - acc: 0.7865 - val_loss: 0.4103 - val_acc: 0.8492\n",
      "Epoch 44/500\n",
      "712/712 [==============================] - 0s 77us/step - loss: 0.4747 - acc: 0.7879 - val_loss: 0.4185 - val_acc: 0.8492\n",
      "Epoch 45/500\n",
      "712/712 [==============================] - 0s 77us/step - loss: 0.4763 - acc: 0.8048 - val_loss: 0.4160 - val_acc: 0.8380\n",
      "Epoch 46/500\n",
      "712/712 [==============================] - 0s 109us/step - loss: 0.4638 - acc: 0.7935 - val_loss: 0.4065 - val_acc: 0.8436\n",
      "Epoch 47/500\n",
      "712/712 [==============================] - 0s 67us/step - loss: 0.4946 - acc: 0.7781 - val_loss: 0.3978 - val_acc: 0.8324\n",
      "Epoch 48/500\n",
      "712/712 [==============================] - 0s 74us/step - loss: 0.4693 - acc: 0.8160 - val_loss: 0.3966 - val_acc: 0.8436\n",
      "Epoch 49/500\n",
      "712/712 [==============================] - 0s 69us/step - loss: 0.4517 - acc: 0.8118 - val_loss: 0.3965 - val_acc: 0.8492\n",
      "Epoch 50/500\n",
      "712/712 [==============================] - 0s 73us/step - loss: 0.4490 - acc: 0.7992 - val_loss: 0.3960 - val_acc: 0.8547\n",
      "Epoch 51/500\n",
      "712/712 [==============================] - 0s 79us/step - loss: 0.4509 - acc: 0.8104 - val_loss: 0.3939 - val_acc: 0.8492\n",
      "Epoch 52/500\n",
      "712/712 [==============================] - 0s 66us/step - loss: 0.4464 - acc: 0.8090 - val_loss: 0.3917 - val_acc: 0.8436\n",
      "Epoch 53/500\n",
      "712/712 [==============================] - 0s 84us/step - loss: 0.4514 - acc: 0.8118 - val_loss: 0.3912 - val_acc: 0.8436\n",
      "Epoch 54/500\n",
      "712/712 [==============================] - 0s 74us/step - loss: 0.4524 - acc: 0.7907 - val_loss: 0.4069 - val_acc: 0.8436\n",
      "Epoch 55/500\n",
      "712/712 [==============================] - 0s 101us/step - loss: 0.4547 - acc: 0.8048 - val_loss: 0.4053 - val_acc: 0.8380\n",
      "Epoch 56/500\n",
      "712/712 [==============================] - 0s 72us/step - loss: 0.4449 - acc: 0.8034 - val_loss: 0.3978 - val_acc: 0.8492\n",
      "Epoch 57/500\n",
      "712/712 [==============================] - 0s 80us/step - loss: 0.4408 - acc: 0.8062 - val_loss: 0.3928 - val_acc: 0.8436\n",
      "Epoch 58/500\n",
      "712/712 [==============================] - 0s 77us/step - loss: 0.4399 - acc: 0.8048 - val_loss: 0.3929 - val_acc: 0.8380\n",
      "Epoch 59/500\n",
      "712/712 [==============================] - 0s 133us/step - loss: 0.4624 - acc: 0.8104 - val_loss: 0.3907 - val_acc: 0.8492\n",
      "Epoch 60/500\n",
      "712/712 [==============================] - 0s 76us/step - loss: 0.4360 - acc: 0.8202 - val_loss: 0.3899 - val_acc: 0.8492\n",
      "Epoch 61/500\n",
      "712/712 [==============================] - 0s 79us/step - loss: 0.4546 - acc: 0.8104 - val_loss: 0.3938 - val_acc: 0.8436\n",
      "Epoch 62/500\n",
      "712/712 [==============================] - 0s 73us/step - loss: 0.4581 - acc: 0.8076 - val_loss: 0.3942 - val_acc: 0.8492\n",
      "Epoch 63/500\n",
      "712/712 [==============================] - 0s 86us/step - loss: 0.4442 - acc: 0.8076 - val_loss: 0.3979 - val_acc: 0.8603\n",
      "Epoch 64/500\n",
      "712/712 [==============================] - 0s 81us/step - loss: 0.4384 - acc: 0.8244 - val_loss: 0.3904 - val_acc: 0.8659\n",
      "Epoch 65/500\n",
      "712/712 [==============================] - 0s 83us/step - loss: 0.4287 - acc: 0.8160 - val_loss: 0.3883 - val_acc: 0.8492\n",
      "Epoch 66/500\n",
      "712/712 [==============================] - 0s 80us/step - loss: 0.4227 - acc: 0.8146 - val_loss: 0.3893 - val_acc: 0.8436\n",
      "Epoch 67/500\n",
      "712/712 [==============================] - 0s 84us/step - loss: 0.4354 - acc: 0.8132 - val_loss: 0.3865 - val_acc: 0.8492\n",
      "Epoch 68/500\n",
      "712/712 [==============================] - 0s 80us/step - loss: 0.4404 - acc: 0.8174 - val_loss: 0.3853 - val_acc: 0.8492\n",
      "Epoch 69/500\n",
      "712/712 [==============================] - 0s 79us/step - loss: 0.4459 - acc: 0.8090 - val_loss: 0.3885 - val_acc: 0.8492\n",
      "Epoch 70/500\n",
      "712/712 [==============================] - 0s 69us/step - loss: 0.4402 - acc: 0.8104 - val_loss: 0.3886 - val_acc: 0.8547\n",
      "Epoch 71/500\n",
      "712/712 [==============================] - 0s 102us/step - loss: 0.4583 - acc: 0.8104 - val_loss: 0.3946 - val_acc: 0.8492\n",
      "Epoch 72/500\n",
      "712/712 [==============================] - 0s 115us/step - loss: 0.4275 - acc: 0.8076 - val_loss: 0.3930 - val_acc: 0.8547\n",
      "Epoch 73/500\n",
      "712/712 [==============================] - 0s 74us/step - loss: 0.4420 - acc: 0.8244 - val_loss: 0.3998 - val_acc: 0.8547\n",
      "Epoch 74/500\n",
      "712/712 [==============================] - 0s 77us/step - loss: 0.4439 - acc: 0.8020 - val_loss: 0.4014 - val_acc: 0.8547\n",
      "Epoch 75/500\n",
      "712/712 [==============================] - 0s 76us/step - loss: 0.4337 - acc: 0.8216 - val_loss: 0.3894 - val_acc: 0.8492\n",
      "Epoch 76/500\n",
      "712/712 [==============================] - 0s 104us/step - loss: 0.4456 - acc: 0.8132 - val_loss: 0.3945 - val_acc: 0.8603\n",
      "Epoch 77/500\n",
      "712/712 [==============================] - 0s 91us/step - loss: 0.4341 - acc: 0.8244 - val_loss: 0.3873 - val_acc: 0.8547\n",
      "Epoch 78/500\n",
      "712/712 [==============================] - 0s 108us/step - loss: 0.4443 - acc: 0.8118 - val_loss: 0.3866 - val_acc: 0.8603\n",
      "Epoch 79/500\n",
      "712/712 [==============================] - 0s 115us/step - loss: 0.4288 - acc: 0.8216 - val_loss: 0.3879 - val_acc: 0.8492\n",
      "Epoch 80/500\n",
      "712/712 [==============================] - 0s 111us/step - loss: 0.4240 - acc: 0.8020 - val_loss: 0.3823 - val_acc: 0.8547\n",
      "Epoch 81/500\n",
      "712/712 [==============================] - 0s 115us/step - loss: 0.4324 - acc: 0.8104 - val_loss: 0.3829 - val_acc: 0.8547\n",
      "Epoch 82/500\n",
      "712/712 [==============================] - 0s 83us/step - loss: 0.4338 - acc: 0.8216 - val_loss: 0.3876 - val_acc: 0.8547\n",
      "Epoch 83/500\n",
      "712/712 [==============================] - 0s 81us/step - loss: 0.4441 - acc: 0.8118 - val_loss: 0.3875 - val_acc: 0.8492\n",
      "Epoch 84/500\n",
      "712/712 [==============================] - ETA: 0s - loss: 0.4050 - acc: 0.843 - 0s 88us/step - loss: 0.4298 - acc: 0.8244 - val_loss: 0.3897 - val_acc: 0.8492\n",
      "Epoch 85/500\n",
      "712/712 [==============================] - 0s 105us/step - loss: 0.4290 - acc: 0.8202 - val_loss: 0.3872 - val_acc: 0.8436\n",
      "Epoch 86/500\n",
      "712/712 [==============================] - 0s 91us/step - loss: 0.4326 - acc: 0.8034 - val_loss: 0.3815 - val_acc: 0.8436\n",
      "Epoch 87/500\n",
      "712/712 [==============================] - 0s 87us/step - loss: 0.4294 - acc: 0.8174 - val_loss: 0.3951 - val_acc: 0.8380\n",
      "Epoch 88/500\n",
      "712/712 [==============================] - 0s 86us/step - loss: 0.4402 - acc: 0.8146 - val_loss: 0.3864 - val_acc: 0.8380\n",
      "Epoch 89/500\n",
      "712/712 [==============================] - 0s 77us/step - loss: 0.4262 - acc: 0.8174 - val_loss: 0.3837 - val_acc: 0.8492\n",
      "Epoch 90/500\n",
      "712/712 [==============================] - 0s 90us/step - loss: 0.4231 - acc: 0.8188 - val_loss: 0.3844 - val_acc: 0.8547\n",
      "Epoch 91/500\n",
      "712/712 [==============================] - 0s 104us/step - loss: 0.4319 - acc: 0.8216 - val_loss: 0.3837 - val_acc: 0.8547\n",
      "Epoch 92/500\n",
      "712/712 [==============================] - 0s 98us/step - loss: 0.4181 - acc: 0.8202 - val_loss: 0.3858 - val_acc: 0.8492\n",
      "Epoch 93/500\n",
      "712/712 [==============================] - 0s 84us/step - loss: 0.4257 - acc: 0.8160 - val_loss: 0.3850 - val_acc: 0.8436\n",
      "Epoch 94/500\n",
      "712/712 [==============================] - 0s 91us/step - loss: 0.4248 - acc: 0.8118 - val_loss: 0.3876 - val_acc: 0.8603\n",
      "Epoch 95/500\n",
      "712/712 [==============================] - 0s 91us/step - loss: 0.4291 - acc: 0.8216 - val_loss: 0.3883 - val_acc: 0.8547\n",
      "Epoch 96/500\n",
      "712/712 [==============================] - 0s 80us/step - loss: 0.4294 - acc: 0.8343 - val_loss: 0.3900 - val_acc: 0.8436\n",
      "Epoch 97/500\n",
      "712/712 [==============================] - 0s 100us/step - loss: 0.4308 - acc: 0.8202 - val_loss: 0.3923 - val_acc: 0.8380\n",
      "Epoch 98/500\n",
      "712/712 [==============================] - 0s 97us/step - loss: 0.4286 - acc: 0.8146 - val_loss: 0.3927 - val_acc: 0.8492\n",
      "Epoch 99/500\n",
      "712/712 [==============================] - 0s 97us/step - loss: 0.4438 - acc: 0.8076 - val_loss: 0.3887 - val_acc: 0.8380\n",
      "Epoch 100/500\n",
      "712/712 [==============================] - 0s 94us/step - loss: 0.4238 - acc: 0.8287 - val_loss: 0.3950 - val_acc: 0.8492\n",
      "Epoch 101/500\n",
      "712/712 [==============================] - 0s 84us/step - loss: 0.4212 - acc: 0.8287 - val_loss: 0.3859 - val_acc: 0.8492\n",
      "Epoch 102/500\n",
      "712/712 [==============================] - 0s 81us/step - loss: 0.4217 - acc: 0.8301 - val_loss: 0.3886 - val_acc: 0.8380\n",
      "Epoch 103/500\n",
      "712/712 [==============================] - 0s 119us/step - loss: 0.4123 - acc: 0.8272 - val_loss: 0.3773 - val_acc: 0.8547\n",
      "Epoch 104/500\n",
      "712/712 [==============================] - 0s 97us/step - loss: 0.4088 - acc: 0.8287 - val_loss: 0.3833 - val_acc: 0.8492\n",
      "Epoch 105/500\n",
      "712/712 [==============================] - 0s 102us/step - loss: 0.4126 - acc: 0.8174 - val_loss: 0.3916 - val_acc: 0.8547\n",
      "Epoch 106/500\n",
      "712/712 [==============================] - 0s 83us/step - loss: 0.4181 - acc: 0.8202 - val_loss: 0.3961 - val_acc: 0.8547\n",
      "Epoch 107/500\n",
      "712/712 [==============================] - 0s 79us/step - loss: 0.4139 - acc: 0.8202 - val_loss: 0.3883 - val_acc: 0.8436\n",
      "Epoch 108/500\n",
      "712/712 [==============================] - 0s 109us/step - loss: 0.4164 - acc: 0.8202 - val_loss: 0.3865 - val_acc: 0.8436\n",
      "Epoch 109/500\n",
      "712/712 [==============================] - 0s 104us/step - loss: 0.4314 - acc: 0.8202 - val_loss: 0.3930 - val_acc: 0.8547\n",
      "Epoch 110/500\n",
      "712/712 [==============================] - 0s 125us/step - loss: 0.4242 - acc: 0.8301 - val_loss: 0.3932 - val_acc: 0.8547\n",
      "Epoch 111/500\n",
      "712/712 [==============================] - 0s 87us/step - loss: 0.4017 - acc: 0.8146 - val_loss: 0.3884 - val_acc: 0.8380\n",
      "Epoch 112/500\n",
      "712/712 [==============================] - 0s 86us/step - loss: 0.4209 - acc: 0.8216 - val_loss: 0.3918 - val_acc: 0.8492\n",
      "Epoch 113/500\n",
      "712/712 [==============================] - 0s 93us/step - loss: 0.4140 - acc: 0.8230 - val_loss: 0.3980 - val_acc: 0.8492\n",
      "Epoch 114/500\n",
      "712/712 [==============================] - 0s 101us/step - loss: 0.4138 - acc: 0.8258 - val_loss: 0.3897 - val_acc: 0.8436\n",
      "Epoch 115/500\n",
      "712/712 [==============================] - 0s 91us/step - loss: 0.4037 - acc: 0.8329 - val_loss: 0.3890 - val_acc: 0.8436\n",
      "Epoch 116/500\n",
      "712/712 [==============================] - 0s 90us/step - loss: 0.4069 - acc: 0.8301 - val_loss: 0.3901 - val_acc: 0.8492\n",
      "Epoch 117/500\n",
      "712/712 [==============================] - 0s 83us/step - loss: 0.4286 - acc: 0.8188 - val_loss: 0.3892 - val_acc: 0.8492\n",
      "Epoch 118/500\n",
      "712/712 [==============================] - 0s 104us/step - loss: 0.4241 - acc: 0.8202 - val_loss: 0.3887 - val_acc: 0.8547\n",
      "Epoch 119/500\n",
      "712/712 [==============================] - 0s 101us/step - loss: 0.4216 - acc: 0.8146 - val_loss: 0.3923 - val_acc: 0.8492\n",
      "Epoch 120/500\n",
      "712/712 [==============================] - 0s 100us/step - loss: 0.4179 - acc: 0.8216 - val_loss: 0.4060 - val_acc: 0.8324\n",
      "Epoch 121/500\n",
      "712/712 [==============================] - 0s 111us/step - loss: 0.4056 - acc: 0.8315 - val_loss: 0.3938 - val_acc: 0.8492\n",
      "Epoch 122/500\n",
      "712/712 [==============================] - 0s 124us/step - loss: 0.4142 - acc: 0.8188 - val_loss: 0.3925 - val_acc: 0.8603\n",
      "Epoch 123/500\n",
      "712/712 [==============================] - 0s 142us/step - loss: 0.4106 - acc: 0.8160 - val_loss: 0.3920 - val_acc: 0.8492\n",
      "Epoch 124/500\n",
      "712/712 [==============================] - 0s 230us/step - loss: 0.4158 - acc: 0.8160 - val_loss: 0.4006 - val_acc: 0.8380\n",
      "Epoch 125/500\n",
      "712/712 [==============================] - 0s 122us/step - loss: 0.4164 - acc: 0.8258 - val_loss: 0.3916 - val_acc: 0.8492\n",
      "Epoch 126/500\n",
      "712/712 [==============================] - 0s 98us/step - loss: 0.4140 - acc: 0.8287 - val_loss: 0.3921 - val_acc: 0.8436\n",
      "Epoch 127/500\n",
      "712/712 [==============================] - 0s 79us/step - loss: 0.4159 - acc: 0.8258 - val_loss: 0.3897 - val_acc: 0.8492\n",
      "Epoch 128/500\n",
      "712/712 [==============================] - 0s 100us/step - loss: 0.4024 - acc: 0.8385 - val_loss: 0.3893 - val_acc: 0.8492\n",
      "Epoch 129/500\n",
      "712/712 [==============================] - 0s 195us/step - loss: 0.4145 - acc: 0.8244 - val_loss: 0.3909 - val_acc: 0.8547\n",
      "Epoch 130/500\n",
      "712/712 [==============================] - 0s 292us/step - loss: 0.4082 - acc: 0.8230 - val_loss: 0.3878 - val_acc: 0.8436\n",
      "Epoch 131/500\n",
      "712/712 [==============================] - 0s 125us/step - loss: 0.4274 - acc: 0.8272 - val_loss: 0.3952 - val_acc: 0.8436\n",
      "Epoch 132/500\n",
      "712/712 [==============================] - 0s 111us/step - loss: 0.4158 - acc: 0.8272 - val_loss: 0.4061 - val_acc: 0.8492\n",
      "Epoch 133/500\n",
      "712/712 [==============================] - 0s 138us/step - loss: 0.4070 - acc: 0.8272 - val_loss: 0.3926 - val_acc: 0.8547\n",
      "Epoch 134/500\n",
      "712/712 [==============================] - 0s 136us/step - loss: 0.4115 - acc: 0.8188 - val_loss: 0.3872 - val_acc: 0.8547\n",
      "Epoch 135/500\n",
      "712/712 [==============================] - 0s 147us/step - loss: 0.4112 - acc: 0.8301 - val_loss: 0.3876 - val_acc: 0.8492\n",
      "Epoch 136/500\n",
      "712/712 [==============================] - 0s 80us/step - loss: 0.4254 - acc: 0.8399 - val_loss: 0.3913 - val_acc: 0.8492\n",
      "Epoch 137/500\n",
      "712/712 [==============================] - 0s 81us/step - loss: 0.4192 - acc: 0.8160 - val_loss: 0.3875 - val_acc: 0.8436\n",
      "Epoch 138/500\n",
      "712/712 [==============================] - ETA: 0s - loss: 0.4202 - acc: 0.810 - 0s 167us/step - loss: 0.4038 - acc: 0.8272 - val_loss: 0.3938 - val_acc: 0.8492\n",
      "Epoch 139/500\n",
      "712/712 [==============================] - 0s 117us/step - loss: 0.4079 - acc: 0.8216 - val_loss: 0.3894 - val_acc: 0.8547\n",
      "Epoch 140/500\n",
      "712/712 [==============================] - 0s 119us/step - loss: 0.4081 - acc: 0.8202 - val_loss: 0.3851 - val_acc: 0.8492\n",
      "Epoch 141/500\n",
      "712/712 [==============================] - 0s 69us/step - loss: 0.4127 - acc: 0.8258 - val_loss: 0.3891 - val_acc: 0.8603\n",
      "Epoch 142/500\n",
      "712/712 [==============================] - 0s 62us/step - loss: 0.4183 - acc: 0.8315 - val_loss: 0.3894 - val_acc: 0.8492\n",
      "Epoch 143/500\n",
      "712/712 [==============================] - 0s 63us/step - loss: 0.4134 - acc: 0.8315 - val_loss: 0.3927 - val_acc: 0.8492\n",
      "Epoch 144/500\n",
      "712/712 [==============================] - 0s 65us/step - loss: 0.4113 - acc: 0.8244 - val_loss: 0.3911 - val_acc: 0.8492\n",
      "Epoch 145/500\n",
      "712/712 [==============================] - 0s 76us/step - loss: 0.4070 - acc: 0.8301 - val_loss: 0.3903 - val_acc: 0.8547\n",
      "Epoch 146/500\n",
      "712/712 [==============================] - 0s 83us/step - loss: 0.4063 - acc: 0.8216 - val_loss: 0.3849 - val_acc: 0.8547\n",
      "Epoch 147/500\n",
      "712/712 [==============================] - 0s 69us/step - loss: 0.3992 - acc: 0.8272 - val_loss: 0.3853 - val_acc: 0.8547\n",
      "Epoch 148/500\n",
      "712/712 [==============================] - 0s 69us/step - loss: 0.4066 - acc: 0.8301 - val_loss: 0.3858 - val_acc: 0.8492\n",
      "Epoch 149/500\n",
      "712/712 [==============================] - 0s 69us/step - loss: 0.4070 - acc: 0.8287 - val_loss: 0.3852 - val_acc: 0.8492\n",
      "Epoch 150/500\n",
      "712/712 [==============================] - 0s 65us/step - loss: 0.3965 - acc: 0.8385 - val_loss: 0.3863 - val_acc: 0.8547\n",
      "Epoch 151/500\n",
      "712/712 [==============================] - 0s 65us/step - loss: 0.4159 - acc: 0.8385 - val_loss: 0.3869 - val_acc: 0.8492\n",
      "Epoch 152/500\n",
      "712/712 [==============================] - 0s 65us/step - loss: 0.4076 - acc: 0.8216 - val_loss: 0.3880 - val_acc: 0.8547\n",
      "Epoch 153/500\n",
      "712/712 [==============================] - 0s 74us/step - loss: 0.4051 - acc: 0.8216 - val_loss: 0.3909 - val_acc: 0.8547\n",
      "Epoch 154/500\n",
      "712/712 [==============================] - 0s 72us/step - loss: 0.3839 - acc: 0.8343 - val_loss: 0.3881 - val_acc: 0.8436\n",
      "Epoch 155/500\n",
      "712/712 [==============================] - 0s 70us/step - loss: 0.4014 - acc: 0.8287 - val_loss: 0.3833 - val_acc: 0.8436\n",
      "Epoch 156/500\n",
      "712/712 [==============================] - 0s 100us/step - loss: 0.3957 - acc: 0.8329 - val_loss: 0.3848 - val_acc: 0.8492\n",
      "Epoch 157/500\n",
      "712/712 [==============================] - 0s 117us/step - loss: 0.3960 - acc: 0.8287 - val_loss: 0.3913 - val_acc: 0.8547\n",
      "Epoch 158/500\n",
      "712/712 [==============================] - 0s 109us/step - loss: 0.4062 - acc: 0.8272 - val_loss: 0.3877 - val_acc: 0.8492\n",
      "Epoch 159/500\n",
      "712/712 [==============================] - 0s 83us/step - loss: 0.3957 - acc: 0.8343 - val_loss: 0.3859 - val_acc: 0.8492\n",
      "Epoch 160/500\n",
      "712/712 [==============================] - 0s 74us/step - loss: 0.3863 - acc: 0.8385 - val_loss: 0.3912 - val_acc: 0.8436\n",
      "Epoch 161/500\n",
      "712/712 [==============================] - 0s 80us/step - loss: 0.3853 - acc: 0.8357 - val_loss: 0.3834 - val_acc: 0.8492\n",
      "Epoch 162/500\n",
      "712/712 [==============================] - 0s 124us/step - loss: 0.3937 - acc: 0.8272 - val_loss: 0.3819 - val_acc: 0.8492\n",
      "Epoch 163/500\n",
      "712/712 [==============================] - 0s 178us/step - loss: 0.3903 - acc: 0.8371 - val_loss: 0.3930 - val_acc: 0.8380\n",
      "Epoch 164/500\n",
      "712/712 [==============================] - 0s 86us/step - loss: 0.3943 - acc: 0.8385 - val_loss: 0.3868 - val_acc: 0.8492\n",
      "Epoch 165/500\n",
      "712/712 [==============================] - 0s 86us/step - loss: 0.3925 - acc: 0.8301 - val_loss: 0.3867 - val_acc: 0.8492\n",
      "Epoch 166/500\n",
      "712/712 [==============================] - 0s 175us/step - loss: 0.3932 - acc: 0.8413 - val_loss: 0.3834 - val_acc: 0.8436\n",
      "Epoch 167/500\n",
      "712/712 [==============================] - 0s 126us/step - loss: 0.4028 - acc: 0.8399 - val_loss: 0.3872 - val_acc: 0.8492\n",
      "Epoch 168/500\n",
      "712/712 [==============================] - 0s 100us/step - loss: 0.3952 - acc: 0.8329 - val_loss: 0.3909 - val_acc: 0.8492\n",
      "Epoch 169/500\n",
      "712/712 [==============================] - 0s 72us/step - loss: 0.3810 - acc: 0.8399 - val_loss: 0.3916 - val_acc: 0.8492\n",
      "Epoch 170/500\n",
      "712/712 [==============================] - 0s 97us/step - loss: 0.4040 - acc: 0.8301 - val_loss: 0.3915 - val_acc: 0.8492\n",
      "Epoch 171/500\n",
      "712/712 [==============================] - 0s 66us/step - loss: 0.4050 - acc: 0.8399 - val_loss: 0.3922 - val_acc: 0.8547\n",
      "Epoch 172/500\n",
      "712/712 [==============================] - 0s 72us/step - loss: 0.4057 - acc: 0.8301 - val_loss: 0.3859 - val_acc: 0.8547\n",
      "Epoch 173/500\n",
      "712/712 [==============================] - 0s 114us/step - loss: 0.3945 - acc: 0.8315 - val_loss: 0.3863 - val_acc: 0.8492\n",
      "Epoch 174/500\n",
      "712/712 [==============================] - 0s 102us/step - loss: 0.4133 - acc: 0.8287 - val_loss: 0.3877 - val_acc: 0.8492\n",
      "Epoch 175/500\n",
      "712/712 [==============================] - 0s 62us/step - loss: 0.4088 - acc: 0.8272 - val_loss: 0.3999 - val_acc: 0.8492\n",
      "Epoch 176/500\n",
      "712/712 [==============================] - 0s 62us/step - loss: 0.4112 - acc: 0.8272 - val_loss: 0.3923 - val_acc: 0.8492\n",
      "Epoch 177/500\n",
      "712/712 [==============================] - 0s 66us/step - loss: 0.4172 - acc: 0.8258 - val_loss: 0.3948 - val_acc: 0.8492\n",
      "Epoch 178/500\n",
      "712/712 [==============================] - 0s 67us/step - loss: 0.3921 - acc: 0.8315 - val_loss: 0.3910 - val_acc: 0.8492\n",
      "Epoch 179/500\n",
      "712/712 [==============================] - 0s 70us/step - loss: 0.3961 - acc: 0.8329 - val_loss: 0.3876 - val_acc: 0.8547\n",
      "Epoch 180/500\n",
      "712/712 [==============================] - 0s 84us/step - loss: 0.4157 - acc: 0.8202 - val_loss: 0.3844 - val_acc: 0.8492\n",
      "Epoch 181/500\n",
      "712/712 [==============================] - 0s 98us/step - loss: 0.3982 - acc: 0.8329 - val_loss: 0.3832 - val_acc: 0.8492\n",
      "Epoch 182/500\n",
      "712/712 [==============================] - 0s 69us/step - loss: 0.3909 - acc: 0.8357 - val_loss: 0.3843 - val_acc: 0.8492\n",
      "Epoch 183/500\n",
      "712/712 [==============================] - 0s 67us/step - loss: 0.4018 - acc: 0.8343 - val_loss: 0.3829 - val_acc: 0.8436\n",
      "Epoch 184/500\n",
      "712/712 [==============================] - 0s 65us/step - loss: 0.4016 - acc: 0.8399 - val_loss: 0.3844 - val_acc: 0.8492\n",
      "Epoch 185/500\n",
      "712/712 [==============================] - 0s 66us/step - loss: 0.3945 - acc: 0.8230 - val_loss: 0.3856 - val_acc: 0.8492\n",
      "Epoch 186/500\n",
      "712/712 [==============================] - 0s 69us/step - loss: 0.4014 - acc: 0.8399 - val_loss: 0.3888 - val_acc: 0.8492\n",
      "Epoch 187/500\n",
      "712/712 [==============================] - 0s 63us/step - loss: 0.3923 - acc: 0.8343 - val_loss: 0.3839 - val_acc: 0.8492\n",
      "Epoch 188/500\n",
      "712/712 [==============================] - 0s 63us/step - loss: 0.3892 - acc: 0.8413 - val_loss: 0.3852 - val_acc: 0.8603\n",
      "Epoch 189/500\n",
      "712/712 [==============================] - 0s 60us/step - loss: 0.3944 - acc: 0.8301 - val_loss: 0.3857 - val_acc: 0.8492\n",
      "Epoch 190/500\n",
      "712/712 [==============================] - 0s 67us/step - loss: 0.3846 - acc: 0.8399 - val_loss: 0.3813 - val_acc: 0.8436\n",
      "Epoch 191/500\n",
      "712/712 [==============================] - 0s 115us/step - loss: 0.3968 - acc: 0.8357 - val_loss: 0.3863 - val_acc: 0.8492\n",
      "Epoch 192/500\n",
      "712/712 [==============================] - 0s 73us/step - loss: 0.3947 - acc: 0.8385 - val_loss: 0.3878 - val_acc: 0.8547\n",
      "Epoch 193/500\n",
      "712/712 [==============================] - 0s 97us/step - loss: 0.3928 - acc: 0.8315 - val_loss: 0.3846 - val_acc: 0.8492\n",
      "Epoch 194/500\n",
      "712/712 [==============================] - 0s 119us/step - loss: 0.3925 - acc: 0.8399 - val_loss: 0.3883 - val_acc: 0.8492\n",
      "Epoch 195/500\n",
      "712/712 [==============================] - 0s 105us/step - loss: 0.3987 - acc: 0.8315 - val_loss: 0.3839 - val_acc: 0.8492\n",
      "Epoch 196/500\n",
      "712/712 [==============================] - 0s 81us/step - loss: 0.3999 - acc: 0.8272 - val_loss: 0.3840 - val_acc: 0.8492\n",
      "Epoch 197/500\n",
      "712/712 [==============================] - 0s 83us/step - loss: 0.3904 - acc: 0.8343 - val_loss: 0.3841 - val_acc: 0.8603\n",
      "Epoch 198/500\n",
      "712/712 [==============================] - 0s 111us/step - loss: 0.3923 - acc: 0.8329 - val_loss: 0.3823 - val_acc: 0.8492\n",
      "Epoch 199/500\n",
      "712/712 [==============================] - 0s 67us/step - loss: 0.3945 - acc: 0.8357 - val_loss: 0.3828 - val_acc: 0.8492\n",
      "Epoch 200/500\n",
      "712/712 [==============================] - 0s 81us/step - loss: 0.3786 - acc: 0.8441 - val_loss: 0.3900 - val_acc: 0.8492\n",
      "Epoch 201/500\n",
      "712/712 [==============================] - 0s 66us/step - loss: 0.3979 - acc: 0.8272 - val_loss: 0.3911 - val_acc: 0.8436\n",
      "Epoch 202/500\n",
      "712/712 [==============================] - 0s 81us/step - loss: 0.3889 - acc: 0.8272 - val_loss: 0.3884 - val_acc: 0.8492\n",
      "Epoch 203/500\n",
      "712/712 [==============================] - 0s 73us/step - loss: 0.3889 - acc: 0.8357 - val_loss: 0.3858 - val_acc: 0.8547\n",
      "Epoch 204/500\n",
      "712/712 [==============================] - 0s 84us/step - loss: 0.4057 - acc: 0.8287 - val_loss: 0.3793 - val_acc: 0.8492\n",
      "Epoch 205/500\n",
      "712/712 [==============================] - 0s 70us/step - loss: 0.3916 - acc: 0.8287 - val_loss: 0.3791 - val_acc: 0.8436\n",
      "Epoch 206/500\n",
      "712/712 [==============================] - 0s 70us/step - loss: 0.3943 - acc: 0.8413 - val_loss: 0.3916 - val_acc: 0.8547\n",
      "Epoch 207/500\n",
      "712/712 [==============================] - 0s 65us/step - loss: 0.4035 - acc: 0.8315 - val_loss: 0.3863 - val_acc: 0.8492\n",
      "Epoch 208/500\n",
      "712/712 [==============================] - 0s 72us/step - loss: 0.3796 - acc: 0.8455 - val_loss: 0.3869 - val_acc: 0.8492\n",
      "Epoch 209/500\n",
      "712/712 [==============================] - 0s 67us/step - loss: 0.3883 - acc: 0.8315 - val_loss: 0.3877 - val_acc: 0.8492\n",
      "Epoch 210/500\n",
      "712/712 [==============================] - 0s 81us/step - loss: 0.3823 - acc: 0.8371 - val_loss: 0.3920 - val_acc: 0.8547\n",
      "Epoch 211/500\n",
      "712/712 [==============================] - 0s 67us/step - loss: 0.3978 - acc: 0.8301 - val_loss: 0.3878 - val_acc: 0.8492\n",
      "Epoch 212/500\n",
      "712/712 [==============================] - 0s 62us/step - loss: 0.3906 - acc: 0.8497 - val_loss: 0.3817 - val_acc: 0.8547\n",
      "Epoch 213/500\n",
      "712/712 [==============================] - 0s 65us/step - loss: 0.3849 - acc: 0.8483 - val_loss: 0.3855 - val_acc: 0.8492\n",
      "Epoch 214/500\n",
      "712/712 [==============================] - 0s 69us/step - loss: 0.3917 - acc: 0.8385 - val_loss: 0.3936 - val_acc: 0.8547\n",
      "Epoch 215/500\n",
      "712/712 [==============================] - 0s 67us/step - loss: 0.3966 - acc: 0.8329 - val_loss: 0.3881 - val_acc: 0.8547\n",
      "Epoch 216/500\n",
      "712/712 [==============================] - 0s 65us/step - loss: 0.3964 - acc: 0.8287 - val_loss: 0.3940 - val_acc: 0.8547\n",
      "Epoch 217/500\n",
      "712/712 [==============================] - 0s 65us/step - loss: 0.3979 - acc: 0.8343 - val_loss: 0.3905 - val_acc: 0.8547\n",
      "Epoch 218/500\n",
      "712/712 [==============================] - 0s 62us/step - loss: 0.3857 - acc: 0.8399 - val_loss: 0.3869 - val_acc: 0.8492\n",
      "Epoch 219/500\n",
      "712/712 [==============================] - 0s 126us/step - loss: 0.3802 - acc: 0.8357 - val_loss: 0.3841 - val_acc: 0.8547\n",
      "Epoch 220/500\n",
      "712/712 [==============================] - 0s 112us/step - loss: 0.3899 - acc: 0.8371 - val_loss: 0.3833 - val_acc: 0.8547\n",
      "Epoch 221/500\n",
      "712/712 [==============================] - 0s 101us/step - loss: 0.3875 - acc: 0.8385 - val_loss: 0.3854 - val_acc: 0.8547\n",
      "Epoch 222/500\n",
      "712/712 [==============================] - 0s 132us/step - loss: 0.3794 - acc: 0.8399 - val_loss: 0.3862 - val_acc: 0.8547\n",
      "Epoch 223/500\n",
      "712/712 [==============================] - 0s 114us/step - loss: 0.3884 - acc: 0.8357 - val_loss: 0.3864 - val_acc: 0.8547\n",
      "Epoch 224/500\n",
      "712/712 [==============================] - 0s 117us/step - loss: 0.3939 - acc: 0.8371 - val_loss: 0.3849 - val_acc: 0.8547\n",
      "Epoch 225/500\n",
      "712/712 [==============================] - 0s 105us/step - loss: 0.3883 - acc: 0.8371 - val_loss: 0.3913 - val_acc: 0.8492\n",
      "Epoch 226/500\n",
      "712/712 [==============================] - 0s 118us/step - loss: 0.3904 - acc: 0.8413 - val_loss: 0.3939 - val_acc: 0.8603\n",
      "Epoch 227/500\n",
      "712/712 [==============================] - 0s 98us/step - loss: 0.3910 - acc: 0.8413 - val_loss: 0.3904 - val_acc: 0.8603\n",
      "Epoch 228/500\n",
      "712/712 [==============================] - 0s 112us/step - loss: 0.3816 - acc: 0.8343 - val_loss: 0.3824 - val_acc: 0.8547\n",
      "Epoch 229/500\n",
      "712/712 [==============================] - 0s 87us/step - loss: 0.3849 - acc: 0.8371 - val_loss: 0.3818 - val_acc: 0.8603\n",
      "Epoch 230/500\n",
      "712/712 [==============================] - 0s 94us/step - loss: 0.3959 - acc: 0.8413 - val_loss: 0.3833 - val_acc: 0.8547\n",
      "Epoch 231/500\n",
      "712/712 [==============================] - 0s 84us/step - loss: 0.4025 - acc: 0.8216 - val_loss: 0.3835 - val_acc: 0.8547\n",
      "Epoch 232/500\n",
      "712/712 [==============================] - 0s 275us/step - loss: 0.3850 - acc: 0.8441 - val_loss: 0.3929 - val_acc: 0.8547\n",
      "Epoch 233/500\n",
      "712/712 [==============================] - 0s 87us/step - loss: 0.3910 - acc: 0.8413 - val_loss: 0.3872 - val_acc: 0.8547\n",
      "Epoch 234/500\n",
      "712/712 [==============================] - 0s 112us/step - loss: 0.3794 - acc: 0.8315 - val_loss: 0.3871 - val_acc: 0.8436\n",
      "Epoch 235/500\n",
      "712/712 [==============================] - 0s 108us/step - loss: 0.3849 - acc: 0.8371 - val_loss: 0.3861 - val_acc: 0.8492\n",
      "Epoch 236/500\n",
      "712/712 [==============================] - 0s 84us/step - loss: 0.3871 - acc: 0.8441 - val_loss: 0.3888 - val_acc: 0.8492\n",
      "Epoch 237/500\n",
      "712/712 [==============================] - 0s 79us/step - loss: 0.3655 - acc: 0.8413 - val_loss: 0.3902 - val_acc: 0.8492\n",
      "Epoch 238/500\n",
      "712/712 [==============================] - 0s 80us/step - loss: 0.3792 - acc: 0.8413 - val_loss: 0.3880 - val_acc: 0.8492\n",
      "Epoch 239/500\n",
      "712/712 [==============================] - 0s 77us/step - loss: 0.3895 - acc: 0.8357 - val_loss: 0.3940 - val_acc: 0.8547\n",
      "Epoch 240/500\n",
      "712/712 [==============================] - 0s 84us/step - loss: 0.3852 - acc: 0.8441 - val_loss: 0.3938 - val_acc: 0.8547\n",
      "Epoch 241/500\n",
      "712/712 [==============================] - 0s 105us/step - loss: 0.3885 - acc: 0.8399 - val_loss: 0.3862 - val_acc: 0.8492\n",
      "Epoch 242/500\n",
      "712/712 [==============================] - 0s 83us/step - loss: 0.3808 - acc: 0.8385 - val_loss: 0.3904 - val_acc: 0.8492\n",
      "Epoch 243/500\n",
      "712/712 [==============================] - 0s 83us/step - loss: 0.3697 - acc: 0.8427 - val_loss: 0.3882 - val_acc: 0.8547\n",
      "Epoch 244/500\n",
      "712/712 [==============================] - 0s 77us/step - loss: 0.3881 - acc: 0.8301 - val_loss: 0.3912 - val_acc: 0.8547\n",
      "Epoch 245/500\n",
      "712/712 [==============================] - 0s 84us/step - loss: 0.3885 - acc: 0.8301 - val_loss: 0.3815 - val_acc: 0.8547\n",
      "Epoch 246/500\n",
      "712/712 [==============================] - 0s 81us/step - loss: 0.3814 - acc: 0.8385 - val_loss: 0.3846 - val_acc: 0.8547\n",
      "Epoch 247/500\n",
      "712/712 [==============================] - 0s 83us/step - loss: 0.3957 - acc: 0.8287 - val_loss: 0.3916 - val_acc: 0.8492\n",
      "Epoch 248/500\n",
      "712/712 [==============================] - 0s 118us/step - loss: 0.3890 - acc: 0.8399 - val_loss: 0.3897 - val_acc: 0.8603\n",
      "Epoch 249/500\n",
      "712/712 [==============================] - 0s 80us/step - loss: 0.3900 - acc: 0.8287 - val_loss: 0.3847 - val_acc: 0.8547\n",
      "Epoch 250/500\n",
      "712/712 [==============================] - 0s 83us/step - loss: 0.4057 - acc: 0.8301 - val_loss: 0.3874 - val_acc: 0.8547\n",
      "Epoch 251/500\n",
      "712/712 [==============================] - 0s 73us/step - loss: 0.3732 - acc: 0.8399 - val_loss: 0.3854 - val_acc: 0.8436\n",
      "Epoch 252/500\n",
      "712/712 [==============================] - 0s 93us/step - loss: 0.3796 - acc: 0.8427 - val_loss: 0.3871 - val_acc: 0.8436\n",
      "Epoch 253/500\n",
      "712/712 [==============================] - 0s 149us/step - loss: 0.3862 - acc: 0.8427 - val_loss: 0.3910 - val_acc: 0.8436\n",
      "Epoch 254/500\n",
      "712/712 [==============================] - 0s 173us/step - loss: 0.3839 - acc: 0.8469 - val_loss: 0.3958 - val_acc: 0.8547\n",
      "Epoch 255/500\n",
      "712/712 [==============================] - 0s 142us/step - loss: 0.3886 - acc: 0.8357 - val_loss: 0.3938 - val_acc: 0.8547\n",
      "Epoch 256/500\n",
      "712/712 [==============================] - 0s 93us/step - loss: 0.3910 - acc: 0.8427 - val_loss: 0.3901 - val_acc: 0.8547\n",
      "Epoch 257/500\n",
      "712/712 [==============================] - 0s 107us/step - loss: 0.3937 - acc: 0.8343 - val_loss: 0.3890 - val_acc: 0.8603\n",
      "Epoch 258/500\n",
      "712/712 [==============================] - 0s 79us/step - loss: 0.3957 - acc: 0.8329 - val_loss: 0.3969 - val_acc: 0.8547\n",
      "Epoch 259/500\n",
      "712/712 [==============================] - 0s 86us/step - loss: 0.3775 - acc: 0.8497 - val_loss: 0.3940 - val_acc: 0.8603\n",
      "Epoch 260/500\n",
      "712/712 [==============================] - 0s 140us/step - loss: 0.3838 - acc: 0.8483 - val_loss: 0.3866 - val_acc: 0.8492\n",
      "Epoch 261/500\n",
      "712/712 [==============================] - 0s 119us/step - loss: 0.3795 - acc: 0.8441 - val_loss: 0.3840 - val_acc: 0.8547\n",
      "Epoch 262/500\n",
      "712/712 [==============================] - 0s 87us/step - loss: 0.3783 - acc: 0.8427 - val_loss: 0.3907 - val_acc: 0.8547\n",
      "Epoch 263/500\n",
      "712/712 [==============================] - 0s 77us/step - loss: 0.3872 - acc: 0.8357 - val_loss: 0.3919 - val_acc: 0.8547\n",
      "Epoch 264/500\n",
      "712/712 [==============================] - 0s 84us/step - loss: 0.3841 - acc: 0.8385 - val_loss: 0.3944 - val_acc: 0.8547\n",
      "Epoch 265/500\n",
      "712/712 [==============================] - 0s 72us/step - loss: 0.3815 - acc: 0.8357 - val_loss: 0.3927 - val_acc: 0.8492\n",
      "Epoch 266/500\n",
      "712/712 [==============================] - 0s 76us/step - loss: 0.3741 - acc: 0.8427 - val_loss: 0.3911 - val_acc: 0.8547\n",
      "Epoch 267/500\n",
      "712/712 [==============================] - 0s 77us/step - loss: 0.3786 - acc: 0.8357 - val_loss: 0.3924 - val_acc: 0.8547\n",
      "Epoch 268/500\n",
      "712/712 [==============================] - 0s 73us/step - loss: 0.3810 - acc: 0.8455 - val_loss: 0.3881 - val_acc: 0.8492\n",
      "Epoch 269/500\n",
      "712/712 [==============================] - 0s 105us/step - loss: 0.3810 - acc: 0.8371 - val_loss: 0.3903 - val_acc: 0.8492\n",
      "Epoch 270/500\n",
      "712/712 [==============================] - 0s 86us/step - loss: 0.3890 - acc: 0.8441 - val_loss: 0.3998 - val_acc: 0.8492\n",
      "Epoch 271/500\n",
      "712/712 [==============================] - 0s 77us/step - loss: 0.3853 - acc: 0.8287 - val_loss: 0.3898 - val_acc: 0.8492\n",
      "Epoch 272/500\n",
      "712/712 [==============================] - 0s 74us/step - loss: 0.3826 - acc: 0.8427 - val_loss: 0.3939 - val_acc: 0.8547\n",
      "Epoch 273/500\n",
      "712/712 [==============================] - ETA: 0s - loss: 0.3754 - acc: 0.828 - 0s 79us/step - loss: 0.3836 - acc: 0.8343 - val_loss: 0.3922 - val_acc: 0.8547\n",
      "Epoch 274/500\n",
      "712/712 [==============================] - 0s 80us/step - loss: 0.3816 - acc: 0.8371 - val_loss: 0.3921 - val_acc: 0.8603\n",
      "Epoch 275/500\n",
      "712/712 [==============================] - ETA: 0s - loss: 0.5028 - acc: 0.781 - 0s 84us/step - loss: 0.3841 - acc: 0.8343 - val_loss: 0.3899 - val_acc: 0.8547\n",
      "Epoch 276/500\n",
      "712/712 [==============================] - 0s 76us/step - loss: 0.3740 - acc: 0.8399 - val_loss: 0.3898 - val_acc: 0.8492\n",
      "Epoch 277/500\n",
      "712/712 [==============================] - 0s 73us/step - loss: 0.3767 - acc: 0.8427 - val_loss: 0.3896 - val_acc: 0.8547\n",
      "Epoch 278/500\n",
      "712/712 [==============================] - 0s 86us/step - loss: 0.3826 - acc: 0.8357 - val_loss: 0.3826 - val_acc: 0.8492\n",
      "Epoch 279/500\n",
      "712/712 [==============================] - 0s 76us/step - loss: 0.3862 - acc: 0.8399 - val_loss: 0.3887 - val_acc: 0.8547\n",
      "Epoch 280/500\n",
      "712/712 [==============================] - 0s 73us/step - loss: 0.3737 - acc: 0.8371 - val_loss: 0.3877 - val_acc: 0.8492\n",
      "Epoch 281/500\n",
      "712/712 [==============================] - 0s 77us/step - loss: 0.3784 - acc: 0.8385 - val_loss: 0.3897 - val_acc: 0.8492\n",
      "Epoch 282/500\n",
      "712/712 [==============================] - 0s 74us/step - loss: 0.3814 - acc: 0.8441 - val_loss: 0.3998 - val_acc: 0.8547\n",
      "Epoch 283/500\n",
      "712/712 [==============================] - 0s 70us/step - loss: 0.3942 - acc: 0.8371 - val_loss: 0.3866 - val_acc: 0.8436\n",
      "Epoch 284/500\n",
      "712/712 [==============================] - 0s 72us/step - loss: 0.3802 - acc: 0.8343 - val_loss: 0.3902 - val_acc: 0.8547\n",
      "Epoch 285/500\n",
      "712/712 [==============================] - 0s 73us/step - loss: 0.3770 - acc: 0.8399 - val_loss: 0.3962 - val_acc: 0.8547\n",
      "Epoch 286/500\n",
      "712/712 [==============================] - 0s 72us/step - loss: 0.3772 - acc: 0.8455 - val_loss: 0.3913 - val_acc: 0.8547\n",
      "Epoch 287/500\n",
      "712/712 [==============================] - 0s 69us/step - loss: 0.3849 - acc: 0.8427 - val_loss: 0.3866 - val_acc: 0.8436\n",
      "Epoch 288/500\n",
      "712/712 [==============================] - 0s 73us/step - loss: 0.3669 - acc: 0.8413 - val_loss: 0.3875 - val_acc: 0.8492\n",
      "Epoch 289/500\n",
      "712/712 [==============================] - 0s 70us/step - loss: 0.3742 - acc: 0.8343 - val_loss: 0.3875 - val_acc: 0.8547\n",
      "Epoch 290/500\n",
      "712/712 [==============================] - 0s 72us/step - loss: 0.3692 - acc: 0.8427 - val_loss: 0.3905 - val_acc: 0.8547\n",
      "Epoch 291/500\n",
      "712/712 [==============================] - 0s 73us/step - loss: 0.3742 - acc: 0.8469 - val_loss: 0.3871 - val_acc: 0.8547\n",
      "Epoch 292/500\n",
      "712/712 [==============================] - 0s 81us/step - loss: 0.3709 - acc: 0.8371 - val_loss: 0.3893 - val_acc: 0.8603\n",
      "Epoch 293/500\n",
      "712/712 [==============================] - 0s 72us/step - loss: 0.3870 - acc: 0.8385 - val_loss: 0.3840 - val_acc: 0.8547\n",
      "Epoch 294/500\n",
      "712/712 [==============================] - 0s 74us/step - loss: 0.3803 - acc: 0.8385 - val_loss: 0.3895 - val_acc: 0.8603\n",
      "Epoch 295/500\n",
      "712/712 [==============================] - 0s 72us/step - loss: 0.3854 - acc: 0.8413 - val_loss: 0.3928 - val_acc: 0.8603\n",
      "Epoch 296/500\n",
      "712/712 [==============================] - 0s 69us/step - loss: 0.3798 - acc: 0.8329 - val_loss: 0.3896 - val_acc: 0.8547\n",
      "Epoch 297/500\n",
      "712/712 [==============================] - 0s 73us/step - loss: 0.3626 - acc: 0.8399 - val_loss: 0.3983 - val_acc: 0.8547\n",
      "Epoch 298/500\n",
      "712/712 [==============================] - 0s 72us/step - loss: 0.3874 - acc: 0.8315 - val_loss: 0.3948 - val_acc: 0.8492\n",
      "Epoch 299/500\n",
      "712/712 [==============================] - 0s 73us/step - loss: 0.3795 - acc: 0.8469 - val_loss: 0.3918 - val_acc: 0.8492\n",
      "Epoch 300/500\n",
      "712/712 [==============================] - 0s 70us/step - loss: 0.3826 - acc: 0.8441 - val_loss: 0.3978 - val_acc: 0.8436\n",
      "Epoch 301/500\n",
      "712/712 [==============================] - 0s 72us/step - loss: 0.3794 - acc: 0.8413 - val_loss: 0.3898 - val_acc: 0.8547\n",
      "Epoch 302/500\n",
      "712/712 [==============================] - 0s 67us/step - loss: 0.3727 - acc: 0.8385 - val_loss: 0.3890 - val_acc: 0.8492\n",
      "Epoch 303/500\n",
      "712/712 [==============================] - 0s 72us/step - loss: 0.3671 - acc: 0.8427 - val_loss: 0.3876 - val_acc: 0.8547\n",
      "Epoch 304/500\n",
      "712/712 [==============================] - 0s 70us/step - loss: 0.3740 - acc: 0.8427 - val_loss: 0.3910 - val_acc: 0.8547\n",
      "Epoch 305/500\n",
      "712/712 [==============================] - 0s 76us/step - loss: 0.3787 - acc: 0.8413 - val_loss: 0.3899 - val_acc: 0.8547\n",
      "Epoch 306/500\n",
      "712/712 [==============================] - 0s 74us/step - loss: 0.3825 - acc: 0.8287 - val_loss: 0.3881 - val_acc: 0.8492\n",
      "Epoch 307/500\n",
      "712/712 [==============================] - 0s 72us/step - loss: 0.3704 - acc: 0.8469 - val_loss: 0.3984 - val_acc: 0.8547\n",
      "Epoch 308/500\n",
      "712/712 [==============================] - 0s 69us/step - loss: 0.3776 - acc: 0.8371 - val_loss: 0.3971 - val_acc: 0.8492\n",
      "Epoch 309/500\n",
      "712/712 [==============================] - 0s 70us/step - loss: 0.3786 - acc: 0.8371 - val_loss: 0.4041 - val_acc: 0.8380\n",
      "Epoch 310/500\n",
      "712/712 [==============================] - 0s 69us/step - loss: 0.3857 - acc: 0.8413 - val_loss: 0.3983 - val_acc: 0.8492\n",
      "Epoch 311/500\n",
      "712/712 [==============================] - 0s 69us/step - loss: 0.3875 - acc: 0.8371 - val_loss: 0.3945 - val_acc: 0.8547\n",
      "Epoch 312/500\n",
      "712/712 [==============================] - 0s 70us/step - loss: 0.3709 - acc: 0.8399 - val_loss: 0.3981 - val_acc: 0.8492\n",
      "Epoch 313/500\n",
      "712/712 [==============================] - 0s 70us/step - loss: 0.3615 - acc: 0.8427 - val_loss: 0.3928 - val_acc: 0.8547\n",
      "Epoch 314/500\n",
      "712/712 [==============================] - 0s 69us/step - loss: 0.3696 - acc: 0.8483 - val_loss: 0.3927 - val_acc: 0.8547\n",
      "Epoch 315/500\n",
      "712/712 [==============================] - 0s 72us/step - loss: 0.3797 - acc: 0.8441 - val_loss: 0.3997 - val_acc: 0.8547\n",
      "Epoch 316/500\n",
      "712/712 [==============================] - 0s 69us/step - loss: 0.3828 - acc: 0.8483 - val_loss: 0.3994 - val_acc: 0.8547\n",
      "Epoch 317/500\n",
      "712/712 [==============================] - 0s 67us/step - loss: 0.3702 - acc: 0.8399 - val_loss: 0.3977 - val_acc: 0.8436\n",
      "Epoch 318/500\n",
      "712/712 [==============================] - 0s 73us/step - loss: 0.3886 - acc: 0.8371 - val_loss: 0.4002 - val_acc: 0.8492\n",
      "Epoch 319/500\n",
      "712/712 [==============================] - 0s 72us/step - loss: 0.3776 - acc: 0.8343 - val_loss: 0.4058 - val_acc: 0.8436\n",
      "Epoch 320/500\n",
      "712/712 [==============================] - 0s 69us/step - loss: 0.3777 - acc: 0.8441 - val_loss: 0.3921 - val_acc: 0.8547\n",
      "Epoch 321/500\n",
      "712/712 [==============================] - 0s 69us/step - loss: 0.3670 - acc: 0.8427 - val_loss: 0.3915 - val_acc: 0.8547\n",
      "Epoch 322/500\n",
      "712/712 [==============================] - 0s 72us/step - loss: 0.3704 - acc: 0.8413 - val_loss: 0.3867 - val_acc: 0.8492\n",
      "Epoch 323/500\n",
      "712/712 [==============================] - 0s 70us/step - loss: 0.3779 - acc: 0.8385 - val_loss: 0.3866 - val_acc: 0.8492\n",
      "Epoch 324/500\n",
      "712/712 [==============================] - 0s 70us/step - loss: 0.3849 - acc: 0.8385 - val_loss: 0.4004 - val_acc: 0.8436\n",
      "Epoch 325/500\n",
      "712/712 [==============================] - 0s 67us/step - loss: 0.3690 - acc: 0.8441 - val_loss: 0.3966 - val_acc: 0.8492\n",
      "Epoch 326/500\n",
      "712/712 [==============================] - 0s 69us/step - loss: 0.3796 - acc: 0.8371 - val_loss: 0.3884 - val_acc: 0.8603\n",
      "Epoch 327/500\n",
      "712/712 [==============================] - 0s 72us/step - loss: 0.3639 - acc: 0.8567 - val_loss: 0.3864 - val_acc: 0.8603\n",
      "Epoch 328/500\n",
      "712/712 [==============================] - 0s 70us/step - loss: 0.3813 - acc: 0.8329 - val_loss: 0.3848 - val_acc: 0.8547\n",
      "Epoch 329/500\n",
      "712/712 [==============================] - 0s 73us/step - loss: 0.3708 - acc: 0.8427 - val_loss: 0.3871 - val_acc: 0.8547\n",
      "Epoch 330/500\n",
      "712/712 [==============================] - 0s 67us/step - loss: 0.3816 - acc: 0.8371 - val_loss: 0.4022 - val_acc: 0.8436\n",
      "Epoch 331/500\n",
      "712/712 [==============================] - 0s 70us/step - loss: 0.3786 - acc: 0.8357 - val_loss: 0.3918 - val_acc: 0.8547\n",
      "Epoch 332/500\n",
      "712/712 [==============================] - 0s 81us/step - loss: 0.3773 - acc: 0.8301 - val_loss: 0.3940 - val_acc: 0.8492\n",
      "Epoch 333/500\n",
      "712/712 [==============================] - 0s 67us/step - loss: 0.3744 - acc: 0.8455 - val_loss: 0.3964 - val_acc: 0.8547\n",
      "Epoch 334/500\n",
      "712/712 [==============================] - 0s 72us/step - loss: 0.3757 - acc: 0.8441 - val_loss: 0.3837 - val_acc: 0.8492\n",
      "Epoch 335/500\n",
      "712/712 [==============================] - 0s 70us/step - loss: 0.3822 - acc: 0.8287 - val_loss: 0.3862 - val_acc: 0.8547\n",
      "Epoch 336/500\n",
      "712/712 [==============================] - 0s 69us/step - loss: 0.3709 - acc: 0.8399 - val_loss: 0.3913 - val_acc: 0.8492\n",
      "Epoch 337/500\n",
      "712/712 [==============================] - 0s 70us/step - loss: 0.3706 - acc: 0.8399 - val_loss: 0.3881 - val_acc: 0.8492\n",
      "Epoch 338/500\n",
      "712/712 [==============================] - 0s 67us/step - loss: 0.3845 - acc: 0.8413 - val_loss: 0.3886 - val_acc: 0.8547\n",
      "Epoch 339/500\n",
      "712/712 [==============================] - 0s 69us/step - loss: 0.3681 - acc: 0.8427 - val_loss: 0.3978 - val_acc: 0.8547\n",
      "Epoch 340/500\n",
      "712/712 [==============================] - 0s 72us/step - loss: 0.3712 - acc: 0.8357 - val_loss: 0.3902 - val_acc: 0.8547\n",
      "Epoch 341/500\n",
      "712/712 [==============================] - 0s 69us/step - loss: 0.3776 - acc: 0.8371 - val_loss: 0.3964 - val_acc: 0.8547\n",
      "Epoch 342/500\n",
      "712/712 [==============================] - 0s 72us/step - loss: 0.3808 - acc: 0.8399 - val_loss: 0.4039 - val_acc: 0.8547\n",
      "Epoch 343/500\n",
      "712/712 [==============================] - 0s 70us/step - loss: 0.3786 - acc: 0.8301 - val_loss: 0.3973 - val_acc: 0.8547\n",
      "Epoch 344/500\n",
      "712/712 [==============================] - 0s 69us/step - loss: 0.3635 - acc: 0.8469 - val_loss: 0.3965 - val_acc: 0.8547\n",
      "Epoch 345/500\n",
      "712/712 [==============================] - 0s 73us/step - loss: 0.3803 - acc: 0.8399 - val_loss: 0.3939 - val_acc: 0.8492\n",
      "Epoch 346/500\n",
      "712/712 [==============================] - 0s 74us/step - loss: 0.3823 - acc: 0.8399 - val_loss: 0.3972 - val_acc: 0.8492\n",
      "Epoch 347/500\n",
      "712/712 [==============================] - 0s 69us/step - loss: 0.3751 - acc: 0.8357 - val_loss: 0.4062 - val_acc: 0.8603\n",
      "Epoch 348/500\n",
      "712/712 [==============================] - 0s 69us/step - loss: 0.3798 - acc: 0.8441 - val_loss: 0.4013 - val_acc: 0.8603\n",
      "Epoch 349/500\n",
      "712/712 [==============================] - 0s 70us/step - loss: 0.3770 - acc: 0.8357 - val_loss: 0.3959 - val_acc: 0.8547\n",
      "Epoch 350/500\n",
      "712/712 [==============================] - 0s 70us/step - loss: 0.3750 - acc: 0.8511 - val_loss: 0.3996 - val_acc: 0.8547\n",
      "Epoch 351/500\n",
      "712/712 [==============================] - 0s 69us/step - loss: 0.3755 - acc: 0.8413 - val_loss: 0.3999 - val_acc: 0.8547\n",
      "Epoch 352/500\n",
      "712/712 [==============================] - 0s 72us/step - loss: 0.3635 - acc: 0.8455 - val_loss: 0.3975 - val_acc: 0.8547\n",
      "Epoch 353/500\n",
      "712/712 [==============================] - 0s 74us/step - loss: 0.3789 - acc: 0.8385 - val_loss: 0.3929 - val_acc: 0.8492\n",
      "Epoch 354/500\n",
      "712/712 [==============================] - 0s 70us/step - loss: 0.3743 - acc: 0.8385 - val_loss: 0.4011 - val_acc: 0.8547\n",
      "Epoch 355/500\n",
      "712/712 [==============================] - 0s 74us/step - loss: 0.3666 - acc: 0.8483 - val_loss: 0.4049 - val_acc: 0.8547\n",
      "Epoch 356/500\n",
      "712/712 [==============================] - 0s 77us/step - loss: 0.3659 - acc: 0.8413 - val_loss: 0.4012 - val_acc: 0.8436\n",
      "Epoch 357/500\n",
      "712/712 [==============================] - 0s 74us/step - loss: 0.3695 - acc: 0.8483 - val_loss: 0.4025 - val_acc: 0.8436\n",
      "Epoch 358/500\n",
      "712/712 [==============================] - 0s 69us/step - loss: 0.3692 - acc: 0.8427 - val_loss: 0.4008 - val_acc: 0.8547\n",
      "Epoch 359/500\n",
      "712/712 [==============================] - 0s 72us/step - loss: 0.3759 - acc: 0.8497 - val_loss: 0.4011 - val_acc: 0.8492\n",
      "Epoch 360/500\n",
      "712/712 [==============================] - 0s 72us/step - loss: 0.3692 - acc: 0.8343 - val_loss: 0.3989 - val_acc: 0.8547\n",
      "Epoch 361/500\n",
      "712/712 [==============================] - 0s 72us/step - loss: 0.3858 - acc: 0.8385 - val_loss: 0.4051 - val_acc: 0.8492\n",
      "Epoch 362/500\n",
      "712/712 [==============================] - 0s 74us/step - loss: 0.3667 - acc: 0.8511 - val_loss: 0.3972 - val_acc: 0.8547\n",
      "Epoch 363/500\n",
      "712/712 [==============================] - 0s 79us/step - loss: 0.3644 - acc: 0.8483 - val_loss: 0.3956 - val_acc: 0.8547\n",
      "Epoch 364/500\n",
      "712/712 [==============================] - 0s 72us/step - loss: 0.3669 - acc: 0.8497 - val_loss: 0.3967 - val_acc: 0.8547\n",
      "Epoch 365/500\n",
      "712/712 [==============================] - 0s 76us/step - loss: 0.3703 - acc: 0.8469 - val_loss: 0.4010 - val_acc: 0.8492\n",
      "Epoch 366/500\n",
      "712/712 [==============================] - 0s 109us/step - loss: 0.3740 - acc: 0.8469 - val_loss: 0.4020 - val_acc: 0.8492\n",
      "Epoch 367/500\n",
      "712/712 [==============================] - 0s 152us/step - loss: 0.3689 - acc: 0.8469 - val_loss: 0.4150 - val_acc: 0.8380\n",
      "Epoch 368/500\n",
      "712/712 [==============================] - 0s 171us/step - loss: 0.3778 - acc: 0.8455 - val_loss: 0.3949 - val_acc: 0.8547\n",
      "Epoch 369/500\n",
      "712/712 [==============================] - 0s 104us/step - loss: 0.3827 - acc: 0.8427 - val_loss: 0.3960 - val_acc: 0.8436\n",
      "Epoch 370/500\n",
      "712/712 [==============================] - 0s 125us/step - loss: 0.3583 - acc: 0.8539 - val_loss: 0.3995 - val_acc: 0.8492\n",
      "Epoch 371/500\n",
      "712/712 [==============================] - 0s 87us/step - loss: 0.3745 - acc: 0.8385 - val_loss: 0.4002 - val_acc: 0.8492\n",
      "Epoch 372/500\n",
      "712/712 [==============================] - 0s 73us/step - loss: 0.3689 - acc: 0.8413 - val_loss: 0.3983 - val_acc: 0.8492\n",
      "Epoch 373/500\n",
      "712/712 [==============================] - 0s 70us/step - loss: 0.3677 - acc: 0.8539 - val_loss: 0.4057 - val_acc: 0.8547\n",
      "Epoch 374/500\n",
      "712/712 [==============================] - 0s 84us/step - loss: 0.3617 - acc: 0.8399 - val_loss: 0.4019 - val_acc: 0.8547\n",
      "Epoch 375/500\n",
      "712/712 [==============================] - 0s 125us/step - loss: 0.3657 - acc: 0.8511 - val_loss: 0.4016 - val_acc: 0.8547\n",
      "Epoch 376/500\n",
      "712/712 [==============================] - 0s 84us/step - loss: 0.3634 - acc: 0.8483 - val_loss: 0.3964 - val_acc: 0.8547\n",
      "Epoch 377/500\n",
      "712/712 [==============================] - 0s 73us/step - loss: 0.3688 - acc: 0.8427 - val_loss: 0.4098 - val_acc: 0.8436\n",
      "Epoch 378/500\n",
      "712/712 [==============================] - 0s 115us/step - loss: 0.3756 - acc: 0.8511 - val_loss: 0.3991 - val_acc: 0.8547\n",
      "Epoch 379/500\n",
      "712/712 [==============================] - 0s 83us/step - loss: 0.3860 - acc: 0.8343 - val_loss: 0.4007 - val_acc: 0.8547\n",
      "Epoch 380/500\n",
      "712/712 [==============================] - 0s 70us/step - loss: 0.3855 - acc: 0.8413 - val_loss: 0.4013 - val_acc: 0.8324\n",
      "Epoch 381/500\n",
      "712/712 [==============================] - 0s 88us/step - loss: 0.3754 - acc: 0.8399 - val_loss: 0.4031 - val_acc: 0.8492\n",
      "Epoch 382/500\n",
      "712/712 [==============================] - 0s 124us/step - loss: 0.3688 - acc: 0.8427 - val_loss: 0.4086 - val_acc: 0.8436\n",
      "Epoch 383/500\n",
      "712/712 [==============================] - 0s 102us/step - loss: 0.3743 - acc: 0.8385 - val_loss: 0.3969 - val_acc: 0.8547\n",
      "Epoch 384/500\n",
      "712/712 [==============================] - 0s 107us/step - loss: 0.3557 - acc: 0.8427 - val_loss: 0.3971 - val_acc: 0.8436\n",
      "Epoch 385/500\n",
      "712/712 [==============================] - 0s 83us/step - loss: 0.3671 - acc: 0.8385 - val_loss: 0.4119 - val_acc: 0.8324\n",
      "Epoch 386/500\n",
      "712/712 [==============================] - 0s 76us/step - loss: 0.3590 - acc: 0.8483 - val_loss: 0.3990 - val_acc: 0.8436\n",
      "Epoch 387/500\n",
      "712/712 [==============================] - 0s 73us/step - loss: 0.3756 - acc: 0.8441 - val_loss: 0.4026 - val_acc: 0.8492\n",
      "Epoch 388/500\n",
      "712/712 [==============================] - 0s 72us/step - loss: 0.3817 - acc: 0.8371 - val_loss: 0.4014 - val_acc: 0.8547\n",
      "Epoch 389/500\n",
      "712/712 [==============================] - 0s 72us/step - loss: 0.3566 - acc: 0.8525 - val_loss: 0.3944 - val_acc: 0.8547\n",
      "Epoch 390/500\n",
      "712/712 [==============================] - 0s 72us/step - loss: 0.3672 - acc: 0.8385 - val_loss: 0.3952 - val_acc: 0.8547\n",
      "Epoch 391/500\n",
      "712/712 [==============================] - 0s 70us/step - loss: 0.3613 - acc: 0.8553 - val_loss: 0.3961 - val_acc: 0.8492\n",
      "Epoch 392/500\n",
      "712/712 [==============================] - 0s 80us/step - loss: 0.3619 - acc: 0.8469 - val_loss: 0.3997 - val_acc: 0.8492\n",
      "Epoch 393/500\n",
      "712/712 [==============================] - 0s 77us/step - loss: 0.3683 - acc: 0.8441 - val_loss: 0.4058 - val_acc: 0.8492\n",
      "Epoch 394/500\n",
      "712/712 [==============================] - 0s 69us/step - loss: 0.3639 - acc: 0.8497 - val_loss: 0.4065 - val_acc: 0.8603\n",
      "Epoch 395/500\n",
      "712/712 [==============================] - 0s 76us/step - loss: 0.3673 - acc: 0.8441 - val_loss: 0.4012 - val_acc: 0.8492\n",
      "Epoch 396/500\n",
      "712/712 [==============================] - 0s 98us/step - loss: 0.3628 - acc: 0.8497 - val_loss: 0.4085 - val_acc: 0.8492\n",
      "Epoch 397/500\n",
      "712/712 [==============================] - 0s 88us/step - loss: 0.3597 - acc: 0.8483 - val_loss: 0.4047 - val_acc: 0.8492\n",
      "Epoch 398/500\n",
      "712/712 [==============================] - 0s 76us/step - loss: 0.3664 - acc: 0.8413 - val_loss: 0.4040 - val_acc: 0.8547\n",
      "Epoch 399/500\n",
      "712/712 [==============================] - 0s 79us/step - loss: 0.3749 - acc: 0.8483 - val_loss: 0.3947 - val_acc: 0.8492\n",
      "Epoch 400/500\n",
      "712/712 [==============================] - 0s 73us/step - loss: 0.3564 - acc: 0.8455 - val_loss: 0.4008 - val_acc: 0.8547\n",
      "Epoch 401/500\n",
      "712/712 [==============================] - 0s 80us/step - loss: 0.3674 - acc: 0.8441 - val_loss: 0.4008 - val_acc: 0.8603\n",
      "Epoch 402/500\n",
      "712/712 [==============================] - 0s 69us/step - loss: 0.3680 - acc: 0.8441 - val_loss: 0.4121 - val_acc: 0.8492\n",
      "Epoch 403/500\n",
      "712/712 [==============================] - 0s 74us/step - loss: 0.3642 - acc: 0.8413 - val_loss: 0.3976 - val_acc: 0.8547\n",
      "Epoch 404/500\n",
      "712/712 [==============================] - 0s 72us/step - loss: 0.3594 - acc: 0.8441 - val_loss: 0.3915 - val_acc: 0.8547\n",
      "Epoch 405/500\n",
      "712/712 [==============================] - 0s 74us/step - loss: 0.3682 - acc: 0.8455 - val_loss: 0.4035 - val_acc: 0.8492\n",
      "Epoch 406/500\n",
      "712/712 [==============================] - 0s 79us/step - loss: 0.3664 - acc: 0.8385 - val_loss: 0.3944 - val_acc: 0.8547\n",
      "Epoch 407/500\n",
      "712/712 [==============================] - 0s 87us/step - loss: 0.3731 - acc: 0.8399 - val_loss: 0.3974 - val_acc: 0.8547\n",
      "Epoch 408/500\n",
      "712/712 [==============================] - 0s 84us/step - loss: 0.3747 - acc: 0.8371 - val_loss: 0.4095 - val_acc: 0.8380\n",
      "Epoch 409/500\n",
      "712/712 [==============================] - 0s 83us/step - loss: 0.3750 - acc: 0.8455 - val_loss: 0.3978 - val_acc: 0.8492\n",
      "Epoch 410/500\n",
      "712/712 [==============================] - 0s 87us/step - loss: 0.3702 - acc: 0.8427 - val_loss: 0.3968 - val_acc: 0.8492\n",
      "Epoch 411/500\n",
      "712/712 [==============================] - 0s 77us/step - loss: 0.3666 - acc: 0.8455 - val_loss: 0.4001 - val_acc: 0.8492\n",
      "Epoch 412/500\n",
      "712/712 [==============================] - 0s 79us/step - loss: 0.3717 - acc: 0.8385 - val_loss: 0.3984 - val_acc: 0.8436\n",
      "Epoch 413/500\n",
      "712/712 [==============================] - 0s 77us/step - loss: 0.3510 - acc: 0.8511 - val_loss: 0.4056 - val_acc: 0.8547\n",
      "Epoch 414/500\n",
      "712/712 [==============================] - 0s 79us/step - loss: 0.3692 - acc: 0.8525 - val_loss: 0.4013 - val_acc: 0.8492\n",
      "Epoch 415/500\n",
      "712/712 [==============================] - 0s 73us/step - loss: 0.3729 - acc: 0.8399 - val_loss: 0.4047 - val_acc: 0.8436\n",
      "Epoch 416/500\n",
      "712/712 [==============================] - 0s 69us/step - loss: 0.3710 - acc: 0.8427 - val_loss: 0.4042 - val_acc: 0.8492\n",
      "Epoch 417/500\n",
      "712/712 [==============================] - 0s 72us/step - loss: 0.3572 - acc: 0.8511 - val_loss: 0.4012 - val_acc: 0.8436\n",
      "Epoch 418/500\n",
      "712/712 [==============================] - 0s 72us/step - loss: 0.3742 - acc: 0.8371 - val_loss: 0.3942 - val_acc: 0.8492\n",
      "Epoch 419/500\n",
      "712/712 [==============================] - 0s 73us/step - loss: 0.3752 - acc: 0.8427 - val_loss: 0.4002 - val_acc: 0.8547\n",
      "Epoch 420/500\n",
      "712/712 [==============================] - 0s 70us/step - loss: 0.3599 - acc: 0.8483 - val_loss: 0.4062 - val_acc: 0.8492\n",
      "Epoch 421/500\n",
      "712/712 [==============================] - 0s 70us/step - loss: 0.3709 - acc: 0.8455 - val_loss: 0.3922 - val_acc: 0.8492\n",
      "Epoch 422/500\n",
      "712/712 [==============================] - 0s 69us/step - loss: 0.3565 - acc: 0.8539 - val_loss: 0.3936 - val_acc: 0.8492\n",
      "Epoch 423/500\n",
      "712/712 [==============================] - 0s 74us/step - loss: 0.3756 - acc: 0.8441 - val_loss: 0.3965 - val_acc: 0.8547\n",
      "Epoch 424/500\n",
      "712/712 [==============================] - 0s 69us/step - loss: 0.3491 - acc: 0.8497 - val_loss: 0.4008 - val_acc: 0.8492\n",
      "Epoch 425/500\n",
      "712/712 [==============================] - 0s 76us/step - loss: 0.3749 - acc: 0.8385 - val_loss: 0.4076 - val_acc: 0.8547\n",
      "Epoch 426/500\n",
      "712/712 [==============================] - 0s 76us/step - loss: 0.3561 - acc: 0.8441 - val_loss: 0.3948 - val_acc: 0.8492\n",
      "Epoch 427/500\n",
      "712/712 [==============================] - 0s 84us/step - loss: 0.3644 - acc: 0.8427 - val_loss: 0.3971 - val_acc: 0.8547\n",
      "Epoch 428/500\n",
      "712/712 [==============================] - 0s 98us/step - loss: 0.3619 - acc: 0.8525 - val_loss: 0.4018 - val_acc: 0.8547\n",
      "Epoch 429/500\n",
      "712/712 [==============================] - 0s 132us/step - loss: 0.3753 - acc: 0.8497 - val_loss: 0.4062 - val_acc: 0.8492\n",
      "Epoch 430/500\n",
      "712/712 [==============================] - 0s 76us/step - loss: 0.3654 - acc: 0.8385 - val_loss: 0.3962 - val_acc: 0.8547\n",
      "Epoch 431/500\n",
      "712/712 [==============================] - 0s 129us/step - loss: 0.3628 - acc: 0.8427 - val_loss: 0.4014 - val_acc: 0.8547\n",
      "Epoch 432/500\n",
      "712/712 [==============================] - 0s 157us/step - loss: 0.3784 - acc: 0.8441 - val_loss: 0.4022 - val_acc: 0.8547\n",
      "Epoch 433/500\n",
      "712/712 [==============================] - 0s 83us/step - loss: 0.3686 - acc: 0.8371 - val_loss: 0.4021 - val_acc: 0.8547\n",
      "Epoch 434/500\n",
      "712/712 [==============================] - 0s 102us/step - loss: 0.3597 - acc: 0.8497 - val_loss: 0.4054 - val_acc: 0.8547\n",
      "Epoch 435/500\n",
      "712/712 [==============================] - 0s 108us/step - loss: 0.3649 - acc: 0.8441 - val_loss: 0.4030 - val_acc: 0.8547\n",
      "Epoch 436/500\n",
      "712/712 [==============================] - 0s 86us/step - loss: 0.3756 - acc: 0.8385 - val_loss: 0.4095 - val_acc: 0.8436\n",
      "Epoch 437/500\n",
      "712/712 [==============================] - 0s 72us/step - loss: 0.3829 - acc: 0.8301 - val_loss: 0.4075 - val_acc: 0.8492\n",
      "Epoch 438/500\n",
      "712/712 [==============================] - 0s 126us/step - loss: 0.3703 - acc: 0.8413 - val_loss: 0.4021 - val_acc: 0.8547\n",
      "Epoch 439/500\n",
      "712/712 [==============================] - 0s 126us/step - loss: 0.3592 - acc: 0.8511 - val_loss: 0.4029 - val_acc: 0.8547\n",
      "Epoch 440/500\n",
      "712/712 [==============================] - 0s 87us/step - loss: 0.3670 - acc: 0.8455 - val_loss: 0.3980 - val_acc: 0.8603\n",
      "Epoch 441/500\n",
      "712/712 [==============================] - 0s 72us/step - loss: 0.3694 - acc: 0.8385 - val_loss: 0.4074 - val_acc: 0.8547\n",
      "Epoch 442/500\n",
      "712/712 [==============================] - 0s 80us/step - loss: 0.3738 - acc: 0.8455 - val_loss: 0.3970 - val_acc: 0.8492\n",
      "Epoch 443/500\n",
      "712/712 [==============================] - 0s 73us/step - loss: 0.3731 - acc: 0.8441 - val_loss: 0.4001 - val_acc: 0.8492\n",
      "Epoch 444/500\n",
      "712/712 [==============================] - 0s 76us/step - loss: 0.3764 - acc: 0.8399 - val_loss: 0.4079 - val_acc: 0.8547\n",
      "Epoch 445/500\n",
      "712/712 [==============================] - 0s 76us/step - loss: 0.3712 - acc: 0.8483 - val_loss: 0.4097 - val_acc: 0.8547\n",
      "Epoch 446/500\n",
      "712/712 [==============================] - 0s 87us/step - loss: 0.3684 - acc: 0.8441 - val_loss: 0.4065 - val_acc: 0.8547\n",
      "Epoch 447/500\n",
      "712/712 [==============================] - 0s 87us/step - loss: 0.3553 - acc: 0.8483 - val_loss: 0.3993 - val_acc: 0.8492\n",
      "Epoch 448/500\n",
      "712/712 [==============================] - 0s 86us/step - loss: 0.3692 - acc: 0.8455 - val_loss: 0.4119 - val_acc: 0.8547\n",
      "Epoch 449/500\n",
      "712/712 [==============================] - 0s 164us/step - loss: 0.3629 - acc: 0.8469 - val_loss: 0.4019 - val_acc: 0.8547\n",
      "Epoch 450/500\n",
      "712/712 [==============================] - 0s 77us/step - loss: 0.3663 - acc: 0.8399 - val_loss: 0.4054 - val_acc: 0.8492\n",
      "Epoch 451/500\n",
      "712/712 [==============================] - 0s 84us/step - loss: 0.3593 - acc: 0.8469 - val_loss: 0.4099 - val_acc: 0.8436\n",
      "Epoch 452/500\n",
      "712/712 [==============================] - 0s 86us/step - loss: 0.3567 - acc: 0.8483 - val_loss: 0.3939 - val_acc: 0.8547\n",
      "Epoch 453/500\n",
      "712/712 [==============================] - 0s 100us/step - loss: 0.3630 - acc: 0.8497 - val_loss: 0.3987 - val_acc: 0.8492\n",
      "Epoch 454/500\n",
      "712/712 [==============================] - 0s 77us/step - loss: 0.3644 - acc: 0.8427 - val_loss: 0.3976 - val_acc: 0.8492\n",
      "Epoch 455/500\n",
      "712/712 [==============================] - 0s 79us/step - loss: 0.3575 - acc: 0.8525 - val_loss: 0.4101 - val_acc: 0.8324\n",
      "Epoch 456/500\n",
      "712/712 [==============================] - 0s 101us/step - loss: 0.3554 - acc: 0.8525 - val_loss: 0.4136 - val_acc: 0.8436\n",
      "Epoch 457/500\n",
      "712/712 [==============================] - 0s 104us/step - loss: 0.3584 - acc: 0.8497 - val_loss: 0.3972 - val_acc: 0.8547\n",
      "Epoch 458/500\n",
      "712/712 [==============================] - 0s 97us/step - loss: 0.3673 - acc: 0.8525 - val_loss: 0.4002 - val_acc: 0.8492\n",
      "Epoch 459/500\n",
      "712/712 [==============================] - 0s 79us/step - loss: 0.3610 - acc: 0.8441 - val_loss: 0.4047 - val_acc: 0.8492\n",
      "Epoch 460/500\n",
      "712/712 [==============================] - 0s 74us/step - loss: 0.3618 - acc: 0.8469 - val_loss: 0.4002 - val_acc: 0.8436\n",
      "Epoch 461/500\n",
      "712/712 [==============================] - 0s 81us/step - loss: 0.3659 - acc: 0.8525 - val_loss: 0.4070 - val_acc: 0.8492\n",
      "Epoch 462/500\n",
      "712/712 [==============================] - 0s 81us/step - loss: 0.3587 - acc: 0.8469 - val_loss: 0.4118 - val_acc: 0.8492\n",
      "Epoch 463/500\n",
      "712/712 [==============================] - 0s 70us/step - loss: 0.3626 - acc: 0.8455 - val_loss: 0.4139 - val_acc: 0.8436\n",
      "Epoch 464/500\n",
      "712/712 [==============================] - 0s 70us/step - loss: 0.3608 - acc: 0.8413 - val_loss: 0.4125 - val_acc: 0.8380\n",
      "Epoch 465/500\n",
      "712/712 [==============================] - 0s 73us/step - loss: 0.3581 - acc: 0.8413 - val_loss: 0.4067 - val_acc: 0.8547\n",
      "Epoch 466/500\n",
      "712/712 [==============================] - 0s 79us/step - loss: 0.3760 - acc: 0.8469 - val_loss: 0.4170 - val_acc: 0.8380\n",
      "Epoch 467/500\n",
      "712/712 [==============================] - 0s 84us/step - loss: 0.3672 - acc: 0.8427 - val_loss: 0.4015 - val_acc: 0.8547\n",
      "Epoch 468/500\n",
      "712/712 [==============================] - 0s 88us/step - loss: 0.3598 - acc: 0.8511 - val_loss: 0.3996 - val_acc: 0.8547\n",
      "Epoch 469/500\n",
      "712/712 [==============================] - 0s 77us/step - loss: 0.3523 - acc: 0.8483 - val_loss: 0.4024 - val_acc: 0.8547\n",
      "Epoch 470/500\n",
      "712/712 [==============================] - 0s 69us/step - loss: 0.3584 - acc: 0.8469 - val_loss: 0.4112 - val_acc: 0.8436\n",
      "Epoch 471/500\n",
      "712/712 [==============================] - 0s 72us/step - loss: 0.3658 - acc: 0.8399 - val_loss: 0.4112 - val_acc: 0.8547\n",
      "Epoch 472/500\n",
      "712/712 [==============================] - 0s 72us/step - loss: 0.3684 - acc: 0.8469 - val_loss: 0.4147 - val_acc: 0.8547\n",
      "Epoch 473/500\n",
      "712/712 [==============================] - 0s 76us/step - loss: 0.3492 - acc: 0.8511 - val_loss: 0.4026 - val_acc: 0.8492\n",
      "Epoch 474/500\n",
      "712/712 [==============================] - 0s 73us/step - loss: 0.3768 - acc: 0.8427 - val_loss: 0.3975 - val_acc: 0.8492\n",
      "Epoch 475/500\n",
      "712/712 [==============================] - 0s 74us/step - loss: 0.3724 - acc: 0.8399 - val_loss: 0.4081 - val_acc: 0.8492\n",
      "Epoch 476/500\n",
      "712/712 [==============================] - 0s 72us/step - loss: 0.3624 - acc: 0.8413 - val_loss: 0.4036 - val_acc: 0.8547\n",
      "Epoch 477/500\n",
      "712/712 [==============================] - 0s 72us/step - loss: 0.3466 - acc: 0.8483 - val_loss: 0.4025 - val_acc: 0.8547\n",
      "Epoch 478/500\n",
      "712/712 [==============================] - 0s 76us/step - loss: 0.3611 - acc: 0.8483 - val_loss: 0.4092 - val_acc: 0.8492\n",
      "Epoch 479/500\n",
      "712/712 [==============================] - 0s 70us/step - loss: 0.3561 - acc: 0.8455 - val_loss: 0.4109 - val_acc: 0.8324\n",
      "Epoch 480/500\n",
      "712/712 [==============================] - 0s 70us/step - loss: 0.3559 - acc: 0.8441 - val_loss: 0.4062 - val_acc: 0.8436\n",
      "Epoch 481/500\n",
      "712/712 [==============================] - 0s 160us/step - loss: 0.3755 - acc: 0.8455 - val_loss: 0.4007 - val_acc: 0.8492\n",
      "Epoch 482/500\n",
      "712/712 [==============================] - 0s 88us/step - loss: 0.3589 - acc: 0.8441 - val_loss: 0.4012 - val_acc: 0.8436\n",
      "Epoch 483/500\n",
      "712/712 [==============================] - 0s 80us/step - loss: 0.3643 - acc: 0.8441 - val_loss: 0.4145 - val_acc: 0.8492\n",
      "Epoch 484/500\n",
      "712/712 [==============================] - 0s 73us/step - loss: 0.3571 - acc: 0.8497 - val_loss: 0.4103 - val_acc: 0.8547\n",
      "Epoch 485/500\n",
      "712/712 [==============================] - 0s 72us/step - loss: 0.3525 - acc: 0.8511 - val_loss: 0.4032 - val_acc: 0.8547\n",
      "Epoch 486/500\n",
      "712/712 [==============================] - 0s 76us/step - loss: 0.3505 - acc: 0.8441 - val_loss: 0.4081 - val_acc: 0.8547\n",
      "Epoch 487/500\n",
      "712/712 [==============================] - 0s 73us/step - loss: 0.3492 - acc: 0.8525 - val_loss: 0.4098 - val_acc: 0.8547\n",
      "Epoch 488/500\n",
      "712/712 [==============================] - 0s 76us/step - loss: 0.3679 - acc: 0.8399 - val_loss: 0.4130 - val_acc: 0.8492\n",
      "Epoch 489/500\n",
      "712/712 [==============================] - 0s 74us/step - loss: 0.3642 - acc: 0.8483 - val_loss: 0.4098 - val_acc: 0.8547\n",
      "Epoch 490/500\n",
      "712/712 [==============================] - 0s 72us/step - loss: 0.3536 - acc: 0.8497 - val_loss: 0.4115 - val_acc: 0.8547\n",
      "Epoch 491/500\n",
      "712/712 [==============================] - 0s 248us/step - loss: 0.3508 - acc: 0.8525 - val_loss: 0.4123 - val_acc: 0.8547\n",
      "Epoch 492/500\n",
      "712/712 [==============================] - 0s 77us/step - loss: 0.3549 - acc: 0.8511 - val_loss: 0.4101 - val_acc: 0.8324\n",
      "Epoch 493/500\n",
      "712/712 [==============================] - 0s 74us/step - loss: 0.3411 - acc: 0.8441 - val_loss: 0.4047 - val_acc: 0.8436\n",
      "Epoch 494/500\n",
      "712/712 [==============================] - 0s 76us/step - loss: 0.3616 - acc: 0.8385 - val_loss: 0.3999 - val_acc: 0.8547\n",
      "Epoch 495/500\n",
      "712/712 [==============================] - 0s 119us/step - loss: 0.3681 - acc: 0.8413 - val_loss: 0.4074 - val_acc: 0.8492\n",
      "Epoch 496/500\n",
      "712/712 [==============================] - 0s 102us/step - loss: 0.3567 - acc: 0.8525 - val_loss: 0.4244 - val_acc: 0.8268\n",
      "Epoch 497/500\n",
      "712/712 [==============================] - 0s 86us/step - loss: 0.3706 - acc: 0.8399 - val_loss: 0.4077 - val_acc: 0.8492\n",
      "Epoch 498/500\n",
      "712/712 [==============================] - 0s 79us/step - loss: 0.3616 - acc: 0.8469 - val_loss: 0.4009 - val_acc: 0.8547\n",
      "Epoch 499/500\n",
      "712/712 [==============================] - 0s 79us/step - loss: 0.3731 - acc: 0.8385 - val_loss: 0.4192 - val_acc: 0.8492\n",
      "Epoch 500/500\n",
      "712/712 [==============================] - 0s 87us/step - loss: 0.3700 - acc: 0.8469 - val_loss: 0.4077 - val_acc: 0.8436\n"
     ]
    }
   ],
   "source": [
    "history = nn_model.fit(X_tr, y_tr, batch_size = 64, epochs = 500, validation_data = (X_vld, y_vld), verbose = 1)"
   ]
  },
  {
   "cell_type": "code",
   "execution_count": 94,
   "metadata": {},
   "outputs": [
    {
     "data": {
      "image/png": "[encoded data removed]",
      "text/plain": [
       "<Figure size 1440x1296 with 2 Axes>"
      ]
     },
     "metadata": {
      "needs_background": "light"
     },
     "output_type": "display_data"
    }
   ],
   "source": [
    "hists = [history]\n",
    "hist_df = pd.concat([pd.DataFrame(hist.history) for hist in hists], sort = True)\n",
    "hist_df.index = np.arange(1, len(hist_df) + 1)\n",
    "\n",
    "fig, axs = plt.subplots(nrows = 2, sharex = True, figsize = (20, 18))\n",
    "axs[0].plot(hist_df.val_acc, lw=5, label='Validation Accuracy')\n",
    "axs[0].plot(hist_df.acc, lw=5, label='Training Accuracy')\n",
    "axs[0].set_ylabel('Accuracy')\n",
    "axs[0].set_xlabel('Epoch')\n",
    "axs[0].grid()\n",
    "axs[0].legend(loc=0)\n",
    "axs[1].plot(hist_df.val_loss, lw=5, label='Validation MLogLoss')\n",
    "axs[1].plot(hist_df.loss, lw=5, label='Training MLogLoss')\n",
    "axs[1].set_ylabel('MLogLoss')\n",
    "axs[1].set_xlabel('Epoch')\n",
    "axs[1].grid()\n",
    "axs[1].legend(loc=0)\n",
    "fig.savefig('hist.png', dpi=300)\n",
    "plt.show();"
   ]
  }
 ],
 "metadata": {
  "kernelspec": {
   "display_name": "Python 3",
   "language": "python",
   "name": "python3"
  },
  "language_info": {
   "codemirror_mode": {
    "name": "ipython",
    "version": 3
   },
   "file_extension": ".py",
   "mimetype": "text/x-python",
   "name": "python",
   "nbconvert_exporter": "python",
   "pygments_lexer": "ipython3",
   "version": "3.8.1"
  }
 },
 "nbformat": 4,
 "nbformat_minor": 4
}
